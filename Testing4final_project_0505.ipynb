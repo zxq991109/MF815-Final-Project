{
  "cells": [
    {
      "cell_type": "code",
      "execution_count": null,
      "metadata": {
        "id": "zmR8ARvktNQW",
        "outputId": "bfa8c2d5-bffe-4b67-ee66-280082403631",
        "colab": {
          "base_uri": "https://localhost:8080/"
        }
      },
      "outputs": [
        {
          "output_type": "stream",
          "name": "stdout",
          "text": [
            "[nltk_data] Downloading package stopwords to /root/nltk_data...\n",
            "[nltk_data]   Package stopwords is already up-to-date!\n",
            "[nltk_data] Downloading package punkt to /root/nltk_data...\n",
            "[nltk_data]   Package punkt is already up-to-date!\n",
            "[nltk_data] Downloading package wordnet to /root/nltk_data...\n",
            "[nltk_data]   Package wordnet is already up-to-date!\n"
          ]
        }
      ],
      "source": [
        "import os\n",
        "import sys\n",
        "from IPython.display import HTML, display\n",
        "\n",
        "import numpy as np\n",
        "import pandas as pd\n",
        "import tensorflow as tf\n",
        "from math import ceil\n",
        "from scipy.spatial.distance import cosine\n",
        "\n",
        "import matplotlib.pyplot as plt\n",
        "import seaborn as sns\n",
        "\n",
        "import collections\n",
        "import random\n",
        "import time\n",
        "import string\n",
        "import re\n",
        "\n",
        "import nltk\n",
        "nltk.download('stopwords')\n",
        "nltk.download('punkt')\n",
        "nltk.download('wordnet')\n",
        "from nltk.corpus import stopwords\n",
        "from nltk.stem import WordNetLemmatizer\n",
        "from nltk.tokenize import word_tokenize\n",
        "from nltk.tokenize import sent_tokenize\n",
        "\n",
        "from sklearn.model_selection import train_test_split\n",
        "from sklearn.feature_extraction.text import TfidfVectorizer\n",
        "from sklearn.naive_bayes import MultinomialNB\n",
        "from sklearn.model_selection import GridSearchCV\n",
        "from sklearn.svm import SVC\n",
        "from sklearn.metrics import roc_curve, auc\n",
        "from sklearn.metrics import confusion_matrix\n",
        "from sklearn.metrics import classification_report\n",
        "\n",
        "from tensorflow.keras.preprocessing.sequence import pad_sequences\n",
        "from tensorflow.keras.preprocessing.text import Tokenizer\n",
        "from tensorflow.keras.models import Sequential, Model\n",
        "from tensorflow.keras.layers import Input, Embedding, Dense, Convolution1D, MaxPooling1D, GlobalMaxPooling1D, Flatten, Dropout, LSTM, Bidirectional"
      ]
    },
    {
      "cell_type": "code",
      "source": [
        "from google.colab import drive\n",
        "drive.mount('/content/drive')"
      ],
      "metadata": {
        "colab": {
          "base_uri": "https://localhost:8080/"
        },
        "id": "vkNcqj304WCF",
        "outputId": "012b945a-02dc-469c-b02f-5d6935b9bf03"
      },
      "execution_count": null,
      "outputs": [
        {
          "output_type": "stream",
          "name": "stdout",
          "text": [
            "Drive already mounted at /content/drive; to attempt to forcibly remount, call drive.mount(\"/content/drive\", force_remount=True).\n"
          ]
        }
      ]
    },
    {
      "cell_type": "code",
      "execution_count": null,
      "metadata": {
        "id": "680KUA7NtNQa"
      },
      "outputs": [],
      "source": [
        "##1.\n",
        "# split data\n",
        "##outlier detection\n",
        "SUMMARY_PATH = '/content/drive/Shareddrives/mf815_project/MutualFundSummary'\n",
        "SUMMARY_LABELS_PATH = '/content/drive/Shareddrives/mf815_project/MutualFundLabels.csv'"
      ]
    },
    {
      "cell_type": "code",
      "execution_count": null,
      "metadata": {
        "id": "9OOHIul1tNQa"
      },
      "outputs": [],
      "source": [
        "# Progress bar\n",
        "def progress(value, max=100):\n",
        "    return HTML(\"\"\"\n",
        "        <progress\n",
        "            value='{value}'\n",
        "            max='{max}',\n",
        "            style='width: 100%'\n",
        "        >\n",
        "            {value}\n",
        "        </progress>\n",
        "    \"\"\".format(value=value, max=max))\n",
        "\n",
        "# Save a word2vec dictionary.\n",
        "def save_word2vec(filename):\n",
        "    with open(os.path.join('/content/drive/Shareddrives/mf815_project', filename),'a' , encoding=\"latin-1\") as f : #utf-8\n",
        "        for k, v in word2vec.items():\n",
        "            line = k+' '+str(list(v)).strip('[]').replace(',','')+'\\n'\n",
        "            f.write(line)\n",
        "\n",
        "# Load a word2vec dictionary.\n",
        "def load_word2vec(filename):\n",
        "    word2vec = {}\n",
        "    with open(os.path.join('/content/drive/Shareddrives/mf815_project', filename), encoding=\"latin-1\") as f:\n",
        "        for line in f:\n",
        "            try :\n",
        "                values = line.split()\n",
        "                word = values[0]\n",
        "                vec = np.asarray(values[1:], dtype='float32')\n",
        "                word2vec[word] = vec\n",
        "            except :\n",
        "                None\n",
        "    return word2vec\n",
        "\n",
        "# read the repo in PATH and append the texts in a list\n",
        "def get_data(PATH):\n",
        "    list_dir = os.listdir(PATH)\n",
        "    texts = []\n",
        "    fund_names = []\n",
        "    out = display(progress(0, len(list_dir)-1), display_id=True)\n",
        "    for ii, filename in enumerate(list_dir) :\n",
        "        with open(PATH+'/'+filename, 'r', encoding=\"latin-1\") as f :\n",
        "            txt = f.read()\n",
        "            try :\n",
        "                txt_split = txt.split('<head_breaker>')\n",
        "                summary = txt_split[1].strip()\n",
        "                fund_name = txt_split[0].strip()\n",
        "            except :\n",
        "                summary = txt\n",
        "                fund_name = ''\n",
        "        texts.append(summary)\n",
        "        fund_names.append(fund_name)\n",
        "        out.update(progress(ii, len(list_dir)-1))\n",
        "    return fund_names, texts\n",
        "\n",
        "glove_word2vec = 'glove.6B.50d.txt'\n",
        "our_word2vec = 'word2vec_perso.txt'"
      ]
    },
    {
      "cell_type": "code",
      "execution_count": null,
      "metadata": {
        "id": "gDWbU05XtNQb",
        "outputId": "4f01fa68-97ca-4692-c697-5aaf87965023",
        "colab": {
          "base_uri": "https://localhost:8080/",
          "height": 34
        }
      },
      "outputs": [
        {
          "output_type": "display_data",
          "data": {
            "text/plain": [
              "<IPython.core.display.HTML object>"
            ],
            "text/html": [
              "\n",
              "        <progress\n",
              "            value='544'\n",
              "            max='544',\n",
              "            style='width: 100%'\n",
              "        >\n",
              "            544\n",
              "        </progress>\n",
              "    "
            ]
          },
          "metadata": {}
        }
      ],
      "source": [
        "# Get the summaries\n",
        "fund_names, summaries = get_data(SUMMARY_PATH)\n",
        "#X = np.array(summaries)"
      ]
    },
    {
      "cell_type": "code",
      "execution_count": null,
      "metadata": {
        "id": "qmblDM67tNQc",
        "outputId": "72e7a8ac-a586-48da-ece5-5c21e574495b",
        "colab": {
          "base_uri": "https://localhost:8080/",
          "height": 435
        }
      },
      "outputs": [
        {
          "output_type": "execute_result",
          "data": {
            "text/plain": [
              "                     id                         fund_name Performance fee?  \\\n",
              "0  0000051931-18-000151  American Funds College 2018 Fund             None   \n",
              "1  0000051931-18-000151  American Funds College 2021 Fund             None   \n",
              "2  0000051931-18-000151  American Funds College 2024 Fund             None   \n",
              "3  0000051931-18-000151  American Funds College 2027 Fund             None   \n",
              "4  0000051931-18-000151  American Funds College 2030 Fund             None   \n",
              "\n",
              "        Investment_Strategy Leverage?        Portfolio composition  \\\n",
              "0  Balanced Fund (Low Risk)       Yes  Investment grade securities   \n",
              "1  Balanced Fund (Low Risk)       Yes  Investment grade securities   \n",
              "2  Balanced Fund (Low Risk)       Yes  Investment grade securities   \n",
              "3  Balanced Fund (Low Risk)       Yes  Investment grade securities   \n",
              "4  Balanced Fund (Low Risk)       Yes  Investment grade securities   \n",
              "\n",
              "   Concentration  \n",
              "0    Diversified  \n",
              "1    Diversified  \n",
              "2    Diversified  \n",
              "3    Diversified  \n",
              "4    Diversified  "
            ],
            "text/html": [
              "\n",
              "  <div id=\"df-f98f2b34-9116-475d-96e0-f6b10d73c24a\">\n",
              "    <div class=\"colab-df-container\">\n",
              "      <div>\n",
              "<style scoped>\n",
              "    .dataframe tbody tr th:only-of-type {\n",
              "        vertical-align: middle;\n",
              "    }\n",
              "\n",
              "    .dataframe tbody tr th {\n",
              "        vertical-align: top;\n",
              "    }\n",
              "\n",
              "    .dataframe thead th {\n",
              "        text-align: right;\n",
              "    }\n",
              "</style>\n",
              "<table border=\"1\" class=\"dataframe\">\n",
              "  <thead>\n",
              "    <tr style=\"text-align: right;\">\n",
              "      <th></th>\n",
              "      <th>id</th>\n",
              "      <th>fund_name</th>\n",
              "      <th>Performance fee?</th>\n",
              "      <th>Investment_Strategy</th>\n",
              "      <th>Leverage?</th>\n",
              "      <th>Portfolio composition</th>\n",
              "      <th>Concentration</th>\n",
              "    </tr>\n",
              "  </thead>\n",
              "  <tbody>\n",
              "    <tr>\n",
              "      <th>0</th>\n",
              "      <td>0000051931-18-000151</td>\n",
              "      <td>American Funds College 2018 Fund</td>\n",
              "      <td>None</td>\n",
              "      <td>Balanced Fund (Low Risk)</td>\n",
              "      <td>Yes</td>\n",
              "      <td>Investment grade securities</td>\n",
              "      <td>Diversified</td>\n",
              "    </tr>\n",
              "    <tr>\n",
              "      <th>1</th>\n",
              "      <td>0000051931-18-000151</td>\n",
              "      <td>American Funds College 2021 Fund</td>\n",
              "      <td>None</td>\n",
              "      <td>Balanced Fund (Low Risk)</td>\n",
              "      <td>Yes</td>\n",
              "      <td>Investment grade securities</td>\n",
              "      <td>Diversified</td>\n",
              "    </tr>\n",
              "    <tr>\n",
              "      <th>2</th>\n",
              "      <td>0000051931-18-000151</td>\n",
              "      <td>American Funds College 2024 Fund</td>\n",
              "      <td>None</td>\n",
              "      <td>Balanced Fund (Low Risk)</td>\n",
              "      <td>Yes</td>\n",
              "      <td>Investment grade securities</td>\n",
              "      <td>Diversified</td>\n",
              "    </tr>\n",
              "    <tr>\n",
              "      <th>3</th>\n",
              "      <td>0000051931-18-000151</td>\n",
              "      <td>American Funds College 2027 Fund</td>\n",
              "      <td>None</td>\n",
              "      <td>Balanced Fund (Low Risk)</td>\n",
              "      <td>Yes</td>\n",
              "      <td>Investment grade securities</td>\n",
              "      <td>Diversified</td>\n",
              "    </tr>\n",
              "    <tr>\n",
              "      <th>4</th>\n",
              "      <td>0000051931-18-000151</td>\n",
              "      <td>American Funds College 2030 Fund</td>\n",
              "      <td>None</td>\n",
              "      <td>Balanced Fund (Low Risk)</td>\n",
              "      <td>Yes</td>\n",
              "      <td>Investment grade securities</td>\n",
              "      <td>Diversified</td>\n",
              "    </tr>\n",
              "  </tbody>\n",
              "</table>\n",
              "</div>\n",
              "      <button class=\"colab-df-convert\" onclick=\"convertToInteractive('df-f98f2b34-9116-475d-96e0-f6b10d73c24a')\"\n",
              "              title=\"Convert this dataframe to an interactive table.\"\n",
              "              style=\"display:none;\">\n",
              "        \n",
              "  <svg xmlns=\"http://www.w3.org/2000/svg\" height=\"24px\"viewBox=\"0 0 24 24\"\n",
              "       width=\"24px\">\n",
              "    <path d=\"M0 0h24v24H0V0z\" fill=\"none\"/>\n",
              "    <path d=\"M18.56 5.44l.94 2.06.94-2.06 2.06-.94-2.06-.94-.94-2.06-.94 2.06-2.06.94zm-11 1L8.5 8.5l.94-2.06 2.06-.94-2.06-.94L8.5 2.5l-.94 2.06-2.06.94zm10 10l.94 2.06.94-2.06 2.06-.94-2.06-.94-.94-2.06-.94 2.06-2.06.94z\"/><path d=\"M17.41 7.96l-1.37-1.37c-.4-.4-.92-.59-1.43-.59-.52 0-1.04.2-1.43.59L10.3 9.45l-7.72 7.72c-.78.78-.78 2.05 0 2.83L4 21.41c.39.39.9.59 1.41.59.51 0 1.02-.2 1.41-.59l7.78-7.78 2.81-2.81c.8-.78.8-2.07 0-2.86zM5.41 20L4 18.59l7.72-7.72 1.47 1.35L5.41 20z\"/>\n",
              "  </svg>\n",
              "      </button>\n",
              "      \n",
              "  <style>\n",
              "    .colab-df-container {\n",
              "      display:flex;\n",
              "      flex-wrap:wrap;\n",
              "      gap: 12px;\n",
              "    }\n",
              "\n",
              "    .colab-df-convert {\n",
              "      background-color: #E8F0FE;\n",
              "      border: none;\n",
              "      border-radius: 50%;\n",
              "      cursor: pointer;\n",
              "      display: none;\n",
              "      fill: #1967D2;\n",
              "      height: 32px;\n",
              "      padding: 0 0 0 0;\n",
              "      width: 32px;\n",
              "    }\n",
              "\n",
              "    .colab-df-convert:hover {\n",
              "      background-color: #E2EBFA;\n",
              "      box-shadow: 0px 1px 2px rgba(60, 64, 67, 0.3), 0px 1px 3px 1px rgba(60, 64, 67, 0.15);\n",
              "      fill: #174EA6;\n",
              "    }\n",
              "\n",
              "    [theme=dark] .colab-df-convert {\n",
              "      background-color: #3B4455;\n",
              "      fill: #D2E3FC;\n",
              "    }\n",
              "\n",
              "    [theme=dark] .colab-df-convert:hover {\n",
              "      background-color: #434B5C;\n",
              "      box-shadow: 0px 1px 3px 1px rgba(0, 0, 0, 0.15);\n",
              "      filter: drop-shadow(0px 1px 2px rgba(0, 0, 0, 0.3));\n",
              "      fill: #FFFFFF;\n",
              "    }\n",
              "  </style>\n",
              "\n",
              "      <script>\n",
              "        const buttonEl =\n",
              "          document.querySelector('#df-f98f2b34-9116-475d-96e0-f6b10d73c24a button.colab-df-convert');\n",
              "        buttonEl.style.display =\n",
              "          google.colab.kernel.accessAllowed ? 'block' : 'none';\n",
              "\n",
              "        async function convertToInteractive(key) {\n",
              "          const element = document.querySelector('#df-f98f2b34-9116-475d-96e0-f6b10d73c24a');\n",
              "          const dataTable =\n",
              "            await google.colab.kernel.invokeFunction('convertToInteractive',\n",
              "                                                     [key], {});\n",
              "          if (!dataTable) return;\n",
              "\n",
              "          const docLinkHtml = 'Like what you see? Visit the ' +\n",
              "            '<a target=\"_blank\" href=https://colab.research.google.com/notebooks/data_table.ipynb>data table notebook</a>'\n",
              "            + ' to learn more about interactive tables.';\n",
              "          element.innerHTML = '';\n",
              "          dataTable['output_type'] = 'display_data';\n",
              "          await google.colab.output.renderOutput(dataTable, element);\n",
              "          const docLink = document.createElement('div');\n",
              "          docLink.innerHTML = docLinkHtml;\n",
              "          element.appendChild(docLink);\n",
              "        }\n",
              "      </script>\n",
              "    </div>\n",
              "  </div>\n",
              "  "
            ]
          },
          "metadata": {},
          "execution_count": 82
        }
      ],
      "source": [
        "df_label = pd.read_csv(SUMMARY_LABELS_PATH)\n",
        "df_label.columns = df_label.columns.str.replace('Ivestment Strategy', 'Investment_Strategy')\n",
        "df_label.head()"
      ]
    },
    {
      "cell_type": "code",
      "execution_count": null,
      "metadata": {
        "id": "mUOCAxK0tNQc",
        "outputId": "19ec1155-3e68-4fbe-bb77-2586947c5418",
        "colab": {
          "base_uri": "https://localhost:8080/"
        }
      },
      "outputs": [
        {
          "output_type": "stream",
          "name": "stdout",
          "text": [
            "301               Columbia Mortgage Opportunities Fund\n",
            "423             Anchor Tactical Equity Strategies Fund\n",
            "424          Anchor Tactical Municipal Strategies Fund\n",
            "425    Dreyfus Alternative Diversifier Strategies Fund\n",
            "Name: fund_name, dtype: object\n"
          ]
        }
      ],
      "source": [
        "outlier_funds = df_label.loc[df_label['Investment_Strategy']=='Long Short Funds (High Risk)','fund_name']\n",
        "print(outlier_funds)"
      ]
    },
    {
      "cell_type": "code",
      "execution_count": null,
      "metadata": {
        "id": "L9gqfEwItNQd",
        "outputId": "013befd9-66a3-4fa0-ea61-2e9fbeb00cc9",
        "colab": {
          "base_uri": "https://localhost:8080/"
        }
      },
      "outputs": [
        {
          "output_type": "execute_result",
          "data": {
            "text/plain": [
              "[79, 87, 112, 148]"
            ]
          },
          "metadata": {},
          "execution_count": 84
        }
      ],
      "source": [
        "outlier_idx = [fund_names.index(fund) for fund in fund_names if fund in list(outlier_funds)]\n",
        "outlier_idx\n",
        "#outlier_summary = summaries[outlier_idx]"
      ]
    },
    {
      "cell_type": "code",
      "execution_count": null,
      "metadata": {
        "id": "qC4t1KD7tNQd",
        "outputId": "4397d2e8-23a1-402d-ce4a-069d301ef6fa",
        "colab": {
          "base_uri": "https://localhost:8080/",
          "height": 54
        }
      },
      "outputs": [
        {
          "output_type": "execute_result",
          "data": {
            "text/plain": [
              "\"\\noutlier_summary_df = pd.DataFrame({'summary':[outlier_summary[i][15:] for i in range(4)]})\\noutlier_summary_df\\n\""
            ],
            "application/vnd.google.colaboratory.intrinsic+json": {
              "type": "string"
            }
          },
          "metadata": {},
          "execution_count": 85
        }
      ],
      "source": [
        "'''\n",
        "outlier_summary_df = pd.DataFrame({'summary':[outlier_summary[i][15:] for i in range(4)]})\n",
        "outlier_summary_df\n",
        "'''"
      ]
    },
    {
      "cell_type": "code",
      "execution_count": null,
      "metadata": {
        "id": "07D8LD7XtNQe",
        "outputId": "4a3f36a4-91e1-42ba-a1bf-1dc4d749d73f",
        "colab": {
          "base_uri": "https://localhost:8080/",
          "height": 37
        }
      },
      "outputs": [
        {
          "output_type": "execute_result",
          "data": {
            "text/plain": [
              "'\\noutlier_summary = [summaries[idx] for idx in outlier_idx]\\noutlier_summary\\n'"
            ],
            "application/vnd.google.colaboratory.intrinsic+json": {
              "type": "string"
            }
          },
          "metadata": {},
          "execution_count": 86
        }
      ],
      "source": [
        "'''\n",
        "outlier_summary = [summaries[idx] for idx in outlier_idx]\n",
        "outlier_summary\n",
        "'''"
      ]
    },
    {
      "cell_type": "code",
      "execution_count": null,
      "metadata": {
        "id": "nLlXgYBQtNQe"
      },
      "outputs": [],
      "source": [
        "\n",
        "other_funds = [fund for fund in fund_names if fund not in list(outlier_funds)]\n",
        "other_fund_summaries = [summary for summary in summaries if summaries.index(summary) not in outlier_idx]"
      ]
    },
    {
      "cell_type": "code",
      "execution_count": null,
      "metadata": {
        "id": "SQwMjCdKtNQe",
        "outputId": "d8a27029-00c0-4d52-90f2-f3b9088487ef",
        "colab": {
          "base_uri": "https://localhost:8080/"
        }
      },
      "outputs": [
        {
          "output_type": "stream",
          "name": "stdout",
          "text": [
            "541 541\n"
          ]
        }
      ],
      "source": [
        "print(len(other_funds),len(other_fund_summaries))"
      ]
    },
    {
      "cell_type": "code",
      "execution_count": null,
      "metadata": {
        "id": "u_RZVMxitNQf",
        "outputId": "fc99055f-6e67-4908-fd28-dd4f1950eac3",
        "colab": {
          "base_uri": "https://localhost:8080/",
          "height": 591
        }
      },
      "outputs": [
        {
          "output_type": "execute_result",
          "data": {
            "text/plain": [
              "                                             fund_name  \\\n",
              "536  Variable Portfolio - Victory Sycamore Establis...   \n",
              "537  Western Asset Intermediate Maturity California...   \n",
              "538  Western Asset Intermediate Maturity New York M...   \n",
              "539        Western Asset Massachusetts Municipals Fund   \n",
              "540                                  World Growth Fund   \n",
              "\n",
              "                                               summary                    id  \\\n",
              "536  SUMMARY OF CTIVPSM â VICTORY SYCAMORE ESTABL...  0001193125-18-139001   \n",
              "537  Investment objective\\n\\nThe fund seeks to prov...  0001193125-18-091654   \n",
              "538  Investment objective\\n\\nThe fund seeks to prov...  0001193125-18-091654   \n",
              "539  Investment objective\\n\\nThe fund seeks to prov...  0001193125-18-091654   \n",
              "540  INVESTMENT OBJECTIVE\\nThe USAA World Growth Fu...  0001683863-18-000339   \n",
              "\n",
              "          Performance fee? Investment_Strategy Leverage?  \\\n",
              "536                   None                   2        No   \n",
              "537                   None                   1       Yes   \n",
              "538                   None                   1       Yes   \n",
              "539                   None                   1       Yes   \n",
              "540  Some performance Fees                   2        No   \n",
              "\n",
              "                                 Portfolio composition  \\\n",
              "536                                    Listed Equities   \n",
              "537                        Investment grade securities   \n",
              "538                        Investment grade securities   \n",
              "539                        Investment grade securities   \n",
              "540  Sub-investment grade securities or emerging ma...   \n",
              "\n",
              "                                      Concentration  \n",
              "536                                     Diversified  \n",
              "537  Concentrated by issuer / sector / jurisdiction  \n",
              "538  Concentrated by issuer / sector / jurisdiction  \n",
              "539  Concentrated by issuer / sector / jurisdiction  \n",
              "540                                     Diversified  "
            ],
            "text/html": [
              "\n",
              "  <div id=\"df-551bd945-2ca4-4704-8ff3-42a271fbf64d\">\n",
              "    <div class=\"colab-df-container\">\n",
              "      <div>\n",
              "<style scoped>\n",
              "    .dataframe tbody tr th:only-of-type {\n",
              "        vertical-align: middle;\n",
              "    }\n",
              "\n",
              "    .dataframe tbody tr th {\n",
              "        vertical-align: top;\n",
              "    }\n",
              "\n",
              "    .dataframe thead th {\n",
              "        text-align: right;\n",
              "    }\n",
              "</style>\n",
              "<table border=\"1\" class=\"dataframe\">\n",
              "  <thead>\n",
              "    <tr style=\"text-align: right;\">\n",
              "      <th></th>\n",
              "      <th>fund_name</th>\n",
              "      <th>summary</th>\n",
              "      <th>id</th>\n",
              "      <th>Performance fee?</th>\n",
              "      <th>Investment_Strategy</th>\n",
              "      <th>Leverage?</th>\n",
              "      <th>Portfolio composition</th>\n",
              "      <th>Concentration</th>\n",
              "    </tr>\n",
              "  </thead>\n",
              "  <tbody>\n",
              "    <tr>\n",
              "      <th>536</th>\n",
              "      <td>Variable Portfolio - Victory Sycamore Establis...</td>\n",
              "      <td>SUMMARY OF CTIVPSM â VICTORY SYCAMORE ESTABL...</td>\n",
              "      <td>0001193125-18-139001</td>\n",
              "      <td>None</td>\n",
              "      <td>2</td>\n",
              "      <td>No</td>\n",
              "      <td>Listed Equities</td>\n",
              "      <td>Diversified</td>\n",
              "    </tr>\n",
              "    <tr>\n",
              "      <th>537</th>\n",
              "      <td>Western Asset Intermediate Maturity California...</td>\n",
              "      <td>Investment objective\\n\\nThe fund seeks to prov...</td>\n",
              "      <td>0001193125-18-091654</td>\n",
              "      <td>None</td>\n",
              "      <td>1</td>\n",
              "      <td>Yes</td>\n",
              "      <td>Investment grade securities</td>\n",
              "      <td>Concentrated by issuer / sector / jurisdiction</td>\n",
              "    </tr>\n",
              "    <tr>\n",
              "      <th>538</th>\n",
              "      <td>Western Asset Intermediate Maturity New York M...</td>\n",
              "      <td>Investment objective\\n\\nThe fund seeks to prov...</td>\n",
              "      <td>0001193125-18-091654</td>\n",
              "      <td>None</td>\n",
              "      <td>1</td>\n",
              "      <td>Yes</td>\n",
              "      <td>Investment grade securities</td>\n",
              "      <td>Concentrated by issuer / sector / jurisdiction</td>\n",
              "    </tr>\n",
              "    <tr>\n",
              "      <th>539</th>\n",
              "      <td>Western Asset Massachusetts Municipals Fund</td>\n",
              "      <td>Investment objective\\n\\nThe fund seeks to prov...</td>\n",
              "      <td>0001193125-18-091654</td>\n",
              "      <td>None</td>\n",
              "      <td>1</td>\n",
              "      <td>Yes</td>\n",
              "      <td>Investment grade securities</td>\n",
              "      <td>Concentrated by issuer / sector / jurisdiction</td>\n",
              "    </tr>\n",
              "    <tr>\n",
              "      <th>540</th>\n",
              "      <td>World Growth Fund</td>\n",
              "      <td>INVESTMENT OBJECTIVE\\nThe USAA World Growth Fu...</td>\n",
              "      <td>0001683863-18-000339</td>\n",
              "      <td>Some performance Fees</td>\n",
              "      <td>2</td>\n",
              "      <td>No</td>\n",
              "      <td>Sub-investment grade securities or emerging ma...</td>\n",
              "      <td>Diversified</td>\n",
              "    </tr>\n",
              "  </tbody>\n",
              "</table>\n",
              "</div>\n",
              "      <button class=\"colab-df-convert\" onclick=\"convertToInteractive('df-551bd945-2ca4-4704-8ff3-42a271fbf64d')\"\n",
              "              title=\"Convert this dataframe to an interactive table.\"\n",
              "              style=\"display:none;\">\n",
              "        \n",
              "  <svg xmlns=\"http://www.w3.org/2000/svg\" height=\"24px\"viewBox=\"0 0 24 24\"\n",
              "       width=\"24px\">\n",
              "    <path d=\"M0 0h24v24H0V0z\" fill=\"none\"/>\n",
              "    <path d=\"M18.56 5.44l.94 2.06.94-2.06 2.06-.94-2.06-.94-.94-2.06-.94 2.06-2.06.94zm-11 1L8.5 8.5l.94-2.06 2.06-.94-2.06-.94L8.5 2.5l-.94 2.06-2.06.94zm10 10l.94 2.06.94-2.06 2.06-.94-2.06-.94-.94-2.06-.94 2.06-2.06.94z\"/><path d=\"M17.41 7.96l-1.37-1.37c-.4-.4-.92-.59-1.43-.59-.52 0-1.04.2-1.43.59L10.3 9.45l-7.72 7.72c-.78.78-.78 2.05 0 2.83L4 21.41c.39.39.9.59 1.41.59.51 0 1.02-.2 1.41-.59l7.78-7.78 2.81-2.81c.8-.78.8-2.07 0-2.86zM5.41 20L4 18.59l7.72-7.72 1.47 1.35L5.41 20z\"/>\n",
              "  </svg>\n",
              "      </button>\n",
              "      \n",
              "  <style>\n",
              "    .colab-df-container {\n",
              "      display:flex;\n",
              "      flex-wrap:wrap;\n",
              "      gap: 12px;\n",
              "    }\n",
              "\n",
              "    .colab-df-convert {\n",
              "      background-color: #E8F0FE;\n",
              "      border: none;\n",
              "      border-radius: 50%;\n",
              "      cursor: pointer;\n",
              "      display: none;\n",
              "      fill: #1967D2;\n",
              "      height: 32px;\n",
              "      padding: 0 0 0 0;\n",
              "      width: 32px;\n",
              "    }\n",
              "\n",
              "    .colab-df-convert:hover {\n",
              "      background-color: #E2EBFA;\n",
              "      box-shadow: 0px 1px 2px rgba(60, 64, 67, 0.3), 0px 1px 3px 1px rgba(60, 64, 67, 0.15);\n",
              "      fill: #174EA6;\n",
              "    }\n",
              "\n",
              "    [theme=dark] .colab-df-convert {\n",
              "      background-color: #3B4455;\n",
              "      fill: #D2E3FC;\n",
              "    }\n",
              "\n",
              "    [theme=dark] .colab-df-convert:hover {\n",
              "      background-color: #434B5C;\n",
              "      box-shadow: 0px 1px 3px 1px rgba(0, 0, 0, 0.15);\n",
              "      filter: drop-shadow(0px 1px 2px rgba(0, 0, 0, 0.3));\n",
              "      fill: #FFFFFF;\n",
              "    }\n",
              "  </style>\n",
              "\n",
              "      <script>\n",
              "        const buttonEl =\n",
              "          document.querySelector('#df-551bd945-2ca4-4704-8ff3-42a271fbf64d button.colab-df-convert');\n",
              "        buttonEl.style.display =\n",
              "          google.colab.kernel.accessAllowed ? 'block' : 'none';\n",
              "\n",
              "        async function convertToInteractive(key) {\n",
              "          const element = document.querySelector('#df-551bd945-2ca4-4704-8ff3-42a271fbf64d');\n",
              "          const dataTable =\n",
              "            await google.colab.kernel.invokeFunction('convertToInteractive',\n",
              "                                                     [key], {});\n",
              "          if (!dataTable) return;\n",
              "\n",
              "          const docLinkHtml = 'Like what you see? Visit the ' +\n",
              "            '<a target=\"_blank\" href=https://colab.research.google.com/notebooks/data_table.ipynb>data table notebook</a>'\n",
              "            + ' to learn more about interactive tables.';\n",
              "          element.innerHTML = '';\n",
              "          dataTable['output_type'] = 'display_data';\n",
              "          await google.colab.output.renderOutput(dataTable, element);\n",
              "          const docLink = document.createElement('div');\n",
              "          docLink.innerHTML = docLinkHtml;\n",
              "          element.appendChild(docLink);\n",
              "        }\n",
              "      </script>\n",
              "    </div>\n",
              "  </div>\n",
              "  "
            ]
          },
          "metadata": {},
          "execution_count": 89
        }
      ],
      "source": [
        "df_label['Investment_Strategy'].replace(['Balanced Fund (Low Risk)', 'Fixed Income Long Only (Low Risk)', 'Equity Long Only (Low Risk)', 'Long Short Funds (High Risk)'],\n",
        "                        [0, 1, 2, 3], inplace=True)\n",
        "df_label = df_label[df_label['Investment_Strategy']!=\"Commodities Fund (Low Risk)\"] # Remove the fifth category, which is beyond the scope of our project\n",
        "df = pd.DataFrame(data={'fund_name':other_funds, 'summary':other_fund_summaries})  \n",
        "df_merge = df.merge(df_label, on =['fund_name'], how ='left') # Whole dataset except for the fourth category, which will be classified using outlier detection \n",
        "df_merge.tail()"
      ]
    },
    {
      "cell_type": "markdown",
      "source": [
        "1. Split train and test"
      ],
      "metadata": {
        "id": "GN_qEcN6RY1d"
      }
    },
    {
      "cell_type": "code",
      "execution_count": null,
      "metadata": {
        "id": "HaAZDIFQtNQf"
      },
      "outputs": [],
      "source": [
        "import random\n",
        "random.seed(10)\n",
        "n_train = int(0.7*len(df_merge))\n",
        "train_idx = random.sample(list(np.arange(len(df_merge))), n_train)\n",
        "test_idx = list(set(np.arange(len(df_merge))).difference(set(train_idx)))\n",
        "\n",
        "X_train = df_merge.loc[train_idx, 'summary']  # train data\n",
        "y_train = df_merge.loc[train_idx, 'Investment_Strategy']\n",
        "\n",
        "X_test = df_merge.loc[test_idx, 'summary'] # test\n",
        "y_test = df_merge.loc[test_idx, 'Investment_Strategy']"
      ]
    },
    {
      "cell_type": "code",
      "execution_count": null,
      "metadata": {
        "id": "6zm95UYatNQf"
      },
      "outputs": [],
      "source": [
        "import pandas as pd\n",
        "import os\n",
        "import glob\n",
        "\n",
        "filename_l = []\n",
        "os.chdir(SUMMARY_PATH)\n",
        "\n",
        "for files in glob.glob(\"*.txt\"):\n",
        "    fileName, fileExtension = os.path.splitext(files)\n",
        "    filename_l.append(fileName) #filename without extension"
      ]
    },
    {
      "cell_type": "code",
      "execution_count": null,
      "metadata": {
        "id": "xvcHjLjktNQg"
      },
      "outputs": [],
      "source": [
        "bf_summary = df_merge.loc[df_merge['Investment_Strategy']==0,'summary']\n",
        "fi_summary = df_merge.loc[df_merge['Investment_Strategy']==1,'summary']\n",
        "eq_summary = df_merge.loc[df_merge['Investment_Strategy']==2,'summary']"
      ]
    },
    {
      "cell_type": "code",
      "execution_count": null,
      "metadata": {
        "id": "D6iH9Kx5tNQg"
      },
      "outputs": [],
      "source": [
        "#split the train data acoording to the four investment strategy\n",
        "bf_l = df_merge.index[df_merge['Investment_Strategy']==0].tolist()\n",
        "fi_l = df_merge.index[df_merge['Investment_Strategy']==1].tolist()\n",
        "eq_l = df_merge.index[df_merge['Investment_Strategy']==2].tolist()\n",
        "#ls_l = df_merge.index[df_merge['Investment_Strategy']==3].tolist()"
      ]
    },
    {
      "cell_type": "code",
      "execution_count": null,
      "metadata": {
        "id": "ou4fipw8tNQg"
      },
      "outputs": [],
      "source": [
        "# df_label = pd.read_csv(SUMMARY_LABELS_PATH)\n",
        "\n",
        "# comp = df_label['Ivestment Strategy']\n",
        "# high_risk = df_label[comp == 'Long Short Funds (High Risk)']\n",
        "# high_risk_fund_names = high_risk['fund_name']\n",
        "\n",
        "# high_risk_fund_names"
      ]
    },
    {
      "cell_type": "markdown",
      "source": [
        "2. skip gram model"
      ],
      "metadata": {
        "id": "PHm-JKH8RnGc"
      }
    },
    {
      "cell_type": "code",
      "execution_count": null,
      "metadata": {
        "id": "pzviLFJrtNQh",
        "outputId": "868868b2-d8db-4268-dbee-194d106c945f",
        "colab": {
          "base_uri": "https://localhost:8080/",
          "height": 34
        }
      },
      "outputs": [
        {
          "output_type": "display_data",
          "data": {
            "text/plain": [
              "<IPython.core.display.HTML object>"
            ],
            "text/html": [
              "\n",
              "        <progress\n",
              "            value='544'\n",
              "            max='544',\n",
              "            style='width: 100%'\n",
              "        >\n",
              "            544\n",
              "        </progress>\n",
              "    "
            ]
          },
          "metadata": {}
        }
      ],
      "source": [
        "##2.\n",
        "# skip gram model\n",
        "# Get the summaries\n",
        "stop_words = set(stopwords.words(\"english\")+list(string.punctuation)+['``',\"''\"]+[\"]\",\"[\",\"*\"]+['doe', 'ha', 'wa'])\n",
        "\n",
        "fund_names, summaries = get_data(SUMMARY_PATH)\n",
        "# clean and tokenize the text -> we don't want to lemmatize\n",
        "def tokenizer(txt):\n",
        "    txt = txt.replace('\\n', ' ').replace('\\t', ' ').lower()\n",
        "    word_tokens = word_tokenize(txt)\n",
        "    filtered_sentence = [w for w in word_tokens if not w in stop_words]\n",
        "    filtered_sentence = [w for w in filtered_sentence if re.sub(\"[^A-Za-z ]+\",'',w) != ''] \n",
        "    return filtered_sentence\n",
        "\n",
        "text_words = np.concatenate([tokenizer(summary) for summary in summaries])\n"
      ]
    },
    {
      "cell_type": "code",
      "execution_count": null,
      "metadata": {
        "id": "jdDIVpBAtNQh"
      },
      "outputs": [],
      "source": [
        "##process skip gram\n",
        "batch_size = 128 \n",
        "num_epochs = 2 \n",
        "embedding_size = 50 \n",
        "max_vocabulary_size = 5000 \n",
        "min_occurrence = 10\n",
        "skip_window = 3 \n",
        "num_skips = 4 \n",
        "\n",
        "count = [('UNK', -1)]\n",
        "count.extend(collections.Counter(text_words).most_common(max_vocabulary_size - 1))\n",
        "for i in range(len(count) - 1, -1, -1):\n",
        "    if count[i][1] < min_occurrence:\n",
        "        count.pop(i)\n",
        "    else:\n",
        "        break"
      ]
    },
    {
      "cell_type": "code",
      "execution_count": null,
      "metadata": {
        "id": "Hq22wEs4tNQh",
        "outputId": "bfc2ae26-e32d-4e94-c9b5-0a2967a878e0",
        "colab": {
          "base_uri": "https://localhost:8080/"
        }
      },
      "outputs": [
        {
          "output_type": "stream",
          "name": "stdout",
          "text": [
            "size of the vocabulary : 3582\n"
          ]
        }
      ],
      "source": [
        "word2id = dict()\n",
        "for i, (word, _)in enumerate(count):\n",
        "    word2id[word] = i\n",
        "id2word = dict(zip(word2id.values(), word2id.keys()))\n",
        "vocab_size = len(id2word)\n",
        "\n",
        "print ('size of the vocabulary : '+str(vocab_size))"
      ]
    },
    {
      "cell_type": "code",
      "execution_count": null,
      "metadata": {
        "id": "N9T1fNEttNQh",
        "outputId": "5ca971cd-7ca4-4ebd-9f4b-4f866bf6c491",
        "colab": {
          "base_uri": "https://localhost:8080/"
        }
      },
      "outputs": [
        {
          "output_type": "stream",
          "name": "stdout",
          "text": [
            "[1294, 0, 8, 3, 123, 3, 123, 8, 1088, 288, 471, 181, 27, 567, 77, 27, 62, 266, 0, 1091]\n"
          ]
        }
      ],
      "source": [
        "# create data\n",
        "data = list()\n",
        "unk_count = 0\n",
        "for word in text_words:\n",
        "    # Retrieve a word id, or assign it index 0 ('UNK') if not in dictionary\n",
        "    index = word2id.get(word, 0)\n",
        "    if index == 0:\n",
        "        unk_count += 1\n",
        "    data.append(index)\n",
        "count[0] = ('UNK', unk_count)\n",
        "\n",
        "print(data[:20])"
      ]
    },
    {
      "cell_type": "code",
      "execution_count": null,
      "metadata": {
        "id": "mjRBRho0tNQi"
      },
      "outputs": [],
      "source": [
        "def to_one_hot(data_point_index, vocab_size):\n",
        "    temp = np.zeros(vocab_size)\n",
        "    temp[data_point_index] = 1\n",
        "    return temp\n",
        "\n",
        "def batch_generator(batch_size, num_skips, skip_window, vocab_size):\n",
        "    data_index = 0\n",
        "    while True :\n",
        "        assert batch_size % num_skips == 0\n",
        "        assert num_skips <= 2 * skip_window\n",
        "        # batch is filled with 128 inputs\n",
        "        batch = np.ndarray(shape=(batch_size), dtype=np.int32)\n",
        "        # labels is filled with 128 outputs \n",
        "        labels = np.ndarray(shape=(batch_size), dtype=np.int32)\n",
        "        span = 2 * skip_window + 1\n",
        "        # buffer keep track of the visited indexes visited\n",
        "        buffer = collections.deque(maxlen=span)\n",
        "        if data_index + span > len(data):\n",
        "            data_index = 0\n",
        "            # We stop the loop when we went through all the corpus\n",
        "            break\n",
        "        buffer.extend(data[data_index:data_index + span])\n",
        "        data_index += span\n",
        "        for i in range(batch_size // num_skips):  \n",
        "            # Take the context current word\n",
        "            context_words = [w for w in range(span) if w != skip_window]\n",
        "            # Randomly select num_skips words in the context\n",
        "            words_to_use = random.sample(context_words, num_skips)\n",
        "            for j, context_word in enumerate(words_to_use):\n",
        "                # Creates one raw data\n",
        "                batch[i * num_skips + j] = buffer[skip_window]\n",
        "                labels[i * num_skips + j] = buffer[context_word]\n",
        "            if data_index == len(data):\n",
        "                buffer.extend(data[0:span])\n",
        "                data_index = span\n",
        "            else:\n",
        "                buffer.append(data[data_index])\n",
        "                data_index += 1\n",
        "        # Backtrack a little bit to avoid skipping words in the end of a batch\n",
        "        data_index = (data_index + len(data) - span) % len(data)\n",
        "\n",
        "        # translate word index to on-hot representation\n",
        "        batch_one_hot = np.array([to_one_hot(b, vocab_size) for b in batch])\n",
        "        labels_one_hot = np.array([to_one_hot(l, vocab_size) for l in labels])\n",
        "\n",
        "        # output one batch\n",
        "        yield batch_one_hot, labels_one_hot"
      ]
    },
    {
      "cell_type": "code",
      "execution_count": null,
      "metadata": {
        "id": "0g9AFwA-tNQi",
        "outputId": "b2ca6b59-9363-4c03-90be-60020320428a",
        "colab": {
          "base_uri": "https://localhost:8080/"
        }
      },
      "outputs": [
        {
          "output_type": "stream",
          "name": "stdout",
          "text": [
            "Model: \"model_2\"\n",
            "_________________________________________________________________\n",
            " Layer (type)                Output Shape              Param #   \n",
            "=================================================================\n",
            " input_2 (InputLayer)        [(None, 3582)]            0         \n",
            "                                                                 \n",
            " dense_8 (Dense)             (None, 50)                179150    \n",
            "                                                                 \n",
            " dense_9 (Dense)             (None, 3582)              182682    \n",
            "                                                                 \n",
            "=================================================================\n",
            "Total params: 361,832\n",
            "Trainable params: 361,832\n",
            "Non-trainable params: 0\n",
            "_________________________________________________________________\n"
          ]
        }
      ],
      "source": [
        "#train the skip gram model\n",
        "def creat_word2vec_model():\n",
        "    input_word = Input(shape=(vocab_size,))\n",
        "\n",
        "    encoded = Dense(embedding_size, activation='linear')(input_word)\n",
        "    decoded = Dense(vocab_size, activation='softmax')(encoded)\n",
        "\n",
        "    # The autoencoder is the whole model with hidden layer contected to the output layer.\n",
        "    autoencoder = Model(input_word, decoded)\n",
        "    # The encoder is just the input layer connected to the hidden layer. One the Autoencoder will be trained we will use\n",
        "    # the encoder to create our word vectors \n",
        "    encoder = Model(input_word, encoded)\n",
        "    \n",
        "    autoencoder.compile(optimizer='adam', loss='binary_crossentropy')\n",
        "    return encoder, autoencoder\n",
        "    \n",
        "encoder, autoencoder = creat_word2vec_model()\n",
        "autoencoder.summary()"
      ]
    },
    {
      "cell_type": "code",
      "execution_count": null,
      "metadata": {
        "id": "-scxBA0KtNQi",
        "outputId": "9db268a0-fd63-48b1-be3e-ed5afc5e6c81",
        "colab": {
          "base_uri": "https://localhost:8080/"
        }
      },
      "outputs": [
        {
          "output_type": "stream",
          "name": "stdout",
          "text": [
            "Epoch 1/2\n"
          ]
        },
        {
          "output_type": "stream",
          "name": "stderr",
          "text": [
            "/usr/local/lib/python3.7/dist-packages/ipykernel_launcher.py:1: UserWarning: `Model.fit_generator` is deprecated and will be removed in a future version. Please use `Model.fit`, which supports generators.\n",
            "  \"\"\"Entry point for launching an IPython kernel.\n"
          ]
        },
        {
          "output_type": "stream",
          "name": "stdout",
          "text": [
            "7485/7485 [==============================] - 245s 33ms/step - loss: 0.0124\n",
            "Epoch 2/2\n",
            "7485/7485 [==============================] - 225s 30ms/step - loss: 0.0020\n"
          ]
        },
        {
          "output_type": "execute_result",
          "data": {
            "text/plain": [
              "<keras.callbacks.History at 0x7f35d6e12e10>"
            ]
          },
          "metadata": {},
          "execution_count": 101
        }
      ],
      "source": [
        "autoencoder.fit_generator(batch_generator(batch_size, num_skips, skip_window, vocab_size), steps_per_epoch=ceil(len(data) / batch_size), epochs=num_epochs)"
      ]
    },
    {
      "cell_type": "code",
      "execution_count": null,
      "metadata": {
        "id": "hXc6uIpKtNQi",
        "outputId": "9483c572-5500-404b-9e34-c59d127ba647",
        "colab": {
          "base_uri": "https://localhost:8080/",
          "height": 37
        }
      },
      "outputs": [
        {
          "output_type": "execute_result",
          "data": {
            "text/plain": [
              "'word2vec_perso.txt'"
            ],
            "application/vnd.google.colaboratory.intrinsic+json": {
              "type": "string"
            }
          },
          "metadata": {},
          "execution_count": 102
        }
      ],
      "source": [
        "def vecotrize(word):\n",
        "    word_one_hot = to_one_hot(word2id[word], vocab_size)\n",
        "    return encoder.predict(np.array([word_one_hot]))[0]\n",
        "\n",
        "word2vec = {w : vecotrize(w) for w in word2id.keys()}\n",
        "\n",
        "save_word2vec(our_word2vec)\n",
        "our_word2vec"
      ]
    },
    {
      "cell_type": "markdown",
      "source": [
        "3. Knowledge base"
      ],
      "metadata": {
        "id": "sAA4xc-iRwkg"
      }
    },
    {
      "cell_type": "code",
      "execution_count": null,
      "metadata": {
        "id": "t45dtSXhtNQj"
      },
      "outputs": [],
      "source": [
        "##3.\n",
        "# Knowledge base\n",
        "##Use tf-idf to get highest frequency words for each strategy\n",
        "##as the key words\n",
        "\n",
        "##Question: for the key words for each investment strategy, are we supposed to choose the words with highest frequncy in the training set?"
      ]
    },
    {
      "cell_type": "code",
      "execution_count": null,
      "metadata": {
        "id": "zS6T29artNQj"
      },
      "outputs": [],
      "source": [
        "def lemma_tokenizer(text):\n",
        "    lemmatizer=WordNetLemmatizer()\n",
        "    return [lemmatizer.lemmatize(token) for token in word_tokenize(text.replace(\"'\",\" \"))]\n",
        "\n",
        "stop_words = set(stopwords.words(\"english\")+list(string.punctuation)+['``',\"''\"]+[\"]\",\"[\",\"*\"]+['doe', 'ha', 'wa'] +['--']+ [''])"
      ]
    },
    {
      "cell_type": "code",
      "execution_count": null,
      "metadata": {
        "id": "D72FGR6stNQj"
      },
      "outputs": [],
      "source": [
        "max_features = 10\n",
        "tfidf = TfidfVectorizer(input='content', tokenizer=lemma_tokenizer, stop_words=stop_words, max_features=max_features)\n",
        "# Fits the tfidf vecotizer on the train sample and create the training features.\n",
        "\n",
        "tfidf_train = tfidf.fit_transform(X_train) #update\n",
        "# Uses the vectorizer to create the test features.\n",
        "#tfidf_test = tfidf.transform(X_test)"
      ]
    },
    {
      "cell_type": "code",
      "execution_count": null,
      "metadata": {
        "id": "j-eXZGDZtNQj",
        "outputId": "6e38031e-2a52-4827-c098-272ca13ac05e",
        "colab": {
          "base_uri": "https://localhost:8080/"
        }
      },
      "outputs": [
        {
          "output_type": "stream",
          "name": "stderr",
          "text": [
            "/usr/local/lib/python3.7/dist-packages/sklearn/utils/deprecation.py:87: FutureWarning: Function get_feature_names is deprecated; get_feature_names is deprecated in 1.0 and will be removed in 1.2. Please use get_feature_names_out instead.\n",
            "  warnings.warn(msg, category=FutureWarning)\n"
          ]
        },
        {
          "output_type": "execute_result",
          "data": {
            "text/plain": [
              "['class',\n",
              " 'expense',\n",
              " 'fund',\n",
              " 'investment',\n",
              " 'market',\n",
              " 'may',\n",
              " 'portfolio',\n",
              " 'risk',\n",
              " 'security',\n",
              " 'share']"
            ]
          },
          "metadata": {},
          "execution_count": 106
        }
      ],
      "source": [
        "key_words = tfidf.get_feature_names() # Common keywords\n",
        "key_words"
      ]
    },
    {
      "cell_type": "code",
      "execution_count": null,
      "metadata": {
        "id": "dXBJLHbEtNQj"
      },
      "outputs": [],
      "source": [
        "\n",
        "stop_words = set(stopwords.words(\"english\")+list(string.punctuation)+['``',\"''\"]+[\"]\",\"[\",\"*\"]+['doe', 'ha', 'wa'] +['--']+ ['']+['1']+['also']+['none']+['fundâ\\x80\\x99s'])\n",
        "for i in range(10):\n",
        "   stop_words.add(key_words[i])\n",
        "stop_words_bf = stop_words"
      ]
    },
    {
      "cell_type": "code",
      "execution_count": null,
      "metadata": {
        "id": "4iSdwVdwtNQk",
        "colab": {
          "base_uri": "https://localhost:8080/"
        },
        "outputId": "528067e1-f695-4430-fe70-8f2744382db4"
      },
      "outputs": [
        {
          "output_type": "stream",
          "name": "stderr",
          "text": [
            "/usr/local/lib/python3.7/dist-packages/sklearn/utils/deprecation.py:87: FutureWarning: Function get_feature_names is deprecated; get_feature_names is deprecated in 1.0 and will be removed in 1.2. Please use get_feature_names_out instead.\n",
            "  warnings.warn(msg, category=FutureWarning)\n"
          ]
        }
      ],
      "source": [
        "#key words for each investment type(bf/fi/eq/ls)\n",
        "max_features = 10\n",
        "tfidf_bf = TfidfVectorizer(input='content', tokenizer=lemma_tokenizer, stop_words = stop_words_bf, max_features=max_features)\n",
        "tfidf_train = tfidf_bf.fit_transform(bf_summary)\n",
        "key_words_bf = tfidf_bf.get_feature_names()\n",
        "key_words_bf=[words for words in key_words_bf if words not in key_words]"
      ]
    },
    {
      "cell_type": "code",
      "execution_count": null,
      "metadata": {
        "id": "QjMs9bYMtNQk",
        "outputId": "a297bf69-8c67-4727-c2a7-1a7d2ab4df9c",
        "colab": {
          "base_uri": "https://localhost:8080/"
        }
      },
      "outputs": [
        {
          "output_type": "execute_result",
          "data": {
            "text/plain": [
              "['asset',\n",
              " 'fee',\n",
              " 'interest',\n",
              " 'investing',\n",
              " 'rate',\n",
              " 'return',\n",
              " 'tax',\n",
              " 'underlying',\n",
              " 'value',\n",
              " 'year']"
            ]
          },
          "metadata": {},
          "execution_count": 109
        }
      ],
      "source": [
        "key_words_bf"
      ]
    },
    {
      "cell_type": "code",
      "execution_count": null,
      "metadata": {
        "id": "9hsP4sqhtNQk"
      },
      "outputs": [],
      "source": [
        "for i in range(len(key_words_bf)):\n",
        "    stop_words_bf.add(key_words_bf[i])\n",
        "stop_words_fi = stop_words_bf"
      ]
    },
    {
      "cell_type": "code",
      "execution_count": null,
      "metadata": {
        "id": "16NEqV4WtNQk",
        "colab": {
          "base_uri": "https://localhost:8080/"
        },
        "outputId": "f8d0f797-557c-4f34-f71d-4db0a4ffb717"
      },
      "outputs": [
        {
          "output_type": "stream",
          "name": "stderr",
          "text": [
            "/usr/local/lib/python3.7/dist-packages/sklearn/utils/deprecation.py:87: FutureWarning: Function get_feature_names is deprecated; get_feature_names is deprecated in 1.0 and will be removed in 1.2. Please use get_feature_names_out instead.\n",
            "  warnings.warn(msg, category=FutureWarning)\n"
          ]
        }
      ],
      "source": [
        "tfidf = TfidfVectorizer(input='content', tokenizer=lemma_tokenizer, stop_words=stop_words_fi, max_features=max_features)\n",
        "tfidf_train = tfidf.fit_transform(fi_summary)\n",
        "key_words_fi = tfidf.get_feature_names()\n",
        "key_words_fi=[words for words in key_words_fi if words not in key_words]"
      ]
    },
    {
      "cell_type": "code",
      "execution_count": null,
      "metadata": {
        "id": "RyC8K4octNQk",
        "outputId": "729a4728-91aa-44b6-d9fd-80a45c8d3ee5",
        "colab": {
          "base_uri": "https://localhost:8080/"
        }
      },
      "outputs": [
        {
          "output_type": "execute_result",
          "data": {
            "text/plain": [
              "['bond',\n",
              " 'debt',\n",
              " 'financial',\n",
              " 'income',\n",
              " 'instrument',\n",
              " 'municipal',\n",
              " 'performance',\n",
              " 'period',\n",
              " 'price',\n",
              " 'sale']"
            ]
          },
          "metadata": {},
          "execution_count": 112
        }
      ],
      "source": [
        "key_words_fi"
      ]
    },
    {
      "cell_type": "code",
      "execution_count": null,
      "metadata": {
        "id": "5KyfEqu3tNQk"
      },
      "outputs": [],
      "source": [
        "for i in range(len(key_words_fi)):\n",
        "    stop_words_fi.add(key_words_fi[i])\n",
        "stop_words_eq = stop_words_bf"
      ]
    },
    {
      "cell_type": "code",
      "execution_count": null,
      "metadata": {
        "id": "hbQNjU3DtNQl",
        "colab": {
          "base_uri": "https://localhost:8080/"
        },
        "outputId": "32e83c4d-3e51-41ba-d15e-059085aed268"
      },
      "outputs": [
        {
          "output_type": "stream",
          "name": "stderr",
          "text": [
            "/usr/local/lib/python3.7/dist-packages/sklearn/utils/deprecation.py:87: FutureWarning: Function get_feature_names is deprecated; get_feature_names is deprecated in 1.0 and will be removed in 1.2. Please use get_feature_names_out instead.\n",
            "  warnings.warn(msg, category=FutureWarning)\n"
          ]
        }
      ],
      "source": [
        "tfidf = TfidfVectorizer(input='content', tokenizer=lemma_tokenizer, stop_words=stop_words_eq, max_features=max_features)\n",
        "tfidf_train = tfidf.fit_transform(eq_summary)\n",
        "key_words_eq = tfidf.get_feature_names()\n",
        "key_words_eq=[words for words in key_words_eq if words not in key_words]"
      ]
    },
    {
      "cell_type": "code",
      "execution_count": null,
      "metadata": {
        "id": "C3Zuv8vEtNQl",
        "outputId": "a33b307b-da88-4057-e7d7-fb15db6a58c1",
        "colab": {
          "base_uri": "https://localhost:8080/"
        }
      },
      "outputs": [
        {
          "output_type": "execute_result",
          "data": {
            "text/plain": [
              "['account',\n",
              " 'annual',\n",
              " 'company',\n",
              " 'cost',\n",
              " 'foreign',\n",
              " 'index',\n",
              " 'information',\n",
              " 'manager',\n",
              " 'purchase',\n",
              " 'stock']"
            ]
          },
          "metadata": {},
          "execution_count": 115
        }
      ],
      "source": [
        "key_words_eq"
      ]
    },
    {
      "cell_type": "code",
      "execution_count": null,
      "metadata": {
        "id": "SZ97IQ5_tNQl",
        "outputId": "dd53394d-e175-4839-e0e8-bcdce7d3f642",
        "colab": {
          "base_uri": "https://localhost:8080/"
        }
      },
      "outputs": [
        {
          "output_type": "stream",
          "name": "stdout",
          "text": [
            "Common key words:  ['class', 'expense', 'fund', 'investment', 'market', 'may', 'portfolio', 'risk', 'security', 'share']\n",
            "Class 1:  ['asset', 'fee', 'interest', 'investing', 'rate', 'return', 'tax', 'underlying', 'value', 'year']\n",
            "Class 2:  ['bond', 'debt', 'financial', 'income', 'instrument', 'municipal', 'performance', 'period', 'price', 'sale']\n",
            "Class 3:  ['account', 'annual', 'company', 'cost', 'foreign', 'index', 'information', 'manager', 'purchase', 'stock']\n"
          ]
        }
      ],
      "source": [
        "print('Common key words: ', key_words)\n",
        "print('Class 1: ', key_words_bf)\n",
        "print('Class 2: ', key_words_fi)\n",
        "print('Class 3: ', key_words_eq)"
      ]
    },
    {
      "cell_type": "code",
      "execution_count": null,
      "metadata": {
        "id": "7FisiUP9tNQl"
      },
      "outputs": [],
      "source": [
        "# for a given word, output the n closer words in the word2vec maping.\n",
        "def get_n_closer(w, n, word2vec):\n",
        "    vect = word2vec[w]\n",
        "    distances_dict = {k: cosine(v, vect) for k, v in word2vec.items()}\n",
        "    \n",
        "    closer_words = []\n",
        "    for _ in range(n):\n",
        "        min_key = min(distances_dict.keys(), key=lambda k: distances_dict[k])\n",
        "        closer_words.append(min_key)\n",
        "        del distances_dict[min_key]\n",
        "    return closer_words"
      ]
    },
    {
      "cell_type": "code",
      "execution_count": null,
      "metadata": {
        "id": "NOujU05JtNQl"
      },
      "outputs": [],
      "source": [
        "##knowledge base\n",
        "def create_knowledge_base(num_neighbors, word2vec, key_words):\n",
        "    knowledge_base = set()\n",
        "    out = display(progress(0, len(key_words)-1), display_id=True)\n",
        "    for ii, key_word in enumerate(key_words) :\n",
        "        knowledge_base.add(key_word)\n",
        "        neighbors = []\n",
        "        try :\n",
        "            neighbors = get_n_closer(key_word, num_neighbors, word2vec)\n",
        "        except :\n",
        "            print(key_word + ' not in word2vec')\n",
        "\n",
        "        knowledge_base.update(neighbors)\n",
        "        \n",
        "        out.update(progress(ii, len(key_words)-1))\n",
        "    return knowledge_base"
      ]
    },
    {
      "cell_type": "code",
      "execution_count": null,
      "metadata": {
        "id": "_SUHbkoltNQl",
        "outputId": "6850fa61-f908-4ae8-fe84-bdd37b40453f",
        "colab": {
          "base_uri": "https://localhost:8080/",
          "height": 68
        }
      },
      "outputs": [
        {
          "output_type": "display_data",
          "data": {
            "text/plain": [
              "<IPython.core.display.HTML object>"
            ],
            "text/html": [
              "\n",
              "        <progress\n",
              "            value='9'\n",
              "            max='9',\n",
              "            style='width: 100%'\n",
              "        >\n",
              "            9\n",
              "        </progress>\n",
              "    "
            ]
          },
          "metadata": {}
        },
        {
          "output_type": "display_data",
          "data": {
            "text/plain": [
              "<IPython.core.display.HTML object>"
            ],
            "text/html": [
              "\n",
              "        <progress\n",
              "            value='9'\n",
              "            max='9',\n",
              "            style='width: 100%'\n",
              "        >\n",
              "            9\n",
              "        </progress>\n",
              "    "
            ]
          },
          "metadata": {}
        },
        {
          "output_type": "display_data",
          "data": {
            "text/plain": [
              "<IPython.core.display.HTML object>"
            ],
            "text/html": [
              "\n",
              "        <progress\n",
              "            value='9'\n",
              "            max='9',\n",
              "            style='width: 100%'\n",
              "        >\n",
              "            9\n",
              "        </progress>\n",
              "    "
            ]
          },
          "metadata": {}
        }
      ],
      "source": [
        "#(bf/fi/eq/ls)\n",
        "knowledge_base_bf = create_knowledge_base(5, word2vec, key_words_bf)\n",
        "knowledge_base_fi= create_knowledge_base(5, word2vec, key_words_fi)\n",
        "knowledge_base_eq= create_knowledge_base(5, word2vec, key_words_eq)\n",
        "#knowledge_base_ls= create_knowledge_base(5, word2vec, key_words_ls)"
      ]
    },
    {
      "cell_type": "code",
      "execution_count": null,
      "metadata": {
        "id": "ACmFSck3tNQl",
        "outputId": "668a5e91-4b9f-48b4-bd57-de09cbe497c3",
        "colab": {
          "base_uri": "https://localhost:8080/"
        }
      },
      "outputs": [
        {
          "output_type": "stream",
          "name": "stdout",
          "text": [
            "{'underlying', 'describes', 'past', 'fee', 'turns', 'december', 'rate', 'indicate', 'fiscal', 'activity', 'table', 'cap', 'tax', 'hedged', 'years', 'deviate', 'rates', 'compare', 'per', 'increase', 'asset', 'closely', 'marginal', 'acquired', 'taxes', 'distributions', 'gains', 'investing', 'noted', 'exempt', 'value', 'affected', 'year', 'period', 'cost', 'neutral', 'conflict', 'capital', 'equity', 'correspond', 'changes', 'capitalization-weighted', 'return', 'money', 'lose', 'interest', 'small'}\n",
            "{'securities', 'negatively', 'purchase', 'less', 'hold', 'fiscal', 'intermediaries', 'types', \"'s\", 'performance', 'short-term', 'premium', 'income', 'recent', 'foreign', 'broker-dealers', 'municipal', 'marginal', 'buy', 'broker-dealer', 'caption', 'calendar', 'incur', 'technique', 'vance', 'trading', 'intermediary', 'opportunities', 'period', 'region', 'end', 'iv', 'indicated', 'adopted', 'redeem', 'capital', 'financial', 'ordinary', 'prices', 'sale', 'instrument', 'floating', 'price', 'overall', 'debt', 'domestic', 'bond', 'e.g.', 'generally'}\n",
            "{'etf', 'intended', 'purchase', 'research', 'intermediaries', 'types', 'cap', 'index', 'account', 'fees', 'total', 'markets', 'hedged', 'calling', 'operating', 'compare', 'foreign', 'capped', 'fmr', 'declining', 'services', 'different', 'investment', 'presented', 'company', 'debt', 'information', 'cost', 'taxable', 'affiliate', 'help', 'manager', 'helps', 'obtain', 'inc.', 'cfa', 'stock', 'volatile', 'sale', 'retirement', 'templeton', 'ftse', 'capitalization', 'unusual', 'libertyshares.com', 'expenses', 'annual', 'advisers'}\n"
          ]
        }
      ],
      "source": [
        "print(knowledge_base_bf)\n",
        "print(knowledge_base_fi)\n",
        "print(knowledge_base_eq)\n",
        "#print(knowledge_base_ls)"
      ]
    },
    {
      "cell_type": "markdown",
      "source": [
        "4. measure the distance, classification algorithm"
      ],
      "metadata": {
        "id": "M6LTg8ZFSHvo"
      }
    },
    {
      "cell_type": "code",
      "execution_count": null,
      "metadata": {
        "id": "r-8i-L-ztNQm"
      },
      "outputs": [],
      "source": [
        "##4.\n",
        "# measure the distance\n",
        "# design classification algorithm\n",
        "##kmean/ silhouette score classification "
      ]
    },
    {
      "cell_type": "code",
      "execution_count": null,
      "metadata": {
        "id": "HUfTF_5ftNQm"
      },
      "outputs": [],
      "source": [
        "# Takes a summary, the knowledge base and some hyper parameters and returns the \"num_sent\" sentences\n",
        "# of the summary that are closer to the the knowledge base in term of spacial distances.\n",
        "def extract_sentence_distance(summary, knowledge, n_closer, n_reject, num_sent):\n",
        "    # Split the summary into sentences.\n",
        "    sentences = sent_tokenize(summary)\n",
        "    sentence_scores = []\n",
        "    # Loop over the sentences.\n",
        "    for j, sentence in enumerate(sentences):\n",
        "        # we tokenize and clean the sentence\n",
        "        tokens = tokenizer(sentence)\n",
        "\n",
        "        sentence_barycentre = np.zeros(embedding_size)\n",
        "        effective_len = 0\n",
        "        # Compute the barycentre of the sentence\n",
        "        for token in tokens :\n",
        "            try :\n",
        "                sentence_barycentre += np.array(word2vec[token])\n",
        "                effective_len += 1\n",
        "            except KeyError :\n",
        "                pass\n",
        "            except :\n",
        "                raise\n",
        "            # print(sentence_barycentre)\n",
        "        \n",
        "        # Reject sentences with less than n_reject words in our word2vec map\n",
        "        if effective_len <= n_reject :\n",
        "            sentence_scores.append(1)    \n",
        "\n",
        "        else :\n",
        "            sentence_barycentre = sentence_barycentre/effective_len\n",
        "            # Compute the distance sentece_barycentre -> words in our knowledge base\n",
        "            barycentre_distance = [cosine(sentence_barycentre, word2vec[key_word]) for key_word in knowledge]\n",
        "            barycentre_distance.sort()\n",
        "            # Create the score of the sentence by averaging the \"n_closer\" smallest distances\n",
        "            score = np.mean(barycentre_distance[:n_closer])\n",
        "            sentence_scores.append(score)\n",
        "    # Select the \"num_sent\" sentences that have the smallest score (smallest distance score with the knowledge base)\n",
        "    sentence_scores, sentences = zip(*sorted(zip(sentence_scores, sentences)))\n",
        "    top_sentences = sentences[:num_sent]\n",
        "    return ' '.join(top_sentences)"
      ]
    },
    {
      "cell_type": "code",
      "execution_count": null,
      "metadata": {
        "id": "pnrqL7DUtNQm"
      },
      "outputs": [],
      "source": [
        "# It takes several minutes (5-10 minutes)\n",
        "X_train = pd.DataFrame(data=X_train.values, columns=['summary'])\n",
        "top_sentences_bf = X_train.apply(lambda x : extract_sentence_distance(x['summary'], knowledge_base_bf, n_closer=10, n_reject=5, num_sent=5), axis=1)\n",
        "top_sentences_fi = X_train.apply(lambda x : extract_sentence_distance(x['summary'], knowledge_base_fi, n_closer=10, n_reject=5, num_sent=5), axis=1)\n",
        "top_sentences_eq = X_train.apply(lambda x : extract_sentence_distance(x['summary'], knowledge_base_eq, n_closer=10, n_reject=5, num_sent=5), axis=1)"
      ]
    },
    {
      "cell_type": "code",
      "execution_count": null,
      "metadata": {
        "id": "A2WBAcVrtNQm"
      },
      "outputs": [],
      "source": [
        "X_test = pd.DataFrame(data=X_test.values, columns=['summary'])\n",
        "top_sentences_bf_test = X_test.apply(lambda x : extract_sentence_distance(x['summary'], knowledge_base_bf, n_closer=10, n_reject=5, num_sent=5), axis=1)\n",
        "top_sentences_fi_test = X_test.apply(lambda x : extract_sentence_distance(x['summary'], knowledge_base_fi, n_closer=10, n_reject=5, num_sent=5), axis=1)\n",
        "top_sentences_eq_test = X_test.apply(lambda x : extract_sentence_distance(x['summary'], knowledge_base_eq, n_closer=10, n_reject=5, num_sent=5), axis=1)"
      ]
    },
    {
      "cell_type": "code",
      "execution_count": null,
      "metadata": {
        "id": "VIkTfLt0tNQm"
      },
      "outputs": [],
      "source": [
        "num_words = 2500 # Size of the vocabulary used. we only consider the 2500 most common words. The other words are removed from the texts.\n",
        "maxlen = 15000 # Number of word considered for each document. we cut or lengthen the texts to have texts of 150 words.\n",
        "word_dimension = 50 # dimension of our word vectors."
      ]
    },
    {
      "cell_type": "code",
      "execution_count": null,
      "metadata": {
        "id": "ad6fh9kStNQm"
      },
      "outputs": [],
      "source": [
        "word2vec_g = load_word2vec(glove_word2vec)"
      ]
    },
    {
      "cell_type": "code",
      "execution_count": null,
      "metadata": {
        "id": "ZNDO9CmItNQm",
        "colab": {
          "base_uri": "https://localhost:8080/"
        },
        "outputId": "df165887-5633-45c2-ff38-358852f80088"
      },
      "outputs": [
        {
          "output_type": "execute_result",
          "data": {
            "text/plain": [
              "['leveraging instruments transactions constitute leverage magnify gains losses increase volatility details regarding calculation class-by-class including discussion adjustments provided â\\x80\\x9cadditional informationâ\\x80\\x9d prospectus sai managers integrate multi-factor approach proprietary model form basis construction constraints individual country industry levels manage exposures relative benchmark liquidity lack active investments cause delay disposition force fair principal strategies seeks achieve objective normally least net assets plus borrowings made purposes securities companies tied economically countries emerging securities marketsâ\\x80\\x93that countries securities markets opinion managers less sophisticated developed markets terms participation investors analyst prospectus table contents allianzgi emerging markets opportunities continued coverage liquidity and/or regulation',\n",
              " \"factors include projected growth trends u.s. non-u.s. economies forecasts rates relationship short- long-term rates yield curve current projected trends inflation relative valuation levels equity fixed commodity real estate markets various segments within markets outlook projected growth various industrial sectors information relating business cycles borrowing needs cost capital political trends data relating trade balances labor information relevant legislative public policy changes addition new funds limited operating histories investors evaluate new smaller funds attract sufficient assets achieve trading efficiencies fixed securities decline increase rates longer average duration sensitive changes rates shorter average duration call issuer exercise right redeem fixed earlier expected call liquidity result lack active reduced number capacity traditional participants make fixed securities magnified rising environment circumstances investor redemptions fixed mutual funds higher normal causing increased supply due selling activity derivatives derivative instruments futures swaps structured securities including leverage liquidity credit management risks mispricing valuation complexity achieved emphasizing allocations inflation related assets treasury-inflation protected securities tips commodities real estate complement exposures traditional assets u.s. international equities u.s. bonds short-term instruments issuers call outstanding securities prior maturity number reasons e.g. declining prospectus pimco funds table contents prospectus rates changes credit spreads improvements issuer 's credit quality\",\n",
              " 'factor indicates attractively stock priced relative fundamentals book free cash flow large-capitalization companies unable respond quickly new competitive challenges attain high growth successful smaller companies especially extended periods economic expansion momentum factor indicates whether changes companyâ\\x80\\x99s trending therefore could lower funds actively shift assets take advantage opportunities lessen impact decline decline one issuers momentum momentum entails securities exhibit persistence relative evidenced better recent compared securities',\n",
              " \"recent years liquidity increased capacity dealers secondary fixed-income securities make markets securities decreased even overall grown significantly due among things structural changes additional regulatory requirements capital restraints led reduced inventories utilizes derivatives options futures contracts forwards swaps significant extent leverage extent uses leveraging techniques net nav volatile leverage tends exaggerate effect changes rates increase decrease 's investments derivatives derivatives illiquid difficult leveraged small changes produce disproportionate losses subject counterparty greater degree traditional investments making assessment adviser takes account various factors including credit quality sensitivity rates securities consideration 's holdings\",\n",
              " 'analyzing credit quality issuer security-specific features current potential future valuation trading opportunities select investments box cincinnati oh overnight express fidelity investments crosby parkway covington ky tdd- service deaf hearing impaired buy one net per nav unlike individual securities typically pay principal maturity fluctuate managing similar overall bloomberg barclays u.s. month treasury bill index b available certain fee-based accounts offered fidelity',\n",
              " 't. rowe small medium-sized companies often less experienced management narrower product lines limited resources less publicly available information larger companies companies information technology sector adversely affected among things intense competition earnings disappointments rapid obsolescence products services due technological innovations changing consumer preferences sell securities variety reasons secure gains limit losses redeploy assets promising opportunities expects primarily invest common stocks companies located primary operations emerging markets latin america asia europe africa middle east africa middle east bahrain botswana egypt jordan kenya kuwait lebanon mauritius morocco nigeria oman qatar saudi arabia south africa tunisia united arab emirates zimbabwe',\n",
              " 'principal strategies invests least assets government national mortgage association gnma pass-through certificates fixed securities representing part ownership pool mortgage loans supported full faith credit u.s. government subject following risks could affect prepayment chance periods falling rates homeowners refinance mortgages maturity dates resulting prepayment mortgage-backed securities held extension chance periods rising rates homeowners repay mortgages slower rates generally moderate intermediate-term funds investors expect monthly fluctuate accordingly would lose appreciation mortgageâ\\x80\\x99s principal would forced reinvest unanticipated proceeds lower rates resulting decline',\n",
              " 'companyâ\\x80\\x99s stock general decline short even extended periods regardless success failure companyâ\\x80\\x99s operations principal strategy invests assets primarily equity securities show best potential total combination capital growth consider take account tolerance daily fluctuations markets whether afford leave money long periods time ride periods usaa growth table contents equity securities subject stock emerging-market countries less economically diverse mature developed countries tend politically less stable',\n",
              " 'securities sold opinion managers moves fair level valuation companyâ\\x80\\x99s fundamentals deteriorate pursue attractive opportunities although prices rebound assurance values previous levels companies real estate industry subject liabilities environmental hazardous waste laws among others real estate investments subject risks associated owning real estate including declines real estate values increases property taxes fluctuations rates limited availability mortgage financing decreases revenues real estate assets declines occupancy rates changes government regulations affecting zoning land use rents environmental liabilities risks related management skill creditworthiness issuer managers seek manage maintaining broad issuer industry diversification among holdings utilizing fundamental analysis risk/return characteristics securities selection',\n",
              " 'esg practices considered measured intrinsic esg analyst team leveraging instruments transactions constitute leverage magnify gains losses increase volatility details regarding calculation class-by-class including discussion adjustments provided â\\x80\\x9cadditional informationâ\\x80\\x9d prospectus sai managers attempt include securities exhibit greatest combination earnings growth potential quality reflected consistent business fundamentals attractive valuation managers ordinarily look several following characteristics analyzing specific companies possible higher average growth strong potential capital appreciation substantial capacity growth revenue cash flow earnings either expanding expanding strong balance sheet superior management strong commitment research product development differentiated superior products services steady stream new products services',\n",
              " 'moderate invests primarily short- intermediate-term bonds whose prices less sensitive changes prices long-term bonds generally moderate intermediate-term funds investors expect monthly fluctuate accordingly vanguard intermediate-term treasury objective seeks provide moderate sustainable level current principal strategies invests least assets u.s. treasury securities include bills bonds notes issued u.s. treasury intermediaries institutional vanguard retail managed clients contact vanguard information special eligibility rules apply regarding admiral shares',\n",
              " 'decrease individual company multiple companies securities decreases managersâ\\x80\\x99 belief companyâ\\x80\\x99s intrinsic worth incorrect addition swing one countries regions invested significant amount assets greater effect would geographically diversified possible repatriate capital dividends particular country governmental entity managersâ\\x80\\x99 perception companyâ\\x80\\x99s growth potential realized securities purchased perform expected reducing returns requests must received good order agents intermediary plan sponsor applicable prior close regular trading session new york stock exchange order receive dayâ\\x80\\x99s net',\n",
              " 'seek generate exposure dividend paying stocks liquidity result lack active holding legal contractual restrictions resale reduced number capacity participants make holding however ratings opinions rating agencies issuing guarantees credit quality evaluation rates fall borrowers likely refinance prepay stated maturity liquidity certain holdings deemed less liquid illiquid readily sold without significantly impacting holdings',\n",
              " \"consumer staples sector affected regulation various product components production methods marketing campaigns changes consumer demand tobacco companies particular adversely affected new laws regulations litigation consumer staples sector adversely affected changes trends commodity prices influenced unpredictable factors additionally mexico experienced outbreak violence related drug trafficking incidents involving mexico 's adverse effect mexican economy cause uncertainty markets addition midsize companies particularly affected increases find difficult borrow money continue expand operations difficulty repaying loans\",\n",
              " 'addition portfolioâ\\x80\\x99s reflect part subadvisorâ\\x80\\x99s ability make active qualitative decisions timely adjust quantitative model including modelâ\\x80\\x99s metrics data addition larger companies less capable responding quickly competitive challenges industry changes including resulting improvements technology suffer sharper declines result earnings disappointments subadvisor evaluates quantitative model time time subadvisor adjust metrics data quantitative analysis model variety reasons including without limitation account changing economic conditions growth stock growth companies increase earnings expected investors stock decline significantly even earnings show absolute increase quantitative model used subadvisor investments selected based model perform expected',\n",
              " 'managers use quantitative factors screen selection universe analyzing factors momentum i.e. changes relative changes overall prices earnings estimate revisions i.e. changes analystsâ\\x80\\x99 earnings-per-share estimates review consider fundamental changes details regarding calculation class-by-class including discussion adjustments provided â\\x80\\x9cadditional informationâ\\x80\\x9d prospectus sai reit real estate-related adverse changes real estate markets affect reit investments real estate-linked derivatives managers partition selection universe industry identify believe undervalued securities industry determine potential holdings representing broad range industry groups continue hold securities company subsequently appreciates smaller capitalization threshold including situations securities continue trade valuations managers consider attractive',\n",
              " 'addition new funds limited operating histories investors evaluate new smaller funds attract sufficient assets achieve trading efficiencies fixed securities decline increase rates longer average duration sensitive changes rates shorter average duration call issuer exercise right redeem fixed earlier expected call liquidity result lack active reduced number capacity traditional participants make fixed securities magnified rising environment circumstances investor redemptions fixed mutual funds higher normal causing increased supply due selling activity derivatives derivative instruments futures swaps structured securities including leverage liquidity credit management risks mispricing valuation complexity funds non-diversified invest greater percentage assets securities single issuer bonds issued particular state funds diversified prospectus pimco funds table contents prospectus leveraging certain transactions reverse repurchase agreements loans securities use when-issued delayed delivery forward commitment transactions derivative instruments give rise leverage magnifying gains losses causing volatile leveraged invest derivative instruments options futures contracts swap agreements mortgage- backed securities california bonds generally issued behalf state california political subdivisions financing authorities agencies',\n",
              " 'selection based relative comparisons applying teamâ\\x80\\x99s understanding industry cycles global competitors company-specific variables addition often substantially less publicly available information issuers information tends lesser quality opportunities exist temporary company-specific problems companies industries favor liquidity possibility securities readily sold within seven calendar days approximately valued process combines quantitative valuation screens traditional in-depth fundamental analysis experienced judgment patience',\n",
              " 'portfolioâ\\x80\\x99s holdings decrease individual company multiple companies securities decreases personnelâ\\x80\\x99s belief companyâ\\x80\\x99s intrinsic worth incorrect portfolioâ\\x80\\x99s holdings become concentrated less able spread potentially reduce loss volatility invest assets derivatives instruments derived directly linked equity securities fixed-income securities commodities currencies rates indices janus henderson research positions sold among things longer high conviction potential characteristics caused re-evaluation opportunity personnelâ\\x80\\x99s perception companyâ\\x80\\x99s growth potential realized securities purchased perform expected reducing portfolioâ\\x80\\x99s returns',\n",
              " 'however ratings opinions rating agencies issuing guarantees credit quality evaluation degree imperfection correlation depends circumstances variations speculative demand futures including technical influences futures trading differences instruments hedged instruments standard contracts available trading unable close position futures contract would remain subject adverse movements able close futures position even periods low volatility equity markets however subadviser continue use hedging techniques although presumably lesser degree seek preserve gains favorable conditions reduce losses adverse conditions addition subadviser monitor liquidity levels relevant futures contracts transparency provided exchanges counterparties hedging transactions',\n",
              " 'liquidity result lack active reduced number capacity traditional participants make fixed securities magnified rising environment circumstances investor redemptions fixed mutual funds higher normal causing increased supply due selling activity derivatives derivative instruments futures swaps structured securities including leverage liquidity credit management risks mispricing valuation complexity invest derivative instruments options futures contracts swap agreements mortgage- asset-backed securities california bonds generally issued behalf state california political subdivisions financing authorities agencies fixed securities decline increase rates longer average duration sensitive changes rates shorter average duration call issuer exercise right redeem fixed earlier expected call capital appreciation generally arises decreases pimco funds prospectus table contents pimco california intermediate rates improving credit fundamentals particular state municipality issuer',\n",
              " 'write covered calls portion holdings common stock mangers believe call premiums attractive relative analytical indicators helping identify signs business improvement could include accelerating earnings revenue growth rates increasing cash flows indications relative strength companyâ\\x80\\x99s business implementing strategy managers make decisions based primarily analysis individual companies rather broad economic forecasts normal conditions primarily consist securities companies attractive returns invested capital demonstrating business improvement covered call writing covered calls limit ability participate increases securities could lower',\n",
              " 'â\\x80\\x9cvalueâ\\x80\\x9d factor incorporates measurements forward earnings yield ebitda enterprise book dividend yield â\\x80\\x9cqualityâ\\x80\\x9d factor incorporates measurements equity gross profit assets gross margin sustainability exposure factors detract environments perhaps extended periods addition midsize companies particularly affected increases find difficult borrow money continue expand operations difficulty repaying loans concentrate investments i.e. hold net assets particular industry group industries approximately extent u.s',\n",
              " 'addition accelerating growth consider companies whose stocks demonstrate strength relative peers includes companies whose growth rates although still negative less negative prior periods companies whose growth rates expected accelerate ipo affected investments initial public offerings implementing strategy managers make decisions based primarily analysis individual companies rather broad economic forecasts managers look stocks smaller-sized companies believe increase time using strategy developed advisor',\n",
              " \"fmrc make active allocations within classes including commodities high yield floating real estate inflation-protected emerging markets individually aggregate within classes buying selling futures contracts long short positions effort manage cash flows efficiently remain fully invested facilitate allocation allocations glide path pie chart referred neutral reflect decisions made fmrc overweight underweight march 's neutral allocation fidelityâ® funds futures approximately domestic equity funds* international equity funds* funds* short-term funds* fmrc change percentages time prior june operated different pricing structure\",\n",
              " 'effective february name one funds ivy pacific opportunities changed ivy emerging markets equity strategy changed reflect concentration emerging equity securities addition certain events natural disasters terrorist attacks war geopolitical events led future lead increased short-term volatility adverse long-term effects world economies markets generally however seeking enhance iico change allocations within stated ranges event holds material positions suspended securities ability liquidate positions provide liquidity investors compromised could incur significant losses prior time part reflects ivy pacific opportunities former strategy invest primarily pacific region equity securities differed ivy emerging markets equity current strategy place',\n",
              " 'decreased liquidity fixed-income markets make difficult portfolioâ\\x80\\x99s fixed-income holdings rates united states near historic lows currently faces heightened level enforcing rights collateral events default difficult insufficient rising rates lack participants lead decreased liquidity increased volatility fixed-income markets making difficult sell fixed-income holdings time subadvisor might wish sell addition portfolioâ\\x80\\x99s reflect part subadvisorâ\\x80\\x99s ability make active qualitative decisions timely adjust quantitative model including modelâ\\x80\\x99s metrics data',\n",
              " 'addition effectiveness quantitative analysis securities significantly impact success strategy companyâ\\x80\\x99s stock general decline short even extended periods regardless success failure companyâ\\x80\\x99s operations targeted tolerance corresponding allocation target however mere allocation volatility sole determination quantitative tools used adviser analyze stocks potential investments based various characteristics â\\x80\\x9cfactorsâ\\x80\\x9d momentum quality volatility reits decrease decline real estate values broadly',\n",
              " 'addition target index times become focused stocks particular sector would subject proportionately higher exposure risks sector index designed measure small-capitalization growth stocks united states style chance returns small-capitalization growth stocks trail returns overall stock vanguard russell growth index objective seeks track benchmark index measures small-capitalization growth stocks united states stock markets tend move cycles periods rising prices periods falling prices',\n",
              " 'current political uncertainty surrounding european union eu membership including referendum united kingdom voted exit eu increase volatility addition midsize companies particularly affected increases find difficult borrow money continue expand operations difficulty repaying loans subject principal risks noted adversely affect net nav trading yield total ability meet goal increased possibility untimely responses certain corporate actions issuer unsponsored depositary receipt program ftse russell maintains set criteria assess countryâ\\x80\\x99s status including various quality markets criteria countryâ\\x80\\x99s prevailing regulatory environment custody settlement dealing landscape',\n",
              " 'factor indicates attractively stock priced relative fundamentals book free cash flow large-capitalization companies unable respond quickly new competitive challenges attain high growth successful smaller companies especially extended periods economic expansion momentum factor indicates whether changes companyâ\\x80\\x99s trending therefore could lower funds actively shift assets take advantage opportunities lessen impact decline decline one issuers momentum momentum entails securities exhibit persistence relative evidenced better recent compared securities',\n",
              " 'analyzing credit quality issuer security-specific features current potential future valuation trading opportunities select investments unlike individual securities typically pay principal maturity fluctuate potentially total assets securities finance similar types projects please see â\\x80\\x9csales charge waiver policies applied certain intermediariesâ\\x80\\x9d â\\x80\\x9cappendixâ\\x80\\x9d section prospectus decline credit quality issuer provider credit support maturity-shortening structure cause decrease',\n",
              " 'selecting securities iico primarily emphasizes bottom-up researching individual issuers approach focuses companies believes potential strong growth increasing profitability stable sustainable revenue earnings streams attractive valuations sound capital structures part iicoâ\\x80\\x99s process includes review macroeconomic environment focus factors rates inflation consumer confidence corporate spending addition certain events natural disasters terrorist attacks war geopolitical events led future lead increased short-term volatility adverse long-term effects world economies markets generally iico look number factors consideration company new innovative products services adaptive creative management strong operational capabilities sustain multi-year growth stable consistent revenue earnings cash flow strong balance sheet potential profit potential global economies markets becoming increasingly interconnected increases possibilities conditions one country region adversely affect issuers another country region turn adversely affect securities held',\n",
              " 'normally least assets securities companies principally engaged design manufacture products services used connection health care medicine health care industries subject government regulation reimbursement rates well government approval products services could significant effect availability significantly affected rapid obsolescence patent expirations please see â\\x80\\x9csales charge waiver policies applied certain intermediariesâ\\x80\\x9d â\\x80\\x9cappendixâ\\x80\\x9d section prospectus initial purchase minimum fidelity advisorâ® traditional ira roth ira rollover ira simplified employee pension-ira fidelity management trust company affiliate serves custodian regular plan established time position opened waive lower purchase minimums circumstances box cincinnati oh overnight express fidelity investments crosby parkway covington ky eligibility requirements listed additional information purchase shares section prospectus',\n",
              " 'recent years liquidity increased capacity dealers secondary fixed-income securities make markets securities decreased even overall grown significantly due among things structural changes additional regulatory requirements capital restraints led reduced inventories invest forward commitments zero-coupon securities variable floating inverse floating-rate securities derivatives options futures contracts forwards swaps derivatives derivatives illiquid difficult leveraged small changes produce disproportionate losses subject counterparty greater degree traditional investments like many u.s. states municipalities puerto rico experienced significant downturn recent recession credit issuer guarantor fixed-income counterparty derivatives contract unable unwilling make timely payments principal otherwise honor obligations',\n",
              " 'implementing strategy managers make decisions based primarily analysis individual companies rather economic forecasts managers look stocks companies believe increase time using strategy developed advisor management based belief long term stock movements follow growth earnings revenues and/or cash flow style time favoring growth style gains big losses bigger equity funds using different styles normal conditions managers seek securities companies whose earnings revenues key business fundamentals growing growing accelerating pace',\n",
              " \"recent years liquidity increased capacity dealers secondary fixed-income securities make markets securities decreased even overall grown significantly due among things structural changes additional regulatory requirements capital restraints led reduced inventories leverage extent uses leveraging techniques net nav volatile leverage tends exaggerate effect changes rates increase decrease 's investments derivatives derivatives illiquid difficult leveraged small changes produce disproportionate losses subject counterparty greater degree traditional investments pursues objective principally inflation-indexed securities treasury inflation-protected securities tips inflation-indexed securities issuers u.s. treasury gaining inflation protection derivatives transactions inflation cpi swaps total swaps linked tips expects invest principally investment-grade securities invest total assets fixed-income securities rated bb b equivalent least one national rating agency deemed adviser comparable credit quality investment-grade junk bonds\",\n",
              " 'companies affected factors including among others fluctuations energy prices supply demand energy fuels energy conservation success exploration projects local international politics events occurring nature instance larger established companies less able respond quickly new competitive challenges changes consumer tastes innovation smaller competitors instance natural events earthquakes hurricanes fires prime natural resources areas political events government instability military confrontations affect companies involved business activities energy sector addition holders depositary receipts limited voting rights rights afforded stockholders typical domestic company event corporate action acquisition merger rights offering experience difficulty receiving company stockholder communications potential changes regulation derivatives markets make derivatives costly limit derivatives otherwise adversely affect derivatives',\n",
              " 'however invest funds exposure lower quality higher yielding securities rated bbb+ baa1 including rated bb+ ba1 unrated determined adviser equivalent quality bonds longer durations mortgage-backed securities subject borrowers unable meet obligations property secures mortgages decline insufficient upon foreclosure repay associated loans future delivery contracts enter contracts to-be-announced contracts mortgage dollar rolls involve selling mortgage-related securities simultaneously contracting repurchase similar securities delivery future date predetermined however ratings opinions rating agencies issuing guarantees credit quality evaluation rates fall borrowers likely refinance prepay stated maturity',\n",
              " 'decrease subadviserâ\\x80\\x99s judgment attractiveness trends affecting particular industry sector region movements incorrect imperfections errors limitations tools data used subadviser impact changes markets practical implications participants fully known time past decade markets throughout world experienced increased volatility depressed valuations decreased liquidity heightened uncertainty governmental non-governmental issuers defaulted forced restructure debts events contributed conditions include limited major cybersecurity events geopolitical events including wars terror attacks measures address budget deficits downgrading sovereign declines oil commodity prices dramatic changes currency exchange rates public sentiment',\n",
              " 'sell securities variety reasons secure gains limit losses redeploy assets promising opportunities addition larger companies less capable responding quickly competitive challenges industry changes suffer sharper declines result earnings disappointments summary selecting investments adviser generally favors companies one following characteristics leading improving position attractive business niche attractive improving franchise industry position seasoned management stable improving earnings and/or cash flow sound improving balance sheet stock growth characteristics sharp declines due decreases current expected earnings lack dividends help cushion declining adviser seeks purchase stocks companies reasonable prices relation present anticipated earnings cash flow book',\n",
              " 'write covered calls portion holdings common stock managers believe call premiums attractive relative measure growth managers use growth companyâ\\x80\\x99s earnings cash flow changes earnings estimates well factors covered call writing covered calls limit ability participate increases securities could lower measure managers use ratios stock price-to-earnings stock price-to-cash flow among others managers attempt build stocks provides better returns dividend yield comparable p index without taking significant additional',\n",
              " 'use leverage cause liquidate positions advantageous satisfy obligations meet segregation requirements commonwealth puerto rico related issuers continue experience difficulties rating agency downgrades numerous issuers entered title iii puerto rico oversight management economic stability act similar bankruptcy protection commonwealth puerto rico restructure result federal reserveâ\\x80\\x99s recent decision raise target fed funds last two years ii slowly unwind quantitative easing program possibility continue either policies going forward among factors markets could experience increased volatility could negatively impact enter residual transactions expose leverage greater fixed-rate active trading exist certain investments impair ability sell realize current valuation investments event need liquidate assets',\n",
              " 'reduced liquidity adverse impact ability sell securities investments necessary meet liquidity needs arise increase response specific economic event manager wishes purchase particular investments believes higher level liquidity would advantageous occurs yield generally tend move toward yield cash cash equivalents lower yields securities previously held prevailing yields bonds yield liquidation amount prior termination date securities held mature transition cash cash equivalents short-term fixed securities changes influenced number factors including government policy monetary policy inflation expectations perceptions supply demand bonds time duration weighted average maturity decline maturity date approaches',\n",
              " \"fmrc make active allocations within classes including commodities high yield floating real estate inflation-protected emerging markets individually aggregate within classes buying selling futures contracts long short positions effort manage cash flows efficiently remain fully invested facilitate allocation allocations glide path pie chart referred neutral reflect decisions made fmrc overweight underweight march 's neutral allocation fidelityâ® funds futures approximately domestic equity funds* international equity funds* funds* short-term funds* fmrc change percentages time prior june operated different pricing structure\",\n",
              " 'purposes policy net assets include amount borrowings purposes quantitative models systematically evaluate issuers considered selecting investments mfs constrained particular style investments selected primarily based fundamental analysis individual issuers box boston mfs global equity telephone via internet mfs.com mfs access',\n",
              " 'cases due limitations investments illiquid securities difficulty readily purchasing selling securities favorable times prices decline experience lower returns and/or unable achieve desired level exposure certain issuer sector addition dealer inventories certain securities indication ability dealers engage â\\x80\\x9cmarket makingâ\\x80\\x9d near historic lows relation size could potentially lead decreased liquidity certain new york constitutional amendments legislative measures executive orders administrative regulations could result adverse consequences affecting state new york and/or municipalities securities include general obligation issues typically backed issuerâ\\x80\\x99s ability levy taxes revenue bonds typically backed stream revenue given source public water system hospital commercial paper notes leases used finance construction equipment purchases permitted among things reduce withhold and/or gains generated maintain stable',\n",
              " 'impact growth regulation ability willingness institutions engage trading â\\x80\\x9cmaking marketâ\\x80\\x9d instruments remains unsettled sovereign debtorâ\\x80\\x99s willingness ability repay principal pay timely manner affected variety factors including cash flow situation extent reserves availability sufficient foreign exchange date payment due relative size service burden economy whole sovereign debtorâ\\x80\\x99s policy toward international lenders political constraints sovereign debtor subject use derivatives well â\\x80\\x9cto announcedâ\\x80\\x9d tba mortgage-backed securities effort leverage exposures produce incremental earnings hedging purposes obtain increased decreased exposures various markets/sectors increase flexibility invest securities instruments across credit quality spectrum times invest significantly investment-grade fixed-income securities instruments commonly referred â\\x80\\x9chigh yieldâ\\x80\\x9d investments â\\x80\\x9cjunk bondsâ\\x80\\x9d seeking achieve higher dividends and/or capital appreciation liquidity futures markets depends participants entering offsetting transactions rather making taking delivery',\n",
              " 'securities sold opinion managers moves fair level valuation companyâ\\x80\\x99s fundamentals deteriorate pursue attractive opportunities although prices rebound assurance values previous levels companies real estate industry subject liabilities environmental hazardous waste laws among others real estate investments subject risks associated owning real estate including declines real estate values increases property taxes fluctuations rates limited availability mortgage financing decreases revenues real estate assets declines occupancy rates changes government regulations affecting zoning land use rents environmental liabilities risks related management skill creditworthiness issuer managers seek manage maintaining broad issuer industry diversification among holdings utilizing fundamental analysis risk/return characteristics securities selection',\n",
              " 'decrease individual company multiple companies securities decreases personnelâ\\x80\\x99s belief companyâ\\x80\\x99s intrinsic worth incorrect addition swing one countries regions invested significant amount assets greater effect would geographically diversified possible repatriate capital dividends particular country governmental entity positions sold among things longer high conviction potential characteristics caused re-evaluation opportunity invest assets derivatives instruments derived directly linked equity securities fixed-income securities commodities currencies rates indices',\n",
              " 'however holdings small capitalization stocks fall threshold due subsequent action securities sold adviser believes longer represent relatively attractive opportunities securities sold adviser believes longer represent relatively attractive opportunities less certainty respect valuations lead additional challenges risks calculating net governments countries less stable likely impose capital controls nationalize company industry place restrictions foreign ownership withdrawing proceeds securities country and/or impose punitive taxes could adversely affect prices securities',\n",
              " \"engaging transactions leveraging effect including investments derivatives swaps total credit default options futures contracts forward-settling securities adjust 's exposure analyzing credit quality issuer security-specific features current potential future valuation trading opportunities select investments unlike individual securities typically pay principal maturity fluctuate ability issuer repay principal prior 's maturity cause greater volatility rates change decline credit quality issuer provider credit support maturity-shortening structure cause decrease\",\n",
              " 'analyzing credit quality issuer security-specific features current potential future valuation trading opportunities select investments unlike individual securities typically pay principal maturity fluctuate potentially total assets securities finance similar types projects please see â\\x80\\x9csales charge waiver policies applied certain intermediariesâ\\x80\\x9d â\\x80\\x9cappendixâ\\x80\\x9d section prospectus decline credit quality issuer provider credit support maturity-shortening structure cause decrease',\n",
              " 'australian economy heavily dependent demand commodities natural resources well exports agricultural mining sectors addition midsize companies particularly affected increases find difficult borrow money continue expand operations difficulty repaying loans subject principal risks noted adversely affect net nav trading yield total ability meet goal increased possibility untimely responses certain corporate actions issuer unsponsored depositary receipt program accordingly less information available regarding issuers securities unsponsored programs correlation information depositary receipts',\n",
              " 'companyâ\\x80\\x99s stock general decline short even extended periods regardless success failure companyâ\\x80\\x99s operations quantitative models systematically evaluate issuerâ\\x80\\x99s valuation earnings momentum earnings quality factors considered normally invest assets investments tied economically number countries throughout world however invest significant percentage assets securities issuers single country small number countries particular geographic region consider take account tolerance daily fluctuations markets whether afford leave money long periods time ride periods',\n",
              " 'addition increases size impact ipos generally decrease european companies broadly defined include company meets one following tests country organization primary business office and/or principal trading stock located europe ii assets located europe iii revenues derived europe decrease individual company multiple companies securities decreases managerâ\\x80\\x99s belief companyâ\\x80\\x99s intrinsic worth incorrect invest companies located western european countries united kingdom belgium germany norway netherlands denmark switzerland finland sweden portugal france austria italy spain companies evaluated using broad range criteria including companyâ\\x80\\x99s strength ii competitive position industry iii projected future earnings cash flows',\n",
              " 'managers generally sell stock believe become less attractive relative opportunities characteristics outweigh opportunity specific events alter prospects quantitative stocks selected managers using quantitative models perform differently expected due managersâ\\x80\\x99 judgments regarding factors used models weight placed factor changes factorsâ\\x80\\x99 historical trends technical issues construction implementation models including example data problems and/or software implementation issues characteristics managers consider include industry sector geographic location among others additionally commonality holdings across quantitative managers amplify losses style consider individual stocks purchased undervalued shares rise high funds fact decline even stock prices generally increasing',\n",
              " 'continue hold securities downgraded including bonds downgraded grade credit quality â\\x80\\x9cjunk bondsâ\\x80\\x9d adviser believes would advantageous active trading exist certain investments impair ability sell realize current valuation investments event need liquidate assets declining environment proceeds prepaid maturing instruments reinvested lower amount public information available obligations generally less corporate equities bonds meaning obligations dependent analytical abilities adviser stock corporate investments evaluating creditworthiness adviser considers ratings assigned rating agencies generally performs additional credit analysis',\n",
              " 'liquidity result lack active reduced number capacity traditional participants make fixed securities magnified rising environment circumstances investor redemptions fixed mutual funds higher normal causing increased supply due selling activity derivatives derivative instruments futures swaps structured securities including leverage liquidity credit management risks mispricing valuation complexity invest derivative instruments options futures contracts swap agreements mortgage- asset-backed securities california bonds generally issued behalf state california political subdivisions financing authorities agencies fixed securities decline increase rates longer average duration sensitive changes rates shorter average duration call issuer exercise right redeem fixed earlier expected call capital appreciation generally arises decreases rates improving credit fundamentals particular state municipality issuer',\n",
              " 'united kingdom one largest economies europe trades heavily european countries united states current political uncertainty surrounding european union eu membership including referendum united kingdom voted exit eu increase volatility addition midsize companies particularly affected increases find difficult borrow money continue expand operations difficulty repaying loans subject principal risks noted adversely affect net nav trading yield total ability meet goal increased possibility untimely responses certain corporate actions issuer unsponsored depositary receipt program',\n",
              " 'liquidity result lack active holding legal contractual restrictions resale reduced number capacity participants make holding however ratings opinions rating agencies issuing guarantees credit quality evaluation liquidity certain holdings deemed less liquid illiquid readily sold without significantly impacting holdings less certainty respect valuations lead additional challenges risks calculating net funds invest securities governments agencies corporations entities domiciled outside united states',\n",
              " 'low invests primarily short-term bonds whose prices less sensitive changes prices longer-term bonds generally high short-term funds investors expect monthly fluctuate intermediaries institutional vanguard retail managed clients contact vanguard information special eligibility rules apply regarding admiral shares subject following risks could affect chance decline falling rates updated information available website vanguard.com/performance calling vanguard toll-free',\n",
              " 'reits subject failing qualify favorable treatment internal revenue code amended addition holders depositary receipts limited voting rights rights afforded stockholders typical domestic company event corporate action acquisition merger rights offering experience difficulty receiving company stockholder communications meet managementâ\\x80\\x99s perceived assessment decline even though management believes securities already undervalued take longer expected investments rise managementâ\\x80\\x99s perceived companies affected competitive pressures exposure investments agreements certain circumstances lead losses e.g. subprime loans',\n",
              " 'addition holders depositary receipts limited voting rights rights afforded stockholders typical domestic company event corporate action acquisition merger rights offering experience difficulty receiving company stockholder communications meet managementâ\\x80\\x99s perceived assessment decline even though management believes securities already undervalued take longer expected investments rise managementâ\\x80\\x99s perceived companies affected competitive pressures exposure investments agreements certain circumstances lead losses e.g. subprime loans poor caused poor management decisions competitive pressures breakthroughs technology reliance suppliers labor problems shortages corporate restructurings fraudulent disclosures natural disasters events conditions factors',\n",
              " 'factor indicates attractively stock priced relative fundamentals book free cash flow september emerging countries include brazil chile china colombia czech republic greece hungary india indonesia korea malaysia poland qatar russia south africa taiwan thailand turkey momentum factor indicates whether changes companyâ\\x80\\x99s trending therefore could lower funds actively shift assets take advantage opportunities lessen impact decline decline one issuers imposition exchange controls sanctions confiscations trade restrictions including tariffs government restrictions united states governments problems registration settlement custody result losses',\n",
              " 'recent years liquidity increased capacity dealers secondary fixed-income securities make markets securities decreased even overall grown significantly due among things structural changes additional regulatory requirements capital restraints led reduced inventories invest forward commitments zero-coupon securities variable floating inverse floating-rate securities derivatives options futures contracts forwards swaps derivatives derivatives illiquid difficult leveraged small changes produce disproportionate losses subject counterparty greater degree traditional investments like many u.s. states municipalities puerto rico experienced significant downturn recent recession matter fundamental policy invests normal circumstances least net assets securities massachusetts securities otherwise exempt massachusetts state',\n",
              " \"recent years liquidity increased capacity dealers secondary fixed-income securities make markets securities decreased even overall grown significantly due among things structural changes additional regulatory requirements capital restraints led reduced inventories leverage extent uses leveraging techniques net nav volatile leverage tends exaggerate effect changes rates increase decrease 's investments expects invest readily marketable fixed-income securities range maturities short- long-term relatively attractive yields involve undue loss capital derivatives derivatives illiquid difficult leveraged small changes produce disproportionate losses subject counterparty greater degree traditional investments making assessment adviser takes account various factors including credit quality sensitivity rates securities consideration 's holdings\",\n",
              " 'successful use usually depend managerâ\\x80\\x99s ability accurately forecast movements relating certain derivatives potential unlimited loss regardless size initial especially extreme conditions derivative usually would operate hedge provides hedging benefits exposure japanese yen fully hedged times furthermore designed hedge currency fluctuations possible degree currency exposure remain even time hedging transaction implemented',\n",
              " 'invest publicly traded real estate trusts â\\x80\\x9creitsâ\\x80\\x9d lend securities although prices rebound assurance values previous levels securities lending involves possible delay recovery loaned securities possible loss rights collateral borrower fails financially companies real estate industry subject liabilities environmental hazardous waste laws among others selecting stocks managers consider among factors companyâ\\x80\\x99s earnings cash flow capabilities dividend prospects strength growth potential strength companyâ\\x80\\x99s business franchises management team sustainability companyâ\\x80\\x99s competitiveness estimates companyâ\\x80\\x99s net',\n",
              " 'companyâ\\x80\\x99s stock general decline short even extended periods regardless success failure companyâ\\x80\\x99s operations sectors go cycles better worse stocks bonds general consider take account tolerance daily fluctuations markets whether afford leave money long periods time ride periods non-diversified means invest greater percentage assets single issuer single stock relatively high percentage total assets invested securities single issuer limited number issuers securities sensitive changes single issuer limited number issuers large companies generally',\n",
              " 'addition target index times become focused stocks particular sector would subject proportionately higher exposure risks sector stock markets tend move cycles periods rising prices periods falling prices index designed measure small-capitalization stocks united states vanguard russell index objective seeks track benchmark index measures small-capitalization stocks united states style chance returns small-capitalization stocks trail returns overall stock',\n",
              " 'however investments sovereign especially less developed countries involve high degree including governmental entity controls repayment sovereign willing able repay principal and/or pay sovereign timely manner managers additionally consider expected risk-adjusted particular portfolioâ\\x80\\x99s overall allocations volatility although particular tba securities must meet industry-accepted â\\x80\\x9cgood deliveryâ\\x80\\x9d standards assurance purchased forward commitment basis ultimately issued delivered counterparty additionally invest assets derivatives instruments derived directly linked equity securities fixed-income securities commodities currencies janus henderson flexible rates indices limit high-yield/high-risk bonds known â\\x80\\x9cjunkâ\\x80\\x9d bonds less net assets',\n",
              " 'leveraging instruments transactions constitute leverage magnify gains losses increase volatility details regarding calculation class-by-class including discussion adjustments provided â\\x80\\x9cadditional informationâ\\x80\\x9d prospectus sai analyzing specific companies possible managers ordinarily look following characteristics higher average growth strong potential capital appreciation substantial capacity growth revenue either expanding strong balance sheet superior management strong commitment research product development differentiated superior products services steady stream new products services liquidity lack active investments cause delay disposition force fair considers health sciences-related companies include companies design manufacture sell products services used connection healthcare medicine life sciences',\n",
              " 'securities sold adviser believes longer represent relatively attractive opportunities less certainty respect valuations lead additional challenges risks calculating net governments countries less stable likely impose capital controls nationalize company industry place restrictions foreign ownership withdrawing proceeds securities country and/or impose punitive taxes could adversely affect prices securities income-oriented stocks provided reduced changes dividend policies capital resources available dividend payments companies invests normal conditions invest significantly issuers domiciled outside united states i.e. least net assets unless conditions deemed favorable adviser case would invest least net assets issuers outside united states',\n",
              " \"factors include projected growth trends u.s. non-u.s. economies forecasts rates relationship short- long-term rates yield curve current projected trends inflation relative valuation levels equity fixed commodity real estate markets various segments within markets outlook projected growth various industrial sectors information relating business cycles borrowing needs cost capital political trends data relating trade balances labor information relevant legislative public policy changes addition new funds limited operating histories investors evaluate new smaller funds attract sufficient assets achieve trading efficiencies fixed securities decline increase rates longer average duration sensitive changes rates shorter average duration call issuer exercise right redeem fixed earlier expected call liquidity result lack active reduced number capacity traditional participants make fixed securities magnified rising environment circumstances investor redemptions fixed mutual funds higher normal causing increased supply due selling activity derivatives derivative instruments futures swaps structured securities including leverage liquidity credit management risks mispricing valuation complexity achieved emphasizing allocations inflation related assets treasury-inflation protected securities tips commodities real estate complement exposures traditional assets u.s. international equities u.s. bonds short-term instruments issuers call outstanding securities prior maturity number reasons e.g. declining prospectus pimco funds table contents prospectus rates changes credit spreads improvements issuer 's credit quality\",\n",
              " 'managers europe japan asia ex-japan consider anticipated economic growth political outlook current forecasted inflation rates currency outlook environment help identify countries geographies within applicable region likely offer best opportunities lastly managers determine timely regard relative valuation strength exploiting stocks under-priced relative potential company-specific research includes industry competitive analysis revenue model analysis profit analysis balance sheet assessment leveraging instruments transactions constitute leverage magnify gains losses increase volatility details regarding calculation class-by-class including discussion adjustments provided â\\x80\\x9cadditional informationâ\\x80\\x9d prospectus sai',\n",
              " 'however invest funds exposure lower quality higher yielding securities rated bbb+ baa1 including rated bb+ ba1 unrated determined adviser equivalent quality bonds longer durations liquidity result lack active holding legal contractual restrictions resale reduced number capacity participants make holding future delivery contracts enter contracts to-be-announced contracts mortgage dollar rolls involve selling mortgage-related securities simultaneously contracting repurchase similar securities delivery future date predetermined however ratings opinions rating agencies issuing guarantees credit quality evaluation rates fall borrowers likely refinance prepay stated maturity',\n",
              " 'industrial industries significantly affected general economic trends changes consumer sentiment spending commodity prices legislation government regulation spending import controls worldwide competition liability environmental damage depletion resources mandated expenditures safety pollution control normally least assets securities companies principally engaged research development manufacture distribution supply industrial products services equipment please see â\\x80\\x9csales charge waiver policies applied certain intermediariesâ\\x80\\x9d â\\x80\\x9cappendixâ\\x80\\x9d section prospectus initial purchase minimum fidelity advisorâ® traditional ira roth ira rollover ira simplified employee pension-ira fidelity management trust company affiliate serves custodian regular plan established time position opened waive lower purchase minimums circumstances addition considered non-diversified invest greater portion assets securities smaller number individual issuers diversified',\n",
              " 'credit chance issuer fail pay principal timely manner negative perceptions issuerâ\\x80\\x99s ability make payments cause decline index includes u.s. dollar-denominated investment-grade fixed-rate taxable securities issued industrial utility companies maturities years investments selected sampling process normal circumstances least assets invested bonds included index low invests primarily short-term bonds whose prices less sensitive changes prices longer-term bonds liquidity chance able sell timely manner desired',\n",
              " \"fmrc make active allocations within classes including commodities high yield floating real estate inflation-protected emerging markets individually aggregate within classes buying selling futures contracts long short positions effort manage cash flows efficiently remain fully invested facilitate allocation allocations glide path pie chart referred neutral reflect decisions made fmrc overweight underweight march 's neutral allocation fidelityâ® funds futures approximately domestic equity funds* international equity funds* funds* short-term funds* fmrc change percentages time prior june operated different pricing structure\",\n",
              " 'addition certain events natural disasters terrorist attacks war geopolitical events led future lead increased short-term volatility adverse long-term effects world economies markets generally iico considers analysis sectors/industries geographical areas relevant determining attractiveness names weightings sectors lesser degree countries large-capitalization companies unable respond quickly new competitive challenges changes technology able attain high growth successful smaller companies especially extended periods economic expansion iico seeks identify higher-quality companies believes reasonably-valued strong likelihood maintaining and/or growing dividend relatively stable improving fundamental outlook relative expectations event holds material positions suspended securities ability liquidate positions provide liquidity investors compromised could incur significant losses',\n",
              " 'companyâ\\x80\\x99s stock general decline short even extended periods regardless success failure companyâ\\x80\\x99s operations usaa small cap stock table contents subject small-cap company greater smaller less well-known companies opposed established companies proven track records consider take account tolerance daily fluctuations markets whether afford leave money long periods time ride periods emerging-market countries less economically diverse mature developed countries tend politically less stable policy changed upon least daysâ\\x80\\x99 written notice shareholders',\n",
              " 'managers sell stocks believe stock longer meets valuation criteria stockâ\\x80\\x99s parameters outweigh opportunity attractive alternatives identified specific events alter stockâ\\x80\\x99s prospects new new assurance grow maintain economically viable size managers attempt purchase stocks undervalued companies hold stock increased higher level managers believe accurately reflects fair company extent large shareholder including funds college savings plan invests experience relatively large redemptions shareholder reallocates assets redemptions large shareholders could significant negative impact',\n",
              " 'quantitative models systematically evaluate issuers considered investments selected primarily based fundamental analysis individual issuers mfs focuses assets stocks companies believes average earnings growth potential compared companies growth companies written agreement continue modified board trustees agreement continue least february liquidity difficult possible sell certain investments types investments and/or investments certain segments sell certain investments prices times advantageous order meet redemptions cash needs',\n",
              " 'factor indicates attractively stock priced relative fundamentals book free cash flow small-capitalization companies typically less financially stable larger established companies depend small number key personnel making vulnerable loss personnel momentum factor indicates whether changes companyâ\\x80\\x99s trending therefore could lower funds actively shift usaa msci index etfs table contents assets take advantage opportunities lessen impact decline decline one issuers momentum momentum entails securities exhibit persistence relative evidenced better recent compared securities',\n",
              " 'certain derivatives potential unlimited loss regardless size initial exposure certain factors use screens detract environments perhaps extended periods new new assurance grow maintain economically viable size index designed measure securities universe identify exhibit higher growth quality characteristics relative peers common stock prices particularly sensitive rising rates cost capital rises borrowing costs increase',\n",
              " \"buying selling futures contracts long short positions effort manage cash flows efficiently remain fully invested facilitate allocation allocating assets according neutral allocation strategy shown glide path adjusts time reaches allocation similar fidelity simplicity rmd fundâ\\x84 approximately years result 's could lower actively managed funds shift assets take advantage opportunities lessen impact decline decline one issuers allocations glide path pie chart referred neutral reflect decisions made adviser overweight underweight prior june operated certain different policies different pricing structure\",\n",
              " 'managers generally sell stock believe become less attractive relative opportunities characteristics outweigh opportunity specific events alter prospects assets prepaid benefit less declining rates funds similar maturity invest less heavily mortgage- asset-backed securities process stocks selected managers using quantitative models perform differently expected due managersâ\\x80\\x99 judgments regarding factors used models weight placed factor changes factorsâ\\x80\\x99 historical trends technical issues construction implementation models including example data problems and/or software implementation issues first managers rank stocks primarily large cap greater billion publicly-traded u.s. companies attractive least attractive based objective set measures including valuation quality growth sentiment combines two widely known indices proportion mix',\n",
              " 'accordingly investments must remaining maturity days must high quality addition large redemptions could lead increase ratio due smaller base large purchases adversely affect extent delayed new cash required maintain larger cash position ordinarily would principal risks credit default inability unwillingness issuer guarantor fixed-income counterparty repurchase transaction meet payment obligations adversely affect investments yield large shareholder redemptions cause sell securities times would otherwise negatively impact liquidity',\n",
              " 'however ratings opinions rating agencies issuing guarantees credit quality evaluation securities sold adviser believes longer represent relatively attractive opportunities income-oriented stocks provided reduced changes dividend policies capital resources available dividend payments companies invests adviser believes important way accomplish fundamental analysis include meeting company executives employees suppliers customers competitors seeking provide level current exceeds average yield u.s. stocks generally looks average yield stocks companies listed p index',\n",
              " 'addition target index times become focused stocks particular sector would subject proportionately higher exposure risks sector large-cap stocks tend go cycles betterâ\\x80\\x94or worseâ\\x80\\x94than segments stock stock general stock markets tend move cycles periods rising prices periods falling prices index designed measure large-capitalization stocks united states vanguard russell index objective seeks track benchmark index measures large-capitalization stocks united states',\n",
              " \"buying selling futures contracts long short positions effort manage cash flows efficiently remain fully invested facilitate allocation result 's could lower actively managed funds shift assets take advantage opportunities lessen impact decline decline one issuers allocations glide path pie chart referred neutral reflect decisions made adviser overweight underweight prior june operated certain different policies different pricing structure july 's neutral allocation fidelityâ® funds futures approximately domestic equity funds* international equity funds* funds* short-term funds* adviser change percentages time\",\n",
              " \"engaging transactions leveraging effect including investments derivatives swaps total credit default options futures contracts forward-settling securities adjust 's exposure analyzing credit quality issuer security-specific features current potential future valuation trading opportunities select investments seeking current consider potential capital gain unlike individual securities typically pay principal maturity fluctuate managing similar overall bloomberg barclays gnma index\",\n",
              " \"buying selling futures contracts long short positions effort manage cash flows efficiently remain fully invested facilitate allocation allocating assets according neutral allocation strategy shown glide path adjusts time reaches allocation similar fidelity simplicity rmd fundâ\\x84 approximately years result 's could lower actively managed funds shift assets take advantage opportunities lessen impact decline decline one issuers allocations glide path pie chart referred neutral reflect decisions made adviser overweight underweight prior june operated certain different policies different pricing structure\",\n",
              " 'reits subject failing qualify favorable treatment internal revenue code amended meet managementâ\\x80\\x99s perceived assessment decline even though management believes securities already undervalued take longer expected investments rise managementâ\\x80\\x99s perceived companies affected competitive pressures exposure investments agreements certain circumstances lead losses e.g. subprime loans poor caused poor management decisions competitive pressures breakthroughs technology reliance suppliers labor problems shortages corporate restructurings fraudulent disclosures natural disasters events conditions factors',\n",
              " 'addition increases size impact ipos portfolioâ\\x80\\x99s generally decrease portfolioâ\\x80\\x99s holdings decrease individual company multiple companies securities decreases managersâ\\x80\\x99 belief companyâ\\x80\\x99s intrinsic worth incorrect take long short positions derivatives instruments derived directly linked equity securities fixed-income securities commodities currencies rates indices use derivatives hedge earn enhance returns substitute securities invests increase decrease portfolioâ\\x80\\x99s exposure particular adjust portfolioâ\\x80\\x99s currency exposure relative benchmark index gain access foreign markets direct restricted unavailable manage portfolioâ\\x80\\x99s profile addition swing one countries regions invested significant amount assets greater effect portfolioâ\\x80\\x99s would geographically diversified',\n",
              " 'liquidity result lack active holding legal contractual restrictions resale reduced number capacity participants make holding however ratings opinions rating agencies issuing guarantees credit quality evaluation adviser believes important way accomplish fundamental research include analysis credit quality general economic conditions various quantitative measures case corporate obligations meeting company executives employees suppliers customers competitors normally invest assets instruments including bonds mortgage- asset-backed securities money instruments cash cash equivalents certain derivative instruments quality ratings baa3 better bbb- better nationally recognized statistical rating organizations designated adviser instruments unrated determined time purchase equivalent quality adviser liquidity certain holdings deemed less liquid illiquid readily sold without significantly impacting holdings',\n",
              " 'however ratings opinions rating agencies issuing guarantees credit quality evaluation less certainty respect valuations lead additional challenges risks calculating net increasingly emphasize preservation capital greater portion assets equity-income balanced funds approaches passes target date changes derivative correlate perfectly sensitive events index derivative expose losses excess initial falling rates cause issuer redeem call refinance stated maturity result failing recoup full amount initial reinvest proceeds lower yielding securities',\n",
              " 'quantitative assessment relative includes use proprietary valuation model rank companies basis premiums discounts â\\x80\\x9cintrinsic value.â\\x80\\x9d intrinsic assessment companyâ\\x80\\x99s stock trade taking consideration properties impact management prevailing conditions lasalle generally exclude companies high leverage substantial exposure non-core type assets hotels merchant home building timber land substantial exposure non-earning assets and/or substantial exposure ancillary activities i.e. activities involve real estate ownership lasalle considers several primary factors determining sell include whether securityâ\\x80\\x99s compared intrinsic nav and/or wv high relative companies sector universe ii anticipated changes earnings real estate capital conditions economic political social conditions companyâ\\x80\\x99s profile iii whether securityâ\\x80\\x99s percentage total exceeds target percentage iv tactical shifts among property country sectors securities reit adversely affected changes reitâ\\x80\\x99s property property secured mortgages reit holds loss reit federal status changes laws and/or rules related status reitâ\\x80\\x99s failure maintain exemption registration company act amended addition certain events natural disasters terrorist attacks war geopolitical events led future lead increased short-term volatility adverse long-term effects world economies markets generally',\n",
              " 'reduced liquidity adverse impact ability sell securities investments necessary meet liquidity needs arise increase response specific economic event manager wishes purchase particular investments believes higher level liquidity would advantageous occurs yield generally tend move toward yield cash cash equivalents lower yields securities previously held prevailing yields bonds yield liquidation amount prior termination date securities held mature transition cash cash equivalents short-term fixed securities changes influenced number factors including government policy monetary policy inflation expectations perceptions supply demand bonds time duration weighted average maturity decline maturity date approaches',\n",
              " 'general fixed-rate bonds shorter maturities less sensitive movements longer maturities i.e use futures contracts futures options hedge anticipated changes rates guarantee able successfully hedge exposures leveraging leverage includes borrowing reverse repurchase agreements cases derivative contracts result leverage leverage created exposes level exceeds amount invested credit credit refers likelihood issuer guarantor counterparty derivative contract repurchase agreement default principal payments',\n",
              " 'risks increased respect investments lower quality higher yielding securities rated ba1 bb+ nationally recognized statistical rating organizations designated adviser unrated determined adviser equivalent quality securities sometimes referred â\\x80\\x9cjunk bonds.â\\x80\\x9d american funds target date retirement series prospectus liquidity certain holdings become difficult impossible sell particularly times turmoil mortgage-backed securities subject borrowers unable meet obligations property secures mortgages decline insufficient upon foreclosure repay associated loans future delivery contracts enter contracts to-be-announced contracts mortgage dollar rolls involve selling mortgage-related securities simultaneously contracting repurchase similar securities delivery future date predetermined however ratings opinions rating agencies issuing guarantees credit quality evaluation illiquidity result lack active holding legal contractual restrictions resale reduced number capacity participants make holding',\n",
              " 'addition target index times become focused stocks particular sector would subject proportionately higher exposure risks sector large-cap stocks tend go cycles betterâ\\x80\\x94or worseâ\\x80\\x94than segments stock stock general stock markets tend move cycles periods rising prices periods falling prices index designed measure large-capitalization stocks united states vanguard russell index objective seeks track benchmark index measures large-capitalization stocks united states',\n",
              " \"using statistical sampling techniques based factors capitalization industry exposures dividend yield price/earnings p/e ratio price/book p/b ratio earnings growth attempt replicate returns fidelity u.s. extended investable indexâ\\x84 using smaller number securities result could lower actively managed funds shift assets take advantage opportunities lessen impact decline decline one issuers borrower defaults obligation securities loaned insolvency reasons could experience delays costs recovering securities loaned gaining access collateral changes condition issuer counterparty e.g. broker-dealer borrower securities lending transaction increase default issuer counterparty affect 's 's result delays recovering securities and/or capital counterparty mid- small-cap stocks considered stocks top u.s. companies excluding largest companies based float-adjusted capitalization\",\n",
              " 'additionally chinese economy highly dependent exportation products services could experience significant slowdown due reduction global demand chinese exports contraction spending domestic goods chinese consumers trade political disputes chinaâ\\x80\\x99s major trading partners selecting investments adviser generally favors companies one following characteristics well-established companies leading positions attractive business niche potential sustain earnings even times slow economic growth competitive advantages attractive industry proven management high governance standards demonstrated ability consistently increase revenues earnings and/or cash flows prudent capital allocation balance sheet management companies information technology sector adversely affected among things intense competition earnings disappointments rapid obsolescence products services due technological innovations changing consumer preferences sell securities variety reasons secure gains limit losses redeploy assets promising opportunities adviser seeks stocks companies reasonable prices relation present anticipated earnings cash flow book selects stocks adviser believes favorable combination company fundamentals earnings potential relative valuation',\n",
              " 'risks include counterparty derivative transaction fulfill contractual obligations ii mispricing improper valuation iii changes derivative correlate perfectly index primarily takes long short positions securities provide returns similar high yield corporate bonds known â\\x80\\x9cjunk bondsâ\\x80\\x9d based long intermediate short term trends adviser hedge increasing allocations cash equivalents u.s. treasury securities ii purchasing inverse mutual funds inverse etfs iii selling short etfs securities adviser believes demonstrated high correlation high yield bonds subject greater rising interests normally would case due current historically low rates effect potential government fiscal policy initiatives resulting reaction initiatives high yield securities regarded speculative respect issuerâ\\x80\\x99s capacity pay repay principal',\n",
              " 'however investments sovereign especially less developed countries involve high degree including governmental entity controls repayment sovereign willing able repay principal and/or pay sovereign timely manner managers additionally consider expected risk-adjusted particular portfolioâ\\x80\\x99s overall allocations volatility although particular tba securities must meet industry-accepted â\\x80\\x9cgood deliveryâ\\x80\\x9d standards assurance purchased forward commitment basis ultimately issued delivered counterparty participation interests assignments involve credit liquidity means managers look income-producing securities one time determine attractive opportunity consistent portfolioâ\\x80\\x99s policies',\n",
              " 'decrease individual company multiple companies securities decreases managerâ\\x80\\x99s belief companyâ\\x80\\x99s intrinsic worth incorrect addition swing one countries regions invested significant amount assets greater effect would geographically diversified possible repatriate capital dividends particular country governmental entity managerâ\\x80\\x99s perception companyâ\\x80\\x99s growth potential realized securities purchased perform expected reducing returns requests must received good order agents intermediary plan sponsor applicable prior close regular trading session new york stock exchange order receive dayâ\\x80\\x99s net',\n",
              " 'investments commercial paper subject issuer issue enough new commercial paper satisfy obligations respect outstanding commercial paper known rollover addition certain circumstances commercial paper become illiquid suffer reduced liquidity credit default inability unwillingness issuer guarantor fixed-income counterparty repurchase transaction meet payment obligations adversely affect investments yield accordingly investments must remaining maturity days must high quality â\\x80\\x9cretail money fundâ\\x80\\x9d rule 2a-7 permitted continue use amortized cost method valuation seek maintain stable nav board trustees â\\x80\\x9cboardâ\\x80\\x9d permitted impose â\\x80\\x9cliquidity feeâ\\x80\\x9d redemptions temporarily restrict redemptions business days 90-day described detail â\\x80\\x9cpurchase shares.â\\x80\\x9d securities exchange commission â\\x80\\x9csecâ\\x80\\x9d imposes strict requirements quality maturity diversification liquidity investments',\n",
              " 'sub-adviser sell securities variety reasons secure gains limit losses redeploy assets promising opportunities regard derivatives claim reference assets subject enhanced counterparty certain derivatives synthetic instruments attempt replicate certain reference assets adviser reviews characteristics changes key personnel sub-adviser although strategy potential generate attractive returns time increases volatility lead greater losses',\n",
              " 'conditions include constitutional statutory limits issuerâ\\x80\\x99s ability raise revenues increase taxes anticipated actual budget deficits difficulties changes credit quality issuers state states u.s. territories possessions grade quality instruments commonly referred â\\x80\\x9chigh yield securitiesâ\\x80\\x9d â\\x80\\x9cjunk bondsâ\\x80\\x9d involve substantially greater default already default values decline significantly derivatives include futures forward contracts options structured securities inverse floating instruments swaps prepayment/extension instruments subject prepayment and/or extension reduce potential gain instrumentâ\\x80\\x99s holders prepaid increase potential loss maturity extended mfs use derivatives purpose extent mfs uses derivatives mfs expects use derivatives primarily increase decrease exposure particular segment increase decrease exposure alternatives direct investments',\n",
              " 'securities sold adviser believes longer represent relatively attractive opportunities income-oriented stocks provided reduced changes dividend policies capital resources available dividend payments companies invests ordinarily invests least equity assets stock companies whose securities rated least grade nationally recognized statistical rating organizations designated adviser unrated determined equivalent quality adviser invest assets equity securities larger companies domiciled outside united states long listed traded united states seeking produce level current exceeds average yield u.s. stocks generally looks average yield stocks companies listed p index',\n",
              " 'investments selected sampling process normal circumstances least assets invested bonds included index high invests primarily long-term bonds whose prices sensitive changes prices shorter-term bonds invests sampling index meaning holds range securities aggregate approximates full index terms key factors characteristics principal strategies employs indexing approach designed track bloomberg barclays us long treasury index index includes fixed securities issued u.s. treasury including inflation-protected bonds maturities greater years',\n",
              " 'less certainty respect valuations lead additional challenges risks calculating net accordingly calculating net seek generate exposure dividend paying stocks liquidity result lack active holding legal contractual restrictions resale reduced number capacity participants make holding however ratings opinions rating agencies issuing guarantees credit quality evaluation degree imperfection correlation depends circumstances variations speculative demand futures including technical influences futures trading differences instruments hedged instruments standard contracts available trading',\n",
              " 'consumer discretionary industries significantly affected overall economy rates competition consumer confidence spending changes demographics consumer tastes normally least assets securities companies principally engaged manufacture distribution consumer discretionary products services please see â\\x80\\x9csales charge waiver policies applied certain intermediariesâ\\x80\\x9d â\\x80\\x9cappendixâ\\x80\\x9d section prospectus initial purchase minimum fidelity advisorâ® traditional ira roth ira rollover ira simplified employee pension-ira fidelity management trust company affiliate serves custodian regular plan established time position opened waive lower purchase minimums circumstances addition considered non-diversified invest greater portion assets securities smaller number individual issuers diversified',\n",
              " 'companyâ\\x80\\x99s stock general decline short even extended periods regardless success failure companyâ\\x80\\x99s operations otc transactions involve addition incurred transactions securities traded exchanges kevin oâ\\x80\\x99hare cfa managing director manager/analyst lazardâ\\x80\\x99s developing markets equity team focusing technology health care telecommunications consumer discretionary sectors victory capital margaret lindsay cio expedition partners victory capital franchise expedition consider take account tolerance daily fluctuations markets whether afford leave money long periods time ride periods',\n",
              " \"buying selling futures contracts long short positions effort manage cash flows efficiently remain fully invested facilitate allocation result 's could lower actively managed funds shift assets take advantage opportunities lessen impact decline decline one issuers allocations glide path pie chart referred neutral reflect decisions made adviser overweight underweight prior june operated certain different policies different pricing structure july 's neutral allocation fidelityâ® funds futures approximately domestic equity funds* international equity funds* funds* short-term funds* adviser change percentages time\",\n",
              " 'selecting investments adviser generally favors companies one following characteristics low valuation various earnings book sales cash flow metrics absolute terms and/or relative companyâ\\x80\\x99s peers historical norm low valuation relative companyâ\\x80\\x99s fundamentals companies benefit restructuring activity turnaround opportunities sound balance sheet positive characteristics strong improving position overlooked industry country above-average dividend yield and/or potential grow dividends sell securities variety reasons secure gains limit losses redeploy assets promising opportunities intrinsic stock characteristics fully recognized long time stock judged undervalued actually appropriately priced low level considers following countries emerging markets countries added removed asia china india indonesia malaysia pakistan philippines south korea sri lanka taiwan thailand vietnam small medium-sized companies typically less experienced management narrower product lines limited resources less publicly available information larger companies',\n",
              " 'index includes u.s. dollar-denominated investment-grade fixed-rate taxable securities issued industrial utility companies maturities greater years credit chance issuer fail pay principal timely manner negative perceptions issuerâ\\x80\\x99s ability make payments cause decline investments selected sampling process normal circumstances least assets invested bonds included index liquidity chance able sell timely manner desired high invests primarily long-term bonds whose prices sensitive changes prices shorter-term bonds',\n",
              " 'reduced liquidity adverse impact ability sell securities investments necessary meet liquidity needs arise increase response specific economic event manager wishes purchase particular investments believes higher level liquidity would advantageous occurs yield generally tend move toward yield cash cash equivalents lower yields securities previously held prevailing yields bonds yield liquidation amount prior termination date securities held mature transition cash cash equivalents short-term fixed securities changes influenced number factors including government policy monetary policy inflation expectations perceptions supply demand bonds time duration weighted average maturity decline maturity date approaches',\n",
              " 'decrease individual company multiple companies securities decreases personnelâ\\x80\\x99s belief companyâ\\x80\\x99s intrinsic worth incorrect positions sold among things longer high conviction potential characteristics caused re-evaluation opportunity invest assets derivatives instruments derived directly linked equity securities fixed-income securities commodities currencies rates indices although research team find high-conviction ideas anywhere world research team emphasizes investments securities u.s.-based issuers personnelâ\\x80\\x99s perception companyâ\\x80\\x99s growth potential realized securities purchased perform expected reducing returns',\n",
              " 'moderate invests primarily short- intermediate-term bonds whose prices less sensitive changes prices long-term bonds generally moderate intermediate-term funds investors expect monthly fluctuate accordingly investments selected sampling process normal circumstances least assets invested bonds included index invests sampling index meaning holds range securities aggregate approximates full index terms key factors characteristics index includes fixed securities issued u.s. treasury including inflation-protected bonds maturities years',\n",
              " 'continue hold securities downgraded including bonds downgraded grade credit quality â\\x80\\x9cjunk bondsâ\\x80\\x9d adviser believes would advantageous active trading exist certain investments impair ability sell realize current valuation investments event need liquidate assets declining environment proceeds prepaid maturing instruments reinvested lower amount public information available obligations generally less corporate equities bonds meaning obligations dependent analytical abilities adviser stock corporate investments evaluating creditworthiness adviser considers ratings assigned rating agencies generally performs additional credit analysis',\n",
              " 'use leverage cause liquidate positions advantageous satisfy obligations meet segregation requirements commonwealth puerto rico related issuers continue experience difficulties rating agency downgrades numerous issuers entered title iii puerto rico oversight management economic stability act similar bankruptcy protection commonwealth puerto rico restructure result federal reserveâ\\x80\\x99s recent decision raise target fed funds last two years ii slowly unwind quantitative easing program possibility continue either policies going forward among factors markets could experience increased volatility could negatively impact enter residual transactions expose leverage greater fixed-rate active trading exist certain investments impair ability sell realize current valuation investments event need liquidate assets',\n",
              " 'invest special situations companies involved initial public offerings tender offers mergers corporate restructurings companies involved management changes companies developing new technologies addition holders depositary receipts limited voting rights rights afforded stockholders typical domestic company event corporate action acquisition merger rights offering experience difficulty receiving company stockholder communications certain special situation investments prevent ownership interests therein withdrawn special situation portion thereof realized deemed realized negatively impact securities companies involved initial public offering major corporate event business consolidation restructuring exposed heightened high degree uncertainty associated events securities issued initial public offerings often issued companies early stages development history little revenues operate loss following offering',\n",
              " 'managers use quantitative factors screen selection universe analyzing factors momentum i.e. changes relative changes overall prices earnings estimate revisions i.e. changes analystsâ\\x80\\x99 earnings-per-share estimates review consider fundamental changes addition portion securities selected identified primarily basis dividend yields details regarding calculation class-by-class including discussion adjustments provided â\\x80\\x9cadditional informationâ\\x80\\x9d prospectus sai reit real estate-related adverse changes real estate markets affect reit investments real estate-linked derivatives managers partition selection universe industry identify believe undervalued securities industry determine potential holdings representing broad range industry groups',\n",
              " 'reits subject failing qualify favorable treatment internal revenue code amended companies affected factors including obtaining protecting patents failure significant competitive pressures including aggressive pricing products services new entrants competition short product cycles due accelerated technological developments meet managementâ\\x80\\x99s perceived assessment decline even though management believes securities already undervalued take longer expected investments rise managementâ\\x80\\x99s perceived companies affected competitive pressures exposure investments agreements certain circumstances lead losses e.g. subprime loans',\n",
              " \"engaging transactions leveraging effect including investments derivatives swaps total credit default options futures contracts forward-settling securities adjust 's exposure analyzing credit quality issuer security-specific features current potential future valuation trading opportunities select investments unlike individual securities typically pay principal maturity fluctuate ability issuer repay principal prior 's maturity cause greater volatility rates change decline credit quality issuer provider credit support maturity-shortening structure cause decrease\",\n",
              " \"buy sell shares various ways internet www.fidelity.com phone fidelity automated service telephone fastâ® reach fidelity representative mail additional purchases fidelity investments p.o summary fund/class fidelityâ® emerging markets fund/fidelityâ® emerging markets objective seeks capital appreciation using fundamental analysis factors issuer 's condition industry position well economic conditions select investments box cincinnati oh tdd- service deaf hearing impaired buy one net per nav box cincinnati oh redemptions fidelity investments p.o\",\n",
              " 'extension chance periods rising rates certain securities paid substantially slowly originally anticipated securities fall credit chance issuer fail pay principal timely manner negative perceptions issuerâ\\x80\\x99s ability make payments cause decline investment-grade fixed securities rated equivalent baa3 moodyâ\\x80\\x98s another independent rating agency unrated determined comparable quality advisor credit low invests primarily bonds considered high-quality lesser extent bonds considered medium-quality call chance periods falling rates issuers callable bonds call redeem securities higher coupon rates rates maturity dates',\n",
              " 'risks increased respect investments lower quality higher yielding securities rated ba1 bb+ nationally recognized statistical rating organizations designated adviser unrated determined adviser equivalent quality securities sometimes referred â\\x80\\x9cjunk bonds.â\\x80\\x9d liquidity certain holdings deemed less liquid illiquid readily sold without significantly impacting holdings however invest funds exposure lower quality higher yielding securities rated bbb+ baa1 including rated bb+ ba1 unrated determined adviser equivalent quality bonds longer durations liquidity result lack active holding legal contractual restrictions resale reduced number capacity participants make holding however ratings opinions rating agencies issuing guarantees credit quality evaluation adviser consider whether overall conditions would favor change exposure various types bonds geographic regions',\n",
              " \"securities companies whose fidelity management research company fmr believes fully recognized public using fundamental analysis factors issuer 's condition industry position well economic conditions select investments summary fidelity advisorâ® series opportunistic insights objective seeks capital appreciation open business day new york stock exchange nyse open information distributions receive subject federal generally taxed ordinary capital gains subject state local taxes unless tax-advantaged retirement account case taxed later upon withdrawal account\",\n",
              " 'addition midsize companies particularly affected increases find difficult borrow money continue expand operations difficulty repaying loans currency fluctuations adversely impact japanese economy export subject principal risks noted adversely affect net nav trading yield total ability meet goal increased possibility untimely responses certain corporate actions issuer unsponsored depositary receipt program japan subject natural disasters earthquakes volcanic eruptions typhoons tsunamis could negatively affect',\n",
              " 'portfolioâ\\x80\\x99s holdings decrease individual company multiple companies securities decreases personnelâ\\x80\\x99s belief companyâ\\x80\\x99s intrinsic worth incorrect addition swing one countries regions invested significant amount assets greater effect portfolioâ\\x80\\x99s would geographically diversified possible repatriate capital dividends particular country governmental entity positions sold among things longer high conviction potential characteristics caused re-evaluation opportunity invest assets derivatives instruments derived directly linked equity securities fixed-income securities commodities currencies rates indices',\n",
              " 'liquidity futures markets depends participants entering offsetting transactions rather making taking delivery low margin deposits normally required futures trading possible employ high degree leverage derivatives include privately placed otherwise exempt sec registration including certain rule 144a eligible securities companies affected factors including obtaining protecting patents failure significant competitive pressures including aggressive pricing products services new entrants competition short product cycles due accelerated technological developments futures exchanges limit fluctuations futures contract prices imposing maximum permissible daily movement',\n",
              " 'rates united states near historic lows fixed-income portfolios/funds currently face heightened level thus portfolio/fund able successfully implement short strategy due limited availability desired securities reasons portfolio/fund substantial short positions must borrow securities make delivery buyer decreased liquidity fixed-income markets make difficult portfolio/fundâ\\x80\\x99s fixed-income holdings addition regulatory authorities process adopting implementing regulations governing derivatives markets although ultimate impact regulations remains unclear regulations adversely affect among things availability derivatives',\n",
              " 'addition target index times become focused stocks particular sector would subject proportionately higher exposure risks sector principal strategies employs indexing approach designed track russell index represents approximately u.s. equity comprises largest companies united states subject following could affect stock chance stock prices overall decline stock markets tend move cycles periods rising prices periods falling prices summary objective seeks track benchmark index measures broad u.s. stock',\n",
              " 'countries typically located asia-pacific region eastern europe middle east central america south america africa addition often substantially less publicly available information issuers information tends lesser quality liquidity possibility securities readily sold within seven calendar days approximately valued invest significantly asia-pacific region consists hong kong peopleâ\\x80\\x99s republic china korea taiwan among countries normal circumstances least net assets plus borrowings purposes invested emerging issuers policy',\n",
              " 'second equity securities selected based favorable exposure quality style factor incorporates measurements equity earnings variability cash assets leverage exposure quality factor use dividend screens detract environments perhaps extended periods changing regulations continuing consolidations development new products structures likely significant impact services companies first dividend persistence yield screens applied equity securities msci acwi ex reits index order exclude securities negative year-over-year dividend per growth last five years securities insufficient data calculate growth excluded ii exclude securities five average monthly dividend yield less times average five average monthly dividend yields securities msci acwi ex reits index therefore required sell securities subsequently recognize gains sales might recognized distribute securities in-kind',\n",
              " 'china hong kongâ\\x80\\x99s largest trading partner terms exports imports services companyâ\\x80\\x99s profitability therefore stock prices especially sensitive changes well ability borrowers repay loans changing regulations continuing consolidations development new products structures likely significant impact services companies services companies subject extensive government regulation affect profitability many ways including limiting amount types loans commitments make rates fees charge addition midsize companies particularly affected increases find difficult borrow money continue expand operations difficulty repaying loans',\n",
              " 'addition certain events natural disasters terrorist attacks war geopolitical events led future lead increased short-term volatility adverse long-term effects world economies markets generally iico look number factors selecting securities including companyâ\\x80\\x99s competitive position sustainability companyâ\\x80\\x99s growth earnings potential valuation companyâ\\x80\\x99s financials including cash flow balance sheet management company strength industry size companyâ\\x80\\x99s total addressable margin trends switching costs control distribution channels brand equity scale patent protection applicable economic political conditions country company located and/or business large-capitalization companies unable respond quickly new competitive challenges changes technology able attain high growth successful smaller companies especially extended periods economic expansion event holds material positions suspended securities ability liquidate positions provide liquidity investors compromised could incur significant losses emerging markets susceptible capital controls governmental interference local taxes imposed international investments restrictions gaining access sales proceeds less efficient trading markets',\n",
              " 'reits subject failing qualify favorable treatment internal revenue code amended instance larger established companies less able respond quickly new competitive challenges changes consumer tastes innovation smaller competitors addition holders depositary receipts limited voting rights rights afforded stockholders typical domestic company event corporate action acquisition merger rights offering experience difficulty receiving company stockholder communications interests reit affected among factors changes properties owned reit changes prospect earnings and/or cash flow growth reit defaults borrowers tenants saturation decreases rates rents economic political regulatory matters affecting real estate prospectus table contents columbia variable funds summary ctivpsm mfsâ® blended researchâ® core equity continued industry including reits companies affected factors including obtaining protecting patents failure significant competitive pressures including aggressive pricing products services new entrants competition short product cycles due accelerated technological developments',\n",
              " 'companyâ\\x80\\x99s stock general decline short even extended periods regardless success failure companyâ\\x80\\x99s operations information technology companies heavily dependent intellectual property rights adversely affected loss impairment rights large-capitalization companies unable respond quickly new competitive challenges attain high growth successful smaller companies especially extended periods economic expansion returns investments usaa aggressive growth table contents stocks large-capitalization companies could trail returns investments stocks small- mid-capitalization companies consider take account tolerance daily fluctuations markets whether afford leave money long periods time ride periods',\n",
              " 'additional regulation derivatives make costly limit availability utility otherwise adversely affect disrupt markets impact changes markets practical implications participants fully known time past decade markets throughout world experienced increased volatility depressed valuations decreased liquidity heightened uncertainty using swaps futures derivatives increase losses reduce opportunities gains prices rates derivative instruments behave way anticipated countries seek withdraw eu and/or abandon euro common currency eu',\n",
              " 'recently italian government experienced significant budget deficits high amount public causing credit agencies lower italyâ\\x80\\x99s sovereign rating current political uncertainty surrounding european union eu membership including referendum united kingdom voted exit eu increase volatility addition midsize companies particularly affected increases find difficult borrow money continue expand operations difficulty repaying loans italyâ\\x80\\x99s economy characterized slow growth past decades due factors high rigid labor generous pension system subject principal risks noted adversely affect net nav trading yield total ability meet goal',\n",
              " 'decrease individual company multiple companies securities decreases managersâ\\x80\\x99 belief companyâ\\x80\\x99s intrinsic worth incorrect take long short positions derivatives instruments derived directly linked equity securities fixed-income securities commodities currencies rates indices addition swing one countries regions invested significant amount assets greater effect would geographically diversified use derivatives hedge earn enhance returns substitute securities invests increase decrease exposure particular adjust currency exposure relative benchmark index gain access foreign markets direct restricted unavailable manage profile possible repatriate capital dividends particular country governmental entity',\n",
              " \"using statistical sampling techniques based factors capitalization industry exposures dividend yield price/earnings p/e ratio price/book p/b ratio earnings growth attempt replicate returns fidelity u.s. large cap indexâ\\x84 using smaller number securities result could lower actively managed funds shift assets take advantage opportunities lessen impact decline decline one issuers borrower defaults obligation securities loaned insolvency reasons could experience delays costs recovering securities loaned gaining access collateral changes condition issuer counterparty e.g. broker-dealer borrower securities lending transaction increase default issuer counterparty affect 's 's result delays recovering securities and/or capital counterparty securities lending involves borrower fail securities loaned timely manner\",\n",
              " \"allocating 's assets across emerging markets sectors using different fidelity managers buy sell shares various ways internet www.fidelity.com phone fidelity automated service telephone fastâ® reach fidelity representative mail additional purchases fidelity investments p.o summary fund/class fidelityâ® emerging markets discovery fund/fidelityâ® emerging markets discovery objective seeks capital appreciation using fundamental analysis factors issuer 's condition industry position well economic conditions select investments box cincinnati oh tdd- service deaf hearing impaired buy one net per nav\",\n",
              " 'however ratings opinions rating agencies issuing guarantees credit quality evaluation less certainty respect valuations lead additional challenges risks calculating net increasingly emphasize preservation capital greater portion assets equity-income balanced funds approaches passes target date changes derivative correlate perfectly sensitive events index derivative expose losses excess initial falling rates cause issuer redeem call refinance stated maturity result failing recoup full amount initial reinvest proceeds lower yielding securities',\n",
              " \"buy sell shares various ways internet www.fidelity.com phone fidelity automated service telephone fastâ® reach fidelity representative mail additional purchases fidelity investments p.o using fundamental analysis factors issuer 's condition industry position well economic conditions select investments allocating investments across different countries regions summary fidelityâ® international capital appreciation objective seeks long-term growth capital box cincinnati oh tdd- service deaf hearing impaired buy one net per nav\",\n",
              " 'securities sold adviser believes longer represent relatively attractive opportunities less certainty respect valuations lead additional challenges risks calculating net governments countries less stable likely impose capital controls nationalize company industry place restrictions foreign ownership withdrawing proceeds securities country and/or impose punitive taxes could adversely affect prices securities normal conditions invest significantly issuers domiciled outside united states i.e. least net assets unless conditions deemed favorable adviser case would invest least net assets issuers outside united states adviser believes important way accomplish fundamental analysis include meeting company executives employees suppliers customers competitors',\n",
              " 'instruments illiquid difficult involve leverage small changes produce disproportionate losses traded exchange subject counterparty transaction fail meet obligations derivatives contract credit default swaps used replicate exposure bonds hedge default credit event involving one holdings use futures contracts swaps either extend shorten overall maturity take long short positions particular countries markets summary decisions based fundamental factors yield credit quality differences among bonds well supply demand trends currency values split-rated i.e. assigned different ratings different t. rowe credit rating agencies higher rating used',\n",
              " 'companyâ\\x80\\x99s stock general decline short even extended periods regardless success failure companyâ\\x80\\x99s operations investments related natural resources precious metals minerals fluctuate significantly short periods time non-diversified means invest greater percentage assets single issuer single stock relatively high percentage total assets invested securities single issuer limited number issuers securities sensitive changes single issuer limited number issuers large companies generally emerging-market countries less economically diverse mature developed countries tend politically less stable',\n",
              " 'implementing strategy managers make decisions based primarily analysis individual companies rather economic forecasts managers look stocks companies believe increase time using strategy developed advisor management based belief long term stock movements follow growth earnings revenues and/or cash flow style time favoring growth style gains big losses bigger equity funds using different styles normal conditions managers seek securities companies whose earnings revenues key business fundamentals growing growing accelerating pace',\n",
              " 'electronics industry significantly affected rapid obsolescence intense competition global demand normally least assets securities companies principally engaged design manufacture electronic components equipment vendors electronic component manufacturers electronic component distributors electronic instruments electronic systems vendors please see â\\x80\\x9csales charge waiver policies applied certain intermediariesâ\\x80\\x9d â\\x80\\x9cappendixâ\\x80\\x9d section prospectus initial purchase minimum fidelity advisorâ® traditional ira roth ira rollover ira simplified employee pension-ira fidelity management trust company affiliate serves custodian regular plan established time position opened waive lower purchase minimums circumstances addition considered non-diversified invest greater portion assets securities smaller number individual issuers diversified',\n",
              " 'conditions include constitutional statutory limits issuerâ\\x80\\x99s ability raise revenues increase taxes anticipated actual budget deficits difficulties changes credit quality issuers state states u.s. territories possessions grade quality instruments commonly referred â\\x80\\x9chigh yield securitiesâ\\x80\\x9d â\\x80\\x9cjunk bondsâ\\x80\\x9d involve substantially greater default already default values decline significantly derivatives include futures forward contracts options structured securities inverse floating instruments swaps prepayment/extension instruments subject prepayment and/or extension reduce potential gain instrumentâ\\x80\\x99s holders prepaid increase potential loss maturity extended mfs use derivatives purpose extent mfs uses derivatives mfs expects use derivatives primarily increase decrease exposure particular segment increase decrease exposure alternatives direct investments',\n",
              " 'portfolioâ\\x80\\x99s holdings decrease individual company multiple companies securities decreases managersâ\\x80\\x99 belief companyâ\\x80\\x99s intrinsic worth incorrect portfolioâ\\x80\\x99s holdings become concentrated less able spread potentially reduce loss volatility take long short positions derivatives instruments derived directly linked equity securities fixed-income securities commodities currencies rates indices use derivatives hedge earn enhance returns substitute securities invests increase decrease portfolioâ\\x80\\x99s exposure particular adjust portfolioâ\\x80\\x99s currency exposure relative benchmark index gain access foreign markets direct restricted unavailable manage portfolioâ\\x80\\x99s profile addition swing one countries regions invested significant amount assets greater effect portfolioâ\\x80\\x99s would geographically diversified',\n",
              " \"liquidity result lack active reduced number capacity traditional participants make fixed securities magnified rising environment circumstances investor redemptions fixed mutual funds higher normal causing increased supply due selling activity rates fall 's decline assurance given u.s. government would provide support agencies instrumentalities fixed securities decline increase rates longer average duration sensitive changes rates shorter average duration call issuer exercise right redeem fixed earlier expected call certain legal challenges use lease revenue bonds various states revenue revenue bonds generally backed payable revenues derived specific facility specific revenue source sources california bonds generally issued behalf state california political subdivisions financing authorities agencies payments made later expected prevented proceeds would otherwise received given time higher prevailing table contents pimco gurtin california opportunistic prepayment prepayment fixed-income securities common rates declining shorten securities effective maturity reduce 's cause reinvest lower yielding securities when-issued securities risks related securities issued when-issued basis payment delivery take place future date beyond normal settlement date\",\n",
              " 'real estate trusts reits decrease decline real estate values broadly companyâ\\x80\\x99s stock general decline short even extended periods regardless success failure companyâ\\x80\\x99s operations additionally invest derivatives including futures options write sell covered call options securities holds generate additionally reits dependent upon capabilities reitâ\\x80\\x99s manager limited diversification particularly sensitive economic prospectus table contents downturns changes rates real estate values cash flows real estate assets occupancy rates zoning laws laws risks associated derivatives include derivative well-correlated index exchange-traded funds etfs currency relates use derivatives intended effects result losses underperformance missed opportunities unable sell derivative illiquid secondary counterparty unwilling unable meet obligation movements derivatives transaction could expose effects leverage could increase exposure magnify risks losses cause losses realized quickly',\n",
              " 'addition target index times become focused stocks particular sector would subject proportionately higher exposure risks sector large-cap growth stocks tend go cycles betterâ\\x80\\x94or worseâ\\x80\\x94than segments stock stock general index designed measure large-capitalization growth stocks united states style chance returns large-capitalization growth stocks trail returns overall stock vanguard russell growth index objective seeks track benchmark index measures large-capitalization growth stocks united states',\n",
              " 'leveraging instruments transactions constitute leverage magnify gains losses increase volatility details regarding calculation class-by-class including discussion adjustments provided â\\x80\\x9cadditional informationâ\\x80\\x9d prospectus sai enter credit default cross-currency total variance forms swap agreements order manage exposure credit currency managers evaluate fundamental growth prospects focus companies expect strong potential capital appreciation write call options individual securities hold i.e. â\\x80\\x9cnakedâ\\x80\\x9d call options',\n",
              " 'less certainty respect valuations lead additional challenges risks calculating net accordingly calculating net liquidity result lack active holding legal contractual restrictions resale reduced number capacity participants make holding however ratings opinions rating agencies issuing guarantees credit quality evaluation degree imperfection correlation depends circumstances variations speculative demand futures including technical influences futures trading differences instruments hedged instruments standard contracts available trading unable close position futures contract would remain subject adverse movements able close futures position',\n",
              " 'additionally chinese economy highly dependent exportation products services could experience significant slowdown due reduction global demand chinese exports contraction spending domestic goods chinese consumers trade political disputes chinaâ\\x80\\x99s major trading partners selecting investments adviser generally favors companies one following characteristics well-established companies leading positions attractive business niche potential sustain earnings even times slow economic growth competitive advantages attractive industry proven management high governance standards demonstrated ability consistently increase revenues earnings and/or cash flows prudent capital allocation balance sheet management companies information technology sector adversely affected among things intense competition earnings disappointments rapid obsolescence products services due technological innovations changing consumer preferences sell securities variety reasons secure gains limit losses redeploy assets promising opportunities adviser seeks stocks companies reasonable prices relation present anticipated earnings cash flow book selects stocks adviser believes favorable combination company fundamentals earnings potential relative valuation',\n",
              " 'asia ex-japan companies include company domiciled organized asia ex-japan country ii established presence conducts business asia ex-japan region iii conducts significant part economic activities asia ex-japan region derivatives derivatives illiquid difficult leveraged small changes produce disproportionate losses subject counterparty greater degree traditional investments many asian economies experienced rapid growth industrialization assurance growth continue expects utilize derivatives options futures contracts forwards swaps adviser utilize fundamental analysis quantitative models attempt identify securities seek build delivers attractive risk-adjusted returns',\n",
              " 'analyzing credit quality issuer security-specific features current potential future valuation trading opportunities select investments unlike individual securities typically pay principal maturity fluctuate potentially total assets securities finance similar types projects please see â\\x80\\x9csales charge waiver policies applied certain intermediariesâ\\x80\\x9d â\\x80\\x9cappendixâ\\x80\\x9d section prospectus decline credit quality issuer provider credit support maturity-shortening structure cause decrease',\n",
              " 'quantitative process involves ranking stocks based growth valuation characteristics managers generally sell stock believe become less attractive relative opportunities characteristics outweigh opportunity specific events alter prospects utilities industry depend part investor perception sector relative sectors managers consider company engaged utilities industry companyâ\\x80\\x99s securities listed least one index made exclusively companies engaged one following industries electricity natural gas telecommunications services cable television water sanitation services company derives revenues net profits ownership operation facilities used provide electricity natural gas telecommunications services cable television water sanitation services finally managers use quantitative model build stocks believe provide optimal balance expected',\n",
              " 'companyâ\\x80\\x99s stock general decline short even extended periods regardless success failure companyâ\\x80\\x99s operations times put options increases exposure decline addition attempt reduce volatility time employ options-based risk-management strategy purchasing and/or selling options component indexes corresponding etfs individual equities attempt provide fairly consistent returns wide range equity environments accepts credit recognized means enhance investorâ\\x80\\x99s sells index corresponding etf call options receives cash limits opportunity profit increase stock',\n",
              " 'rankings used determine prospective candidates fundamental research subsequently possible addition derivatives derivatives illiquid difficult leveraged small changes produce disproportionate losses subject counterparty greater degree traditional investments adviser seeks manage overall volatility relative universe companies comprise lowest total u.s. capitalization favoring promising securities offer best balance targeted use options strategies involving purchase and/or writing various combinations call and/or put options including individual securities stock indices futures contracts including futures contracts individual securities stock indices shares exchange-traded funds etfs december approximately small- mid-capitalization companies representing capitalization range approximately million approximately billion',\n",
              " 'energy industries significantly affected fluctuations energy prices supply demand energy fuels energy conservation success exploration projects government regulations normally least assets securities companies principally engaged energy field including conventional areas oil gas electricity coal newer sources energy nuclear geothermal oil shale solar power please see â\\x80\\x9csales charge waiver policies applied certain intermediariesâ\\x80\\x9d â\\x80\\x9cappendixâ\\x80\\x9d section prospectus initial purchase minimum fidelity advisorâ® traditional ira roth ira rollover ira simplified employee pension-ira fidelity management trust company affiliate serves custodian regular plan established time position opened waive lower purchase minimums circumstances addition considered non-diversified invest greater portion assets securities smaller number individual issuers diversified',\n",
              " 'leveraging instruments transactions constitute leverage magnify gains losses increase volatility use sophisticated model construction constraints individual industry levels manage exposures relative benchmark details regarding calculation class-by-class including discussion adjustments provided â\\x80\\x9cadditional informationâ\\x80\\x9d prospectus sai strategy focuses upon companies undergoing positive fundamental change sustainable growth characteristics reit real estate-related adverse changes real estate markets affect reit investments real estate-linked derivatives',\n",
              " 'instance larger established companies less able respond quickly new competitive challenges changes consumer tastes innovation smaller competitors addition holders depositary receipts limited voting rights rights afforded stockholders typical domestic company event corporate action acquisition merger rights offering experience difficulty receiving company stockholder communications companies affected factors including obtaining protecting patents failure significant competitive pressures including aggressive pricing products services new entrants competition short product cycles due accelerated technological developments invest privately placed securities instruments purchased sold pursuant rule 144a exemptions securities act amended act subject liquidity determinations certain regulatory restrictions insufficient number buyers interested purchasing private placements particular time could adversely affect marketability investments might unable dispose promptly reasonable prices subjecting liquidity',\n",
              " 'risks increased respect investments lower quality higher yielding securities rated ba1 bb+ nationally recognized statistical rating organizations designated adviser unrated determined adviser equivalent quality securities sometimes referred â\\x80\\x9cjunk bonds.â\\x80\\x9d american funds target date retirement series prospectus liquidity certain holdings become difficult impossible sell particularly times turmoil mortgage-backed securities subject borrowers unable meet obligations property secures mortgages decline insufficient upon foreclosure repay associated loans future delivery contracts enter contracts to-be-announced contracts mortgage dollar rolls involve selling mortgage-related securities simultaneously contracting repurchase similar securities delivery future date predetermined however ratings opinions rating agencies issuing guarantees credit quality evaluation illiquidity result lack active holding legal contractual restrictions resale reduced number capacity participants make holding',\n",
              " 'addition certain events natural disasters terrorist attacks war geopolitical events led future lead increased short-term volatility adverse long-term effects world economies markets generally iico sell believes longer presents sufficient appreciation potential caused effect changes industry sector issuer loss company competitive position poor execution management threat technological disruption and/or poor use resources large-capitalization companies unable respond quickly new competitive challenges changes technology able attain high growth successful smaller companies especially extended periods economic expansion growth-oriented companies whose earnings iico believes likely grow faster economy key factors iico typically analyzes consist companyâ\\x80\\x99s brand equity proprietary technology economies scale barriers entry strength management level competitive intensity capital form higher dividends repurchases strong balance sheets cash flows threat substitute products interaction bargaining power company customers suppliers competitors',\n",
              " \"buying selling futures contracts long short positions effort manage cash flows efficiently remain fully invested facilitate allocation allocating assets according neutral allocation strategy shown glide path adjusts time reaches allocation similar fidelity simplicity rmd fundâ\\x84 approximately years result 's could lower actively managed funds shift assets take advantage opportunities lessen impact decline decline one issuers allocations glide path pie chart referred neutral reflect decisions made adviser overweight underweight prior june operated certain different policies different pricing structure\",\n",
              " 'companies pharmaceuticals industry affected industry competition dependency limited number products obsolescence products government approvals regulations loss impairment intellectual property rights litigation regarding product liability current political uncertainty surrounding european union eu membership including referendum united kingdom voted exit eu increase volatility international trade large component swiss economy switzerland depends upon exports generate economic growth addition midsize companies particularly affected increases find difficult borrow money continue expand operations difficulty repaying loans subject principal risks noted adversely affect net nav trading yield total ability meet goal',\n",
              " 'however ratings opinions rating agencies issuing guarantees credit quality evaluation less certainty respect valuations lead additional challenges risks calculating net increasingly emphasize preservation capital greater portion assets equity-income balanced funds approaches passes target date changes derivative correlate perfectly sensitive events index derivative expose losses excess initial falling rates cause issuer redeem call refinance stated maturity result failing recoup full amount initial reinvest proceeds lower yielding securities',\n",
              " \"allocating assets according stable neutral allocation strategy shown glide path allocating assets among fidelityâ® funds futures according stable neutral allocation approximately domestic equity funds* international equity funds* funds* short-term funds* adviser change percentages time buying selling futures contracts long short positions effort manage cash flows efficiently remain fully invested facilitate allocation result 's could lower actively managed funds shift assets take advantage opportunities lessen impact decline decline one issuers allocations glide path pie chart referred neutral reflect decisions made adviser overweight underweight\",\n",
              " 'sell securities variety reasons secure gains limit losses redeploy assets promising opportunities addition larger companies less capable responding quickly competitive challenges industry changes suffer sharper declines result earnings disappointments selecting investments adviser generally favors companies one following characteristics attractive business niche potential earnings growth attractive valuation relative companyâ\\x80\\x99s peers historical norm barriers entry business seasoned management healthy balance sheet potential grow dividends conduct repurchases stocks carry recognize intrinsic actually appropriately priced low level hold stocks either growth characteristics could underperform stock funds take strictly growth approach one style currently favor',\n",
              " 'credit chance issuer fail pay principal timely manner negative perceptions issuerâ\\x80\\x99s ability make payments cause decline index includes u.s. dollar-denominated investment-grade fixed-rate taxable securities issued industrial utility companies maturities years generally moderate intermediate-term funds investors expect monthly fluctuate accordingly moderate invests primarily intermediate-term bonds whose prices less sensitive changes prices long-term bonds investments selected sampling process normal circumstances least assets invested bonds included index',\n",
              " \"additional regulation derivatives make costly limit availability utility otherwise adversely affect disrupt markets impact changes markets practical implications participants fully known time past decade markets throughout world experienced increased volatility depressed valuations decreased liquidity heightened uncertainty governmental entity delay refuse unable pay principal sovereign due cash flow problems insufficient foreign currency reserves political considerations relative size governmental entity 's position relation economy failure put place economic reforms using swaps futures derivatives increase losses reduce opportunities gains prices rates derivative instruments behave way anticipated\",\n",
              " \"additionally controlled diversification constraints limit exposure individual companies well groups correlated companies notify shareholders least days advance change policies would permit normally invest less net assets plus borrowings purposes small companies recent potential future changes industry and/or economic trends well changes monetary policy made central banks and/or governments affect level rates contribute development increase volatility illiquidity shareholder redemptions adverse effects decline company 's stock could negatively impact 's adviser implements strategy using quantitative model driven fundamental technical stock selection variables including relative profit trends capital structure history invest assets least net assets plus borrowings purposes invested small companies\",\n",
              " 'impact growth regulation ability willingness institutions engage trading â\\x80\\x9cmaking marketâ\\x80\\x9d instruments remains unsettled liquidity futures markets depends participants entering offsetting transactions rather making taking delivery leverage presents opportunity increased net capital gains exaggerate volatility loss low margin deposits normally required futures trading possible employ high degree leverage potential changes regulation derivatives markets make derivatives costly limit derivatives otherwise adversely affect derivatives',\n",
              " 'loss increases redemption requests unusually large frequent occur times overall turmoil declining prices companies one following characteristics favorable supply/demand imbalance companyâ\\x80\\x99s product service underappreciated growth opportunities differentiated business model ability gain growth opportunities emerging industries emerge industry changes selecting stocks adviser seeks invest companies durable franchises appear undervalued ability grow intrinsic per regard derivatives claim reference assets subject enhanced counterparty certain derivatives synthetic instruments attempt replicate certain reference assets specifically stock decrease increase anticipated adviser investors fail recognize companyâ\\x80\\x99s factors adviser believes cause stock increase occur',\n",
              " 'selecting investments adviser generally favors companies one following characteristics low valuation various earnings book sales cash flow metrics absolute terms and/or relative companyâ\\x80\\x99s peers historical norm low valuation relative companyâ\\x80\\x99s fundamentals companies benefit restructuring activity turnaround opportunities sound balance sheet positive characteristics above-average dividend yield and/or potential grow dividends sell securities variety reasons secure gains limit losses redeploy assets promising opportunities percentage assets allocated investments outside u.s. vary according managerâ\\x80\\x99s outlook intrinsic stock characteristics fully recognized long time stock judged undervalued actually appropriately priced low level small medium-sized companies typically less experienced management narrower product lines limited resources less publicly available information larger companies',\n",
              " \"engaging transactions leveraging effect including investments derivatives swaps total credit default options futures contracts forward-settling securities adjust 's exposure analyzing credit quality issuer security-specific features current potential future valuation trading opportunities select investments unlike individual securities typically pay principal maturity fluctuate fmr terminate arrangement expiration date without approval board trustees extend discretion date please see â\\x80\\x9csales charge waiver policies applied certain intermediariesâ\\x80\\x9d â\\x80\\x9cappendixâ\\x80\\x9d section prospectus\",\n",
              " 'managers generally sell stock believe become less attractive relative opportunities characteristics outweigh opportunity specific events alter prospects first managers rank stocks primarily large capitalization publicly traded u.s. companies capitalization greater billion attractive least attractive based objective set measures including valuation quality growth sentiment process stocks selected managers using quantitative models perform differently expected due managersâ\\x80\\x99 judgments regarding factors used models weight placed factor changes factorsâ\\x80\\x99 historical trends technical issues construction implementation models including example data problems and/or software implementation issues additionally commonality holdings across quantitative managers amplify losses second managers use quantitative model build stocks ranking described believe provide optimal balance expected',\n",
              " \"liquidity result lack active reduced number capacity traditional participants make fixed securities magnified rising environment circumstances investor redemptions fixed mutual funds higher normal causing increased supply due selling activity rates fall 's decline assurance given u.s. government would provide support agencies instrumentalities fixed securities decline increase rates longer average duration sensitive changes rates shorter average duration call issuer exercise right redeem fixed earlier expected call certain legal challenges use lease revenue bonds various states revenue revenue bonds generally backed payable revenues derived specific facility specific revenue source sources payments made later expected prevented proceeds would otherwise received given time higher prevailing prepayment prepayment fixed-income securities common rates declining shorten securities effective maturity reduce 's cause reinvest lower yielding securities table contents pimco gurtin national opportunistic when-issued securities risks related securities issued when-issued basis payment delivery take place future date beyond normal settlement date general securities longer durations tend sensitive changes make volatile securities shorter durations general obligation general obligation bonds generally secured obligor 's pledge full faith credit taxing power payment principal\",\n",
              " 'grade quality instruments commonly referred â\\x80\\x9chigh yield securitiesâ\\x80\\x9d â\\x80\\x9cjunk bondsâ\\x80\\x9d involve substantially greater default already default values decline significantly prepayment/extension instruments subject prepayment and/or extension reduce potential gain instrumentâ\\x80\\x99s holders prepaid increase potential loss maturity extended mfs use derivatives purpose extent mfs uses derivatives mfs expects use derivatives primarily increase decrease exposure particular segment increase decrease currency exposure alternatives direct investments derivatives include futures forward contracts options structured securities swaps quantitative models systematically evaluate issuers instruments considered',\n",
              " \"factors include projected growth trends u.s. non-u.s. economies forecasts rates relationship short- long-term rates yield curve current projected trends inflation relative valuation levels equity fixed commodity real estate markets various segments within markets outlook projected growth various industrial sectors information relating business cycles borrowing needs cost capital political trends data relating trade balances labor information relevant legislative public policy changes addition new funds limited operating histories investors evaluate new smaller funds attract sufficient assets achieve trading efficiencies fixed securities decline increase rates longer average duration sensitive changes rates shorter average duration call issuer exercise right redeem fixed earlier expected call liquidity result lack active reduced number capacity traditional participants make fixed securities magnified rising environment circumstances investor redemptions fixed mutual funds higher normal causing increased supply due selling activity derivatives derivative instruments futures swaps structured securities including leverage liquidity credit management risks mispricing valuation complexity achieved emphasizing allocations inflation related assets treasury-inflation protected securities tips commodities real estate complement exposures traditional assets u.s. international equities u.s. bonds short-term instruments issuers call outstanding securities prior maturity number reasons e.g. declining prospectus pimco funds table contents prospectus rates changes credit spreads improvements issuer 's credit quality\",\n",
              " 'mortgage-backed securities subject borrowers unable meet obligations property secures mortgages decline insufficient upon foreclosure repay associated loans however ratings opinions rating agencies issuing guarantees credit quality evaluation illiquidity result lack active holding legal contractual restrictions resale reduced number capacity participants make holding american funds retirement moderate offers investors intermediate option seeking greater current long-term growth conservative potentially less volatility downside relative enhanced less certainty respect valuations lead additional challenges risks calculating net',\n",
              " 'instance larger established companies less able respond quickly new competitive challenges changes consumer tastes innovation smaller competitors invest special situations companies involved initial public offerings tender offers mergers corporate restructurings companies involved management changes companies developing new technologies addition holders depositary receipts limited voting rights rights afforded stockholders typical domestic company event corporate action acquisition merger rights offering experience difficulty receiving company stockholder communications companies affected factors including obtaining protecting patents failure significant competitive pressures including aggressive pricing products services new entrants competition short product cycles due accelerated technological developments meet managementâ\\x80\\x99s perceived assessment decline even though management believes securities already undervalued',\n",
              " 'active trading exist certain investments impair ability sell realize current valuation investments event need liquidate assets declining environment proceeds prepaid maturing instruments reinvested lower amount public information available obligations generally less corporate equities bonds meaning obligations dependent analytical abilities adviser stock corporate investments balance net assets invested obligations rated grade unrated obligations considered comparable quality adviser â\\x80\\x9cjunk bondsâ\\x80\\x9d evaluating creditworthiness adviser considers ratings assigned rating agencies generally performs additional credit analysis',\n",
              " \"factors include projected growth trends u.s. non-u.s. economies forecasts rates relationship short- long-term rates yield curve current projected trends inflation relative valuation levels equity fixed commodity real estate markets various segments within markets outlook projected growth various industrial sectors information relating business cycles borrowing needs cost capital political trends data relating trade balances labor information relevant legislative public policy changes addition new funds limited operating histories investors evaluate new smaller funds attract sufficient assets achieve trading efficiencies fixed securities decline increase rates longer average duration sensitive changes rates shorter average duration call issuer exercise right redeem fixed earlier expected call liquidity result lack active reduced number capacity traditional participants make fixed securities magnified rising environment circumstances investor redemptions fixed mutual funds higher normal causing increased supply due selling activity derivatives derivative instruments futures swaps structured securities including leverage liquidity credit management risks mispricing valuation complexity achieved emphasizing allocations inflation related assets treasury-inflation protected securities tips commodities real estate complement exposures traditional assets u.s. international equities u.s. bonds short-term instruments issuers call outstanding securities prior maturity number reasons e.g. declining prospectus pimco funds table contents prospectus rates changes credit spreads improvements issuer 's credit quality\",\n",
              " 'sell securities variety reasons secure gains limit losses redeploy assets promising opportunities small medium-sized companies often less experienced management narrower product lines limited resources less publicly available information larger companies summary â\\x80\\x9cnondiversified meaning invest greater portion assets single company companyâ\\x80\\x99s voting securities permissible â\\x80\\x9cdiversifiedâ\\x80\\x9d purposes determining whether invests least net assets emerging european countries relies msci inc. determine countries considered emerging markets relies country assigned msci inc. another unaffiliated data provider selecting investments adviser generally favors companies one following characteristics leading improving position attractive business niche attractive improving franchise industry position seasoned management stable improving earnings and/or cash flow sound improving balance sheet',\n",
              " 'impact growth regulation ability willingness institutions engage trading â\\x80\\x9cmaking marketâ\\x80\\x9d instruments remains unsettled companies affected factors including among others fluctuations energy prices supply demand energy fuels energy conservation success exploration projects local international politics events occurring nature addition holdings income-producing potential holdings designated necessary serve collateral respect commodity-linked investments liquidity futures markets depends participants entering offsetting transactions rather making taking delivery leverage presents opportunity increased net capital gains exaggerate volatility loss',\n",
              " 'identify securities iico primarily utilizes fundamental bottom-up researching individual issuers research considering top-down assessing environment quantitative analyses addition certain events natural disasters terrorist attacks war geopolitical events led future lead increased short-term volatility adverse long-term effects world economies markets generally large-capitalization companies unable respond quickly new competitive challenges changes technology able attain high growth successful smaller companies especially extended periods economic expansion believed iico undervalued never reach believed full securityâ\\x80\\x99s decrease appropriately priced iico primarily determines estimated intrinsic companies based cash flow generation iico consider valuation factors earnings book',\n",
              " 'implementing strategy managers make decisions based primarily analysis individual companies rather broad economic forecasts managers look stocks companies believe increase time using strategy developed advisor management based belief long term stock movements follow growth earnings revenues and/or cash flow style time favoring growth style gains big losses bigger equity funds using different styles normal conditions managers seek securities companies whose earnings revenues key business fundamentals growing growing accelerating pace',\n",
              " 'implementing strategy managers make decisions based primarily analysis individual companies rather broad economic forecasts managers look stocks companies believe increase time using strategy developed advisor management based belief long term stock movements follow growth earnings revenues and/or cash flow style time favoring growth style gains big losses bigger equity funds using different styles normal conditions managers seek securities companies whose earnings revenues key business fundamentals growing growing accelerating pace',\n",
              " 'addition certain events natural disasters terrorist attacks war geopolitical events led future lead increased short-term volatility adverse long-term effects world economies markets generally iico aims identify strong secular trends within industries applies largely bottom-up researching individual issuers stock selection process considering number factors selecting securities large-capitalization companies unable respond quickly new competitive challenges changes technology able attain high growth successful smaller companies especially extended periods economic expansion science technology companies companies whose products processes services opinion iico expected significantly benefited use commercial application scientific technological developments discoveries invest companies utilize science and/or technology agent change significantly enhance business opportunities',\n",
              " 'implementing strategy managers make decisions based primarily analysis individual companies rather broad economic forecasts managers look stocks companies believe increase time using strategy developed advisor tobacco exclusion prohibition tobacco-related investments cause forego profitable opportunities management based belief long term stock movements follow growth earnings revenues and/or cash flow permitted invest securities issued companies assigned global industry classification standard gics bloomberg industry classification standard bics tobacco industry',\n",
              " \"derivatives derivatives illiquid difficult leveraged small changes produce disproportionate losses subject counterparty greater degree traditional investments leverage extent uses leveraging techniques nav volatile leverage tends exaggerate effect changes rates increase decrease 's investments use options strategies involving purchase and/or writing various combinations call and/or put options including individual securities stock indices futures contracts including futures contracts individual securities stock indices shares etfs hedge portion currency time time invest currency-related derivatives including forward currency exchange contracts futures contracts options futures contracts swaps options adviser normally considers large universe mid- large-capitalization companies worldwide\",\n",
              " 'risks increased respect investments lower quality higher yielding securities rated ba1 bb+ nationally recognized statistical rating organizations designated adviser unrated determined adviser equivalent quality securities sometimes referred â\\x80\\x9cjunk bonds.â\\x80\\x9d american funds target date retirement series prospectus liquidity certain holdings become difficult impossible sell particularly times turmoil mortgage-backed securities subject borrowers unable meet obligations property secures mortgages decline insufficient upon foreclosure repay associated loans future delivery contracts enter contracts to-be-announced contracts mortgage dollar rolls involve selling mortgage-related securities simultaneously contracting repurchase similar securities delivery future date predetermined however ratings opinions rating agencies issuing guarantees credit quality evaluation illiquidity result lack active holding legal contractual restrictions resale reduced number capacity participants make holding',\n",
              " 'invest publicly traded real estate trusts â\\x80\\x9creitsâ\\x80\\x9d lend securities although prices rebound assurance values previous levels addition rigorous fundamental research managers use various tools help manage monitor portfolioâ\\x80\\x99s profile well individual stocksâ\\x80\\x99 valuation volatility characteristics securities lending involves possible delay recovery loaned securities possible loss rights collateral borrower fails financially companies real estate industry subject liabilities environmental hazardous waste laws among others',\n",
              " 'analytical indicators helping identify signs business improvement could include accelerating earnings revenue growth rates increasing cash flows indications relative strength companyâ\\x80\\x99s business write covered calls portion holdings common stock managers believe call premiums attractive relative implementing strategy managers make decisions based primarily analysis individual companies rather broad economic forecasts tobacco exclusion prohibition tobacco-related investments cause forego profitable opportunities management based belief long term stock movements follow growth earnings revenues and/or cash flow',\n",
              " 'invests securities maturing days less maturity calculated u.s. securities exchange commission sec rules governing operation money funds dollar-weighted average maturity days less dollar-weighted average life days less securities purchased subject quality diversification requirements rule 2a-7 company act amended act rules sec invest variable floating instruments transact securities when-issued delayed delivery forward commitment basis instruments decline issuer defaults otherwise becomes unable unwilling perceived unable unwilling honor obligations making payments due rating agencies assign credit ratings certain instruments indicate credit',\n",
              " 'lack active trading certain floating loans impair ability realize full event need sell floating loan make difficult loans required use derivatives futures options forward contracts swap agreements substitute directly increase returns manage foreign currency and/or duration risks part hedging strategy future rules regulations securities exchange commission sec require alter perhaps materially use derivatives unlike grade bonds however prices high yield junk bonds fluctuate unpredictably necessarily inversely changes rates certain derivatives potential unlimited loss regardless size initial',\n",
              " 'impact growth regulation ability willingness institutions engage trading â\\x80\\x9cmaking marketâ\\x80\\x9d instruments remains unsettled sovereign debtorâ\\x80\\x99s willingness ability repay principal pay timely manner affected variety factors including cash flow situation extent reserves availability sufficient foreign exchange date payment due relative size service burden economy whole sovereign debtorâ\\x80\\x99s policy toward international lenders political constraints sovereign debtor subject liquidity futures markets depends participants entering offsetting transactions rather making taking delivery leverage presents opportunity increased net capital gains exaggerate volatility loss low margin deposits normally required futures trading possible employ high degree leverage',\n",
              " 'recent years liquidity increased capacity dealers secondary fixed-income securities make markets securities decreased even overall grown significantly due among things structural changes additional regulatory requirements capital restraints led reduced inventories invest forward commitments zero-coupon securities variable floating inverse floating-rate securities derivatives options futures contracts forwards swaps derivatives derivatives illiquid difficult leveraged small changes produce disproportionate losses subject counterparty greater degree traditional investments like many u.s. states municipalities puerto rico experienced significant downturn recent recession credit issuer guarantor fixed-income counterparty derivatives contract unable unwilling make timely payments principal otherwise honor obligations',\n",
              " 'addition iicoâ\\x80\\x99s analysis informs view appropriate valuation potential evaluating investments iico focuses companies resilient business models characterized stable growth rates strong balance sheets attractive profiles strong free cash flow generation opportunities typically fall two categories company-specific ideas include factors companyâ\\x80\\x99s competitive positioning production cycles cost restructuring new management team thematic ideas iico considers economic political forces term structure variances cyclical inflections changes consumer behavior technology shifts addition low-rated securities obligations fluctuate widely yield higher-rated securities obligations fall times economy weak expected become weak addition certain events natural disasters terrorist attacks war geopolitical events led future lead increased short-term volatility adverse long-term effects world economies markets generally',\n",
              " 'future delivery contracts enter contracts to-be-announced contracts mortgage dollar rolls involve selling mortgage-related securities simultaneously contracting repurchase similar securities delivery future date predetermined designed investors seeking long-term capital preservation stability investments stocks lower quality securities however ratings opinions rating agencies issuing guarantees credit quality evaluation rates fall borrowers likely refinance prepay stated maturity securities sold adviser believes longer represent relatively attractive opportunities',\n",
              " 'valuation score computed remaining stocks determined attractiveness stock relative peers industry group based earnings yield cash flow yield metrics sustainability screen based dividend growth dividend coverage metrics applied eliminate bottom universe dividend-paying stocks score based dividend-yield computed remaining stocks certain derivatives potential unlimited loss regardless size initial exposure certain factors use screens detract environments perhaps extended periods new new assurance grow maintain economically viable size',\n",
              " 'future rules regulations securities exchange commission sec require alter perhaps materially use derivatives certain derivatives potential unlimited loss regardless size initial enters derivatives transactions required segregate liquid assets enter offsetting positions accordance applicable regulations seeks focus dividend-paying stocks companies located developed capital markets united states canada japan australia hong kong western europe managers combine top-down approach emphasizing economic trends current themes global basis bottom-up stock selection based fundamental research',\n",
              " 'periods extremely low short-term rates able maintain positive yield given current low environment risks associated rising rates currently heightened sponsor legal obligation provide support expect sponsor time enter repurchase agreements involving securities type excluding maturity limitations could otherwise invest prior april operated prime money invested certain types securities longer permitted hold subject terms contractual arrangement adviser virginia529 elect extend modify terminate waiver time',\n",
              " 'successful use usually depend managerâ\\x80\\x99s ability accurately forecast movements relating certain derivatives potential unlimited loss regardless size initial current political uncertainty surrounding european union eu membership including referendum united kingdom voted exit eu increase volatility especially extreme conditions derivative usually would operate hedge provides hedging benefits furthermore designed hedge currency fluctuations possible degree currency exposure remain even time hedging transaction implemented',\n",
              " 'however ratings opinions rating agencies issuing guarantees credit quality evaluation less certainty respect valuations lead additional challenges risks calculating net increasingly emphasize preservation capital greater portion assets equity-income balanced funds approaches passes target date changes derivative correlate perfectly sensitive events index derivative expose losses excess initial falling rates cause issuer redeem call refinance stated maturity result failing recoup full amount initial reinvest proceeds lower yielding securities',\n",
              " \"fmrc make active allocations within classes including commodities high yield floating real estate inflation-protected emerging markets individually aggregate within classes buying selling futures contracts long short positions effort manage cash flows efficiently remain fully invested facilitate allocation allocations glide path pie chart referred neutral reflect decisions made fmrc overweight underweight march 's neutral allocation fidelityâ® funds futures approximately domestic equity funds* international equity funds* funds* short-term funds* fmrc change percentages time prior june operated different pricing structure\",\n",
              " 'addition certain events natural disasters terrorist attacks war geopolitical events led future lead increased short-term volatility adverse long-term effects world economies markets generally extent ipos significant positive impact able replicated future conducting top-down assessing environment analysis energy industry geopolitical issues identifying trends sectors iico uses research-oriented bottom-up researching individual issuers approach selecting securities focusing company fundamentals growth prospects invests blend growth companies domiciled throughout world include companies offered initial public offerings ipos iico analyzes net free cash flow balance sheet strength focuses companies exhibit capital discipline low cost structure strong assets',\n",
              " 'conditions include constitutional statutory limits issuerâ\\x80\\x99s ability raise revenues increase taxes anticipated actual budget deficits difficulties changes credit quality issuers state states u.s. territories possessions grade quality instruments commonly referred â\\x80\\x9chigh yield securitiesâ\\x80\\x9d â\\x80\\x9cjunk bondsâ\\x80\\x9d involve substantially greater default already default values decline significantly derivatives include futures forward contracts options structured securities inverse floating instruments swaps prepayment/extension instruments subject prepayment and/or extension reduce potential gain instrumentâ\\x80\\x99s holders prepaid increase potential loss maturity extended mfs use derivatives purpose extent mfs uses derivatives mfs expects use derivatives primarily increase decrease exposure particular segment increase decrease exposure alternatives direct investments',\n",
              " 'factors include holding availability replacement better potential selecting stocks managers look companies temporarily favor whose yet recognized identify companies managers look companies earnings cash flows and/or assets reflected accurately companiesâ\\x80\\x99 stock prices advisor expects waiver continue february terminate prior date without approval board directors managers elect sell even results taxable gain determine impact outweighed factors',\n",
              " 'addition larger companies less capable responding quickly competitive challenges industry changes including resulting improvements technology suffer sharper declines result earnings disappointments growth stock growth companies increase earnings expected investors stock decline significantly even earnings show absolute increase meet redemption requests raise cash pursue opportunities forced sell securities unfavorable time and/or unfavorable conditions adversely affect subadvisor utilizes bottom approach identifying companies invests performs proprietary research liquidity valuation securities purchased illiquid time purchase liquid time purchase subsequently become illiquid due among things events relating issuer securities events operational issues economic conditions investor perceptions lack participants',\n",
              " 'thus respect liquidity stability auction securities differ substantially cash equivalents notwithstanding frequency auctions credit quality invest fixed- variable- floating-rate securities issued states territories possessions united states district columbia political subdivisions agencies instrumentalities authorities thereof multi-state agencies issued obtain funds various public purposes revenue sector invest total assets one revenue sector relating bonds backed revenues similar types projects relating higher education healthcare housing airports utilities similar economic business political characteristics use futures contracts swaps futures options hedge anticipated changes rates guarantee able successfully hedge exposures include general obligation bonds typically backed issuerâ\\x80\\x99s ability levy taxes revenue bonds typically backed stream revenue particular facility facilities cases proceeds special excise specific revenue source',\n",
              " 'liquidity result lack active holding legal contractual restrictions resale reduced number capacity participants make holding future delivery contracts enter contracts to-be-announced contracts mortgage dollar rolls involve selling mortgage-related securities simultaneously contracting repurchase similar securities delivery future date predetermined however ratings opinions rating agencies issuing guarantees credit quality evaluation rates fall borrowers likely refinance prepay stated maturity liquidity certain holdings deemed less liquid illiquid readily sold without significantly impacting holdings',\n",
              " 'iico considers various thematic catalysts analysis including major macro-economic political forces cyclical inflections changes consumer behavior technology shifts addition certain events natural disasters terrorist attacks war geopolitical events led future lead increased short-term volatility adverse long-term effects world economies markets generally iico balances top-down assessing environment approach bottom-up researching individual issuers analysis selecting securities seeks exploit believes catalysts multi-year earnings growth companies believes strong strengthening competitive advantages bottom-up stock selection iico searches companies believes expectations low regard ability companies grow businesses large-capitalization companies unable respond quickly new competitive challenges changes technology able attain high growth successful smaller companies especially extended periods economic expansion',\n",
              " 'instance larger established companies less able respond quickly new competitive challenges changes consumer tastes innovation smaller competitors addition holders depositary receipts limited voting rights rights afforded stockholders typical domestic company event corporate action acquisition merger rights offering experience difficulty receiving company stockholder communications companies affected factors including obtaining protecting patents failure significant competitive pressures including aggressive pricing products services new entrants competition short product cycles due accelerated technological developments normal circumstances invests companies located least three countries outside u.s. time time place greater emphasis one particular regions asia europe latin america judgment plays larger role valuing illiquid less liquid prospectus table contents variable funds summary ctivpsm oppenheimer international growth continued investments compared valuing liquid liquid investments',\n",
              " \"buying selling futures contracts long short positions effort manage cash flows efficiently remain fully invested facilitate allocation result 's could lower actively managed funds shift assets take advantage opportunities lessen impact decline decline one issuers allocations glide path pie chart referred neutral reflect decisions made adviser overweight underweight prior june operated certain different policies different pricing structure july 's neutral allocation fidelityâ® funds futures approximately domestic equity funds* international equity funds* funds* short-term funds* adviser change percentages time\",\n",
              " 'addition holders depositary receipts limited voting rights rights afforded stockholders typical domestic company event corporate action acquisition merger rights offering experience difficulty receiving company stockholder communications companies affected factors including obtaining protecting patents failure significant competitive pressures including aggressive pricing products services new entrants competition short product cycles due accelerated technological developments instance larger prospectus table contents columbia large cap growth iii summary continued established companies less able respond quickly new competitive challenges changes consumer tastes innovation smaller competitors poor caused poor management decisions competitive pressures breakthroughs technology reliance suppliers labor problems shortages corporate restructurings fraudulent disclosures natural disasters events conditions factors guarantee institution continue sponsor depositary receipt depositary receipt continue trade exchange either could adversely affect liquidity availability pricing depositary receipt',\n",
              " 'less certainty respect valuations lead additional challenges risks calculating net accordingly calculating net seek generate exposure dividend paying stocks liquidity result lack active holding legal contractual restrictions resale reduced number capacity participants make holding however ratings opinions rating agencies issuing guarantees credit quality evaluation liquidity certain holdings deemed less liquid illiquid readily sold without significantly impacting holdings',\n",
              " 'use leverage cause liquidate positions advantageous satisfy obligations meet segregation requirements commonwealth puerto rico related issuers continue experience difficulties rating agency downgrades numerous issuers entered title iii puerto rico oversight management economic stability act similar bankruptcy protection commonwealth puerto rico restructure result federal reserveâ\\x80\\x99s recent decision raise target fed funds last two years ii slowly unwind quantitative easing program possibility continue either policies going forward among factors markets could experience increased volatility could negatively impact enter residual transactions expose leverage greater fixed-rate active trading exist certain investments impair ability sell realize current valuation investments event need liquidate assets',\n",
              " 'implementing strategy managers make decisions based primarily analysis individual companies rather broad economic forecasts managers look stocks companies believe increase time using strategy developed advisor management based belief long term stock movements follow growth earnings revenues and/or cash flow gives managers flexibility hold large positions single issuers focused limited number companies carries changes single company significant effect either negative positive',\n",
              " 'addition swing one countries regions invested significant amount assets greater effect portfolioâ\\x80\\x99s janus henderson mid cap would geographically diversified portfolioâ\\x80\\x99s holdings decrease individual company multiple companies securities decreases managersâ\\x80\\x99 belief companyâ\\x80\\x99s intrinsic worth incorrect managers generally look companies strong balance sheets solid recurring free cash flows attractive relative absolute valuation ratios underperformed recently favorable reward characteristics invest equity securities real estate-related companies portfolioâ\\x80\\x99s holdings become concentrated less able spread potentially reduce loss volatility portfolioâ\\x80\\x99s investments cash cash equivalents similar investments increase due lack favorable opportunities extraordinary factors participate advances declines extent would fully invested',\n",
              " 'decrease individual company multiple companies securities decreases managersâ\\x80\\x99 belief companyâ\\x80\\x99s intrinsic worth incorrect addition increases size impact ipos generally decrease addition swing one countries regions invested significant amount assets greater effect would geographically diversified possible repatriate capital dividends particular country governmental entity managersâ\\x80\\x99 perception companyâ\\x80\\x99s growth potential realized securities purchased perform expected reducing returns',\n",
              " \"additional regulation derivatives make costly limit availability utility otherwise adversely affect disrupt markets impact changes markets practical implications participants fully known time past decade markets throughout world experienced increased volatility depressed valuations decreased liquidity heightened uncertainty governmental entity delay refuse unable pay principal sovereign due cash flow problems insufficient foreign currency reserves political considerations relative size governmental entity 's position relation economy failure put place economic reforms using swaps futures derivatives increase losses reduce opportunities gains prices rates derivative instruments behave way anticipated\",\n",
              " 'addition holders depositary receipts limited voting rights rights afforded stockholders typical domestic company event corporate action acquisition merger rights offering experience difficulty receiving company stockholder communications meet managementâ\\x80\\x99s perceived assessment decline even though management believes securities already undervalued take longer expected investments rise managementâ\\x80\\x99s perceived multiple advisory firms manage portion net assets daily basis companies affected competitive pressures exposure investments agreements certain circumstances lead losses e.g. subprime loans',\n",
              " 'risks associated securities health care sector addition risks include heavy dependence patent protection profitability affected expiration patents expenses losses extensive litigation based product liability similar claims competitive forces make difficult raise prices fact result discounting potentially long costly process obtaining new product approval food drug administration difficulty health care providers obtaining staff deliver services susceptibility product obsolescence thin capitalization limited product lines markets resources personnel addition certain events natural disasters terrorist attacks war geopolitical events led future lead increased short-term volatility adverse long-term effects world economies markets generally extent ipos significant positive impact able replicated future securities small micro-capitalization companies subject greater volatility lower trading volume less liquidity due among things companiesâ\\x80\\x99 small size limited product lines limited access financing sources limited management depth example iico sell believes issuerâ\\x80\\x99s growth and/or profitability characteristics deteriorating issuer longer maintains competitive advantage believes attractive opportunities lack management execution believes companyâ\\x80\\x99s valuation become unattractive relative industry leaders industry-specific metrics companyâ\\x80\\x99s competitive landscape changed reduce holding exposure particular sector raise cash',\n",
              " \"factors include projected growth trends u.s. non-u.s. economies forecasts rates relationship short- long-term rates yield curve current projected trends inflation relative valuation levels equity fixed commodity real estate markets various segments within markets outlook projected growth various industrial sectors information relating business cycles borrowing needs cost capital political trends data relating trade balances labor information relevant legislative public policy changes addition new funds limited operating histories investors evaluate new smaller funds attract sufficient assets achieve trading efficiencies fixed securities decline increase rates longer average duration sensitive changes rates shorter average duration call issuer exercise right redeem fixed earlier expected call liquidity result lack active reduced number capacity traditional participants make fixed securities magnified rising environment circumstances investor redemptions fixed mutual funds higher normal causing increased supply due selling activity derivatives derivative instruments futures swaps structured securities including leverage liquidity credit management risks mispricing valuation complexity achieved emphasizing allocations inflation related assets treasury-inflation protected securities tips commodities real estate complement exposures traditional assets u.s. international equities u.s. bonds short-term instruments issuers call outstanding securities prior maturity number reasons e.g. declining prospectus pimco funds table contents prospectus rates changes credit spreads improvements issuer 's credit quality\",\n",
              " 'managers generally look companies strong balance sheets solid recurring free cash flows attractive relative absolute valuation ratios underperformed recently favorable reward characteristics invest assets derivatives instruments derived directly linked equity securities fixed-income securities commodities currencies rates indices substitutes securities invests decrease individual company multiple companies securities decreases managersâ\\x80\\x99 belief companyâ\\x80\\x99s intrinsic worth incorrect investments cash cash equivalents similar investments increase due lack favorable opportunities extraordinary factors participate advances declines extent would fully invested addition swing one countries regions invested significant amount assets greater effect would geographically diversified possible repatriate capital dividends particular country governmental entity',\n",
              " \"fmrc make active allocations within classes including commodities high yield floating real estate inflation-protected emerging markets individually aggregate within classes buying selling futures contracts long short positions effort manage cash flows efficiently remain fully invested facilitate allocation allocations glide path pie chart referred neutral reflect decisions made fmrc overweight underweight march 's neutral allocation fidelityâ® funds futures approximately domestic equity funds* international equity funds* funds* short-term funds* fmrc change percentages time prior june operated different pricing structure\",\n",
              " 'addition frequently purchasing stocks short prior ex-dividend date interval announcement payment next dividend increases amount trading costs incur potential capital loss gain particularly event significant short-term movements stocks subject dividend capture trading seek enhance level dividend receives engaging regional rotation trading decrease individual company multiple companies securities decreases managersâ\\x80\\x99 belief companyâ\\x80\\x99s intrinsic worth incorrect selection based upon analysis broad range appropriate metrics including earnings ratios valuation relative values particular focus cash flow generation ability service growing dividend streams medium term addition swing one countries regions invested significant amount assets greater effect would geographically diversified',\n",
              " \"recent years liquidity increased capacity dealers secondary fixed-income securities make markets securities decreased even overall grown significantly due among things structural changes additional regulatory requirements capital restraints led reduced inventories expects use derivatives options futures contracts forwards swaps significant extent leverage extent uses leveraging techniques net nav volatile leverage tends exaggerate effect changes rates increase decrease 's investments derivatives derivatives illiquid difficult leveraged small changes produce disproportionate losses subject counterparty greater degree traditional investments take long short positions currencies related derivatives independent positions including taking position currency hold securities denominated currency\",\n",
              " 'instance larger established companies less able respond quickly new competitive challenges changes consumer tastes innovation smaller competitors liquidity futures markets depends participants entering offsetting transactions rather making taking delivery low margin deposits normally required futures trading possible employ high degree leverage potential changes regulation derivatives markets make derivatives costly limit derivatives otherwise adversely affect derivatives derivatives include privately placed otherwise exempt sec registration including certain rule 144a eligible securities',\n",
              " 'normally companies fidelity management research company fmr believes above-average growth potential stocks companies often called growth stocks summary fund/class fidelityâ® international growth fund/fidelity advisorâ® international growth c z objective seeks long-term growth capital please see â\\x80\\x9csales charge waiver policies applied certain intermediariesâ\\x80\\x9d â\\x80\\x9cappendixâ\\x80\\x9d section prospectus box cincinnati oh overnight express fidelity investments crosby parkway covington ky z eligibility requirements listed additional information purchase shares section prospectus qualify sales charge discounts family invest agree invest future least certain fidelityâ® funds',\n",
              " \"engaging transactions leveraging effect including investments derivatives swaps total credit default options futures contracts forward-settling securities adjust 's exposure analyzing credit quality issuer security-specific features current potential future valuation trading opportunities select investments box cincinnati oh overnight express fidelity investments crosby parkway covington ky tdd- service deaf hearing impaired buy one net per nav unlike individual securities typically pay principal maturity fluctuate ability issuer repay principal prior 's maturity cause greater volatility rates change\",\n",
              " 'purpose employee benefit plans generally include profit sharing k b plans include iras simple sep sarsep plans plans covering self-employed individuals employees formerly keogh/h.r securities companies whose fidelity management research company fmr believes fully recognized public please see â\\x80\\x9csales charge waiver policies applied certain intermediariesâ\\x80\\x9d â\\x80\\x9cappendixâ\\x80\\x9d section prospectus plans health savings accounts plans fidelity advisorâ® b program box cincinnati oh overnight express fidelity investments crosby parkway covington ky z shares offered employee benefit plans intermediary ii employee benefit plans recordkept fidelity iii certain managed account programs',\n",
              " 'impact growth regulation ability willingness institutions engage trading â\\x80\\x9cmaking marketâ\\x80\\x9d instruments remains unsettled instance larger established companies less able respond quickly new competitive challenges changes consumer tastes innovation smaller competitors credit loans instruments decline issuer thereof defaults otherwise becomes unable unwilling perceived unable unwilling honor obligations making payments due meet managementâ\\x80\\x99s perceived assessment decline even though management believes securities already undervalued conversely extension unexpected rise rates extend life mortgage- asset-backed beyond prepayment time',\n",
              " 'particular large losses experienced spx makes strong move either upwards downwards options strategy overlay expected increase volatility net â\\x80\\x9cnavâ\\x80\\x9d compared invests equity uses rules-based methodology close written option positions prior expiration even experiences significant losses written cash-settled spx options designate cash liquid securities marked-to-market daily least equal in-the-money amount cash-settled contract amount written options out-of-the-money depend current volatility spx general written options farther out-of-the-money higher spx volatility environments',\n",
              " 'telecommunications companies adversely affected among things changes government regulation intense competition rapid obsolescence products services due technological innovations changing consumer preferences sell securities variety reasons secure gains limit losses redeploy assets promising opportunities small medium-sized companies often less experienced management narrower product lines limited resources less publicly available information larger companies many countries tend highly reliant exporting oil commodities economies significantly impacted fluctuations commodity prices global demand certain commodities â\\x80\\x9cnondiversified meaning invest greater portion assets single company companyâ\\x80\\x99s voting securities permissible â\\x80\\x9cdiversifiedâ\\x80\\x9d',\n",
              " 'sell securities variety reasons secure gains limit losses redeploy assets promising opportunities small medium-sized companies typically less experienced management narrower product lines limited resources less publicly available information larger companies selecting investments adviser generally favors companies one following characteristics leading improving position attractive business niche attractive improving franchise industry position seasoned management stable improving earnings and/or cash flow sound improving balance sheet normally least net assets including borrowings purposes invested stocks stock growth characteristics sharp declines due decreases current expected earnings lack dividends help cushion declining',\n",
              " 'process stocks selected managers using quantitative models perform differently expected due managersâ\\x80\\x99 judgments regarding factors used models weight placed factor changes factorsâ\\x80\\x99 historical trends technical issues construction implementation models including example data problems and/or software implementation issues approach relies heavily quantitative tools identify attractive opportunities regardless company size industry type geographic location disciplined consistent basis description policies procedures respect disclosure securities available statement additional information factors classified categories related general conditions based stock specific criteria managers use quantitative tools rank stocks attractive least attractive model uses factors advisor believes predictive stockâ\\x80\\x99s',\n",
              " 'however ratings opinions rating agencies issuing guarantees credit quality evaluation degree imperfection correlation depends circumstances variations speculative demand futures including technical influences futures trading differences instruments hedged instruments standard contracts available trading unable close position futures contract would remain subject adverse movements able close futures position even periods low volatility equity markets however subadviser continue use hedging techniques although presumably lesser degree seek preserve gains favorable conditions reduce losses adverse conditions addition subadviser monitor liquidity levels relevant futures contracts transparency provided exchanges counterparties hedging transactions',\n",
              " 'impact growth regulation ability willingness institutions engage trading â\\x80\\x9cmaking marketâ\\x80\\x9d instruments remains unsettled liquidity futures markets depends participants entering offsetting transactions rather making taking delivery low margin deposits normally required futures trading possible employ high degree leverage potential changes regulation derivatives markets make derivatives costly limit derivatives otherwise adversely affect derivatives derivatives include privately placed otherwise exempt sec registration including certain rule 144a eligible securities',\n",
              " 'addition certain events natural disasters terrorist attacks war geopolitical events led future lead increased short-term volatility adverse long-term effects world economies markets generally extent ipos significant positive impact able replicated future securities small-capitalization companies subject greater volatility lower trading volume less liquidity due among things companiesâ\\x80\\x99 small size limited product lines limited access financing sources limited management depth global economies markets becoming increasingly interconnected increases possibilities conditions one country region adversely affect issuers another country region turn adversely affect securities held iico utilizes bottom-up researching individual issuers stock-picking process considers quality management superior characteristics e.g. assets equity operating margin search companies thereby focusing believes higher-quality companies',\n",
              " 'drs philosophy based upon sub-adviserâ\\x80\\x99s research indicating timing and/or stock selection extremely difficult produce volatile returns allocation limited reduction written call put options limit participation equity gains amplify losses declines drs philosophy based upon sub-adviserâ\\x80\\x99s research indicating timing and/or stock selection extremely difficult allocation limited reduction properties option purchased put options decline expire worthless imperfect correlation securities option writing generate additional returns sub-adviser buys sells short-term generally month put call options etfs ii foreign equity indices iii foreign equity securities iv futures regular basis',\n",
              " 'economic monetary union european union eu requires compliance restrictions inflation rates deficits rates levels fiscal monetary controls significantly affect eu member countries well european countries events adversely affected exchange euro continue significantly affect every country europe including countries use euro addition certain events natural disasters terrorist attacks war geopolitical events led future lead increased short-term volatility adverse long-term effects world economies markets generally large-capitalization companies unable respond quickly new competitive challenges changes technology able attain high growth successful smaller companies especially extended periods economic expansion event holds material positions suspended securities ability liquidate positions provide liquidity investors compromised could incur significant losses',\n",
              " 'within sector iico typically considers securityâ\\x80\\x99s current coupon maturity relative based historical yield information creditworthiness particular issuer backed full faith credit treasury prepayment risks mortgage-backed securities securities call provisions addition certain events natural disasters terrorist attacks war geopolitical events led future lead increased short-term volatility adverse long-term effects world economies markets generally generally determining whether sell iico uses type analysis uses buying securities including review securityâ\\x80\\x99s valuation issuerâ\\x80\\x99s creditworthiness unscheduled prepayments would limit potential capital appreciation mortgage-backed asset-backed securities thereby reducing grade securities include bonds rated bbb- higher p global ratings division p global inc. p comparably rated another nationally recognized statistical rating organization nrsro unrated determined iico comparable quality',\n",
              " 'managers generally sell stock believe become less attractive relative opportunities characteristics outweigh opportunity specific events alter prospects first managers rank stocks primarily large capitalization publicly traded u.s. companies capitalization greater billion attractive least attractive based objective set measures including valuation quality growth sentiment process stocks selected managers using quantitative models perform differently expected due managersâ\\x80\\x99 judgments regarding factors used models weight placed factor changes factorsâ\\x80\\x99 historical trends technical issues construction implementation models including example data problems and/or software implementation issues additionally commonality holdings across quantitative managers amplify losses additionally benchmark sector weights influence sector exposure heavily weighted one economic sectors including information technology',\n",
              " 'economies region dependent range commodities strongly affected international commodity prices particularly vulnerable changes products technology sector historically volatile due rapid pace product change development within sector many asian economies experienced rapid growth industrialization assurance growth maintained companies technology sector affected worldwide technological developments success products services outdated quickly anticipated products services delayed cancelled investor perception company and/or products services therefore required sell securities subsequently recognize gains sales might recognized distribute securities in-kind',\n",
              " 'use derivatives involves exercise specialized skill judgment transaction unsuccessful whole part behavior unexpected events securities sold opinion managers moves fair level valuation companyâ\\x80\\x99s fundamentals deteriorate pursue attractive opportunities although prices rebound assurance values previous levels derivative instruments traded over-the-counter markets difficult illiquid subject wide swings valuation caused changes companies real estate industry subject liabilities environmental hazardous waste laws among others',\n",
              " \"high-yield securities generally considered predominantly speculative applicable rating agencies issuers likely encounter difficulties highly leveraged considerations tax-exempt securities failure issuer comply applicable requirements make paid thereon taxable resulting decline securityâ\\x80\\x99s however extent exposure time time securities particular state events state affect investments prepayment prepayment occurs repaid whole part prior 's maturity must reinvest proceeds receives periods declining rates securities pay lower therefore required sell securities subsequently recognize gains sales might recognized distribute securities in-kind\",\n",
              " 'prepayment/extension instruments subject prepayment and/or extension reduce potential gain instrumentâ\\x80\\x99s holders prepaid increase potential loss maturity extended mfs use derivatives purpose extent mfs uses derivatives mfs expects use derivatives primarily increase decrease exposure particular segment increase decrease currency exposure alternatives direct investments derivatives include futures forward contracts options structured securities swaps counterparty third party transactions involving counterparty third party issuer subject credit counterparty third party counterpartyâ\\x80\\x99s third partyâ\\x80\\x99s ability willingness perform accordance terms transaction leveraging leverage involves exposure amount exceeding initial',\n",
              " 'move coupled reduction ability willingness dealers institutional investors buy hold fixed-income securities result decreased liquidity increased volatility fixed-income markets investor prepayment usually means principal received least opportune time causes average life mortgage extend sensitive rates sometimes called extension rates fall mortgagor refinance mortgage prepay old mortgage addition developments factors including general rise rates potential cause investors move fixed-income securities large scale increase redemptions mutual funds hold large amounts fixed-income securities',\n",
              " 'sponsor legal obligation provide support expect sponsor provide support time however possibility issuer fail make timely principal payments securities negative perceptions issuerâ\\x80\\x99s ability make payments cause decline addition retail money impose liquidity fees redemptions and/or temporarily suspend redemptions gates weekly liquid assets fall certain thresholds times stress years years years principal strategy invests assets high-quality u.s. dollar-denominated short-term securities domestic foreign issuers determined present minimal credit comply strict securities exchange commission sec guidelines applicable money funds prospectus table contents restricts investments instruments meet certain maturity quality requirements federal securities laws applicable money funds',\n",
              " 'overall impact holdings significant depending currencies represented one appreciates depreciates relation u.s. dollar whether currency positions hedged invest portion assets global real estate-related investments real estate trusts reits reit etfs equity securities issued companies engaged real estate industry commodities assets tangible properties oil metals agricultural products entering derivatives positions required segregate assets cover obligations levels consistent guidance sec company considered real estate company opinion managers least revenues assets time securities purchased attributed ownership construction management real estate',\n",
              " 'less certainty respect valuations lead additional challenges risks calculating net accordingly calculating net liquidity result lack active holding legal contractual restrictions resale reduced number capacity participants make holding however ratings opinions rating agencies issuing guarantees credit quality evaluation liquidity certain holdings deemed less liquid illiquid readily sold without significantly impacting holdings governments countries less stable likely impose capital controls nationalize company industry place restrictions foreign ownership withdrawing proceeds securities country and/or impose punitive taxes could adversely affect prices securities',\n",
              " \"additionally controlled diversification constraints limit exposure individual companies well groups correlated companies large-cap companies fewer opportunities expand products services focus competitive efforts maintaining expanding less capable responding quickly competitive challenges recent potential future changes industry and/or economic trends well changes monetary policy made central banks and/or governments affect level rates contribute development increase volatility illiquidity shareholder redemptions adverse effects decline company 's stock could negatively impact 's adviser implements strategy using quantitative model driven fundamental technical stock selection variables including relative profit trends capital structure history adviser 's strategy utilizes large-capitalization â\\x80\\x9clarge-capâ\\x80\\x9d growth approach selecting investments companies listed russell growth index index measures companies higher price-to-book ratios higher forecasted growth values within large-cap segment u.s. equity universe includes largest u.s. companies capitalization\",\n",
              " 'companyâ\\x80\\x99s stock general decline short even extended periods regardless success failure companyâ\\x80\\x99s operations subject liquidity investments generally expect sold disposed ordinary course business within seven days approximately ascribed securities investor prepayment usually means principal received least opportune time causes average life mortgage extend sensitive rates sometimes called extension accepts credit recognized means enhance investorâ\\x80\\x99s',\n",
              " 'addition often substantially less publicly available information issuers information tends lesser quality liquidity possibility securities readily sold within seven calendar days approximately valued normal circumstances invest least net assets plus borrowings purposes small-capitalization equity securities policy continue hold securities small-cap company even companyâ\\x80\\x99s cap exceeds billion reduce waive minimums eligibility requirements certain cases',\n",
              " 'conditions include constitutional statutory limits issuerâ\\x80\\x99s ability raise revenues increase taxes anticipated actual budget deficits difficulties changes credit quality issuers state states u.s. territories possessions grade quality instruments commonly referred â\\x80\\x9chigh yield securitiesâ\\x80\\x9d â\\x80\\x9cjunk bondsâ\\x80\\x9d involve substantially greater default already default values decline significantly derivatives include futures forward contracts options structured securities inverse floating instruments swaps prepayment/extension instruments subject prepayment and/or extension reduce potential gain instrumentâ\\x80\\x99s holders prepaid increase potential loss maturity extended mfs use derivatives purpose extent mfs uses derivatives mfs expects use derivatives primarily increase decrease exposure particular segment increase decrease exposure alternatives direct investments',\n",
              " 'decrease individual company multiple companies securities decreases managersâ\\x80\\x99 belief companyâ\\x80\\x99s intrinsic worth incorrect addition increases size impact ipos generally decrease addition swing one countries regions invested significant amount assets greater effect would geographically diversified possible repatriate capital dividends particular country governmental entity managersâ\\x80\\x99 perception companyâ\\x80\\x99s growth potential realized securities purchased perform expected reducing returns',\n",
              " 'additional analysis include various valuation techniques determine iico believes potential specific addition certain events natural disasters terrorist attacks war geopolitical events led future lead increased short-term volatility adverse long-term effects world economies markets generally large-capitalization companies unable respond quickly new competitive challenges changes technology able attain high growth successful smaller companies especially extended periods economic expansion key factors iico typically analyzes include strength companyâ\\x80\\x99s business model using quantitative factors strong improving gross margins capital measures free cash flow iico seeks stocks growth-oriented companies believes above-average levels profitability ability sustain growth profitability long term',\n",
              " 'includes companies whose growth rates although still negative less negative prior periods companies whose growth rates expected accelerate write covered calls portion holdings common stock managers believe call premiums attractive relative addition accelerating growth signs business improvement considers companies demonstrating strength relative peers management based belief long term stock movements follow growth earnings revenues and/or cash flow managers make decisions based primarily analysis individual companies rather broad economic forecasts',\n",
              " 'managers use quantitative factors screen selection universe analyzing factors momentum i.e. changes relative changes overall prices earnings estimate revisions i.e. changes analystsâ\\x80\\x99 earnings-per-share estimates review consider fundamental changes details regarding calculation class-by-class including discussion adjustments provided â\\x80\\x9cadditional informationâ\\x80\\x9d prospectus sai managers partition selection universe industry identify believe undervalued securities industry determine potential holdings representing broad range industry groups liquidity lack active investments cause delay disposition force fair allianz funds table contents allianzgi nfj international continued principal strategies seeks achieve objective normally least net assets plus borrowings made purposes common stocks equity securities preferred stocks convertible securities warrants non-u.s. companies capitalizations greater billion',\n",
              " 'extension chance periods rising rates certain securities paid substantially slowly originally anticipated securities fall credit chance issuer fail pay principal timely manner negative perceptions issuerâ\\x80\\x99s ability make payments cause decline investment-grade fixed securities rated equivalent baa3 moodyâ\\x80\\x98s another independent rating agency unrated determined comparable quality advisor credit low invests primarily bonds considered high-quality lesser extent bonds considered medium-quality call chance periods falling rates issuers callable bonds call redeem securities higher coupon rates rates maturity dates',\n",
              " 'reduced liquidity adverse impact ability sell securities investments necessary meet liquidity needs arise increase response specific economic event manager wishes purchase particular investments believes higher level liquidity would advantageous occurs yield generally tend move toward yield cash cash equivalents lower yields securities previously held prevailing yields bonds yield liquidation amount prior termination date securities held mature transition cash cash equivalents short-term fixed securities changes influenced number factors including government policy monetary policy inflation expectations perceptions supply demand bonds time duration weighted average maturity decline maturity date approaches',\n",
              " 'shareholder concentration allocation decisions particularly large redemptions made adviser whose discretionary clients make large percentage shareholders adversely impact remaining shareholders limitation agreement terminated term approval board trustees â\\x80\\x9cboardâ\\x80\\x9d result adviserâ\\x80\\x99s disciplined process times hold large percentages cash subjective decisions made adviser cause incur losses miss profit opportunities otherwise capitalized determining factor adviser consider implications deciding whether sell particular',\n",
              " 'subadvisor performs research identify reasonably priced companies competitive advantages believes able benefit long-term trends subadvisor believes able sustainably grow earnings time regardless economic climate growth stock growth companies increase earnings expected investors stock decline significantly even earnings show absolute increase meet redemption requests raise cash pursue opportunities forced sell securities unfavorable time and/or unfavorable conditions adversely affect considering whether sell subadvisor evaluate among things whether approached full valuation thesis invalidated superior opportunities redeploy exist emerge industry group country weights individual positions need adjusted includes countries established economies well emerging countries subadvisor believes present favorable opportunities',\n",
              " 'addition larger companies less capable responding quickly competitive challenges industry changes including resulting improvements technology suffer sharper declines result earnings disappointments subadvisor seeks identify companies consistent straightforward ability generate free cash flow intelligently allocate among internal reinvestment opportunities acquisitions dividends repurchases and/or reduction depending upon conditions producing stocks meet portfolioâ\\x80\\x99s criteria widely available and/or highly concentrated sectors agreement remain effect shall renew automatically one-year terms unless new york life investments provides written notice termination prior start next term upon approval board trustees mainstay vp epoch u.s. equity yield selection process focuses free-cash-flow analytics opposed traditional accounting-based metrics',\n",
              " 'active trading exist certain investments impair ability sell realize current valuation investments event need liquidate assets declining environment proceeds prepaid maturing instruments reinvested lower amount public information available obligations generally less corporate equities bonds meaning obligations dependent analytical abilities adviser stock corporate investments balance net assets invested obligations rated grade unrated obligations considered comparable quality adviser â\\x80\\x9cjunk bondsâ\\x80\\x9d evaluating creditworthiness adviser considers ratings assigned rating agencies generally performs additional credit analysis',\n",
              " \"derivatives derivatives illiquid difficult leveraged small changes produce disproportionate losses subject counterparty greater degree traditional investments credit issuer guarantor fixed-income counterparty derivatives contract unable unwilling make timely payments principal otherwise honor obligations conversely adviser determines risks equity markets disproportionately greater potential returns offered adviser reduce 's equity exposure significantly target percentage even decide eliminate equity exposure altogether increasing 's fixed-income exposure expects investments fixed-income securities broad range maturities quality levels reits dependent capability managers limited diversification could significantly affected changes taxes\",\n",
              " 'first managers rank stocks primarily large capitalization publicly traded u.s. companies capitalization greater billion attractive least attractive based objective set measures including stockâ\\x80\\x99s valuation quality growth sentiment managers generally sell stock believe become less attractive relative opportunities characteristics outweigh opportunity specific events alter prospects tobacco exclusion prohibition tobacco-related investments cause forego profitable opportunities process stocks selected managers using quantitative models perform differently expected due managersâ\\x80\\x99 judgments regarding factors used models weight placed factor changes factorsâ\\x80\\x99 historical trends technical issues construction implementation models including example data problems and/or software implementation issues permitted invest securities issued companies assigned global industry classification standard gics bloomberg industry classification standard bics tobacco industry',\n",
              " 'instance larger established companies less able respond quickly new competitive challenges changes consumer tastes innovation smaller competitors addition holders depositary receipts limited voting rights rights afforded stockholders typical domestic company event corporate action acquisition merger rights offering experience difficulty receiving company stockholder communications meet managementâ\\x80\\x99s perceived assessment decline even though management believes securities already undervalued take longer expected investments rise managementâ\\x80\\x99s perceived companies affected competitive pressures exposure investments agreements certain circumstances lead losses e.g. subprime loans',\n",
              " 'leveraging instruments transactions constitute leverage magnify gains losses increase volatility details regarding calculation class-by-class including discussion adjustments provided â\\x80\\x9cadditional informationâ\\x80\\x9d prospectus sai managers select common stocks utilizing fundamental bottom-up research process facilitates early identification issuers demonstrating ability improve fundamental characteristics liquidity lack active investments cause delay disposition force fair expected substantial portion investments securities convertible securities rated grade unrated determined similar quality â\\x80\\x9chigh-yield securitiesâ\\x80\\x9d â\\x80\\x9cjunk bondsâ\\x80\\x9d',\n",
              " \"pursuing objective consider potential capital appreciation buy sell shares various ways internet www.fidelity.com phone fidelity automated service telephone fastâ® reach fidelity representative mail additional purchases fidelity investments p.o using fundamental analysis factors issuer 's condition industry position well economic conditions select investments allocating investments across different countries regions box cincinnati oh tdd- service deaf hearing impaired buy one net per nav\",\n",
              " 'companyâ\\x80\\x99s stock general decline short even extended periods regardless success failure companyâ\\x80\\x99s operations additionally many companies must comply significant governmental regulations need governmental approval products services usaa science technology table contents mutual consisting investments related fields science technology likely volatile widely diversified economic sectors ann c. gallo senior managing director global industry analyst wellington management involved management securities analysis health science portion since august possibility investments companies whose highly dependent scientific technological developments volatile short life cycles competitive pressures many products services companies',\n",
              " 'decreased liquidity fixed-income markets make difficult portfolioâ\\x80\\x99s fixed-income holdings rates united states near historic lows currently faces heightened level rising rates lack participants lead decreased liquidity increased volatility fixed-income markets making difficult sell fixed-income holdings time subadvisor might wish sell addition larger companies less capable responding quickly competitive challenges industry changes including resulting improvements technology suffer sharper declines result earnings disappointments central clearing interposes central clearinghouse participantâ\\x80\\x99s swap exchange trading intended reduce counterparty credit increase liquidity neither makes swap transactions risk-free',\n",
              " 'determining whether sell managers consider among things current anticipated changes rates credit quality particular issuer comparable alternatives general conditions factor deemed relevant managers bonds held could declared taxable unfavorable changes laws adverse interpretations internal revenue service state authorities non-compliant conduct issuer factors likely cause issuer low quality bonds default obligations cities counties municipalities california u.s. territories puerto rico issue securities invest securities rated determined managers comparable credit quality rated investment-grade',\n",
              " 'conditions include constitutional statutory limits issuerâ\\x80\\x99s ability raise revenues increase taxes anticipated actual budget deficits difficulties changes credit quality issuers state states u.s. territories possessions grade quality instruments commonly referred â\\x80\\x9chigh yield securitiesâ\\x80\\x9d â\\x80\\x9cjunk bondsâ\\x80\\x9d involve substantially greater default already default values decline significantly derivatives include futures forward contracts options structured securities inverse floating instruments swaps prepayment/extension instruments subject prepayment and/or extension reduce potential gain instrumentâ\\x80\\x99s holders prepaid increase potential loss maturity extended mfs use derivatives purpose extent mfs uses derivatives mfs expects use derivatives primarily increase decrease exposure particular segment increase decrease exposure alternatives direct investments',\n",
              " 'managers use quantitative factors screen selection universe analyzing factors momentum i.e. changes relative changes overall prices earnings estimate revisions i.e. changes analystsâ\\x80\\x99 earnings-per-share estimates review consider fundamental changes details regarding calculation class-by-class including discussion adjustments provided â\\x80\\x9cadditional informationâ\\x80\\x9d prospectus sai reit real estate-related adverse changes real estate markets affect reit investments real estate-linked derivatives managers partition selection universe industry identify believe undervalued securities industry determine potential holdings representing broad range industry groups continue hold securities company subsequently appreciates medium capitalization threshold',\n",
              " 'decrease individual company multiple companies securities decreases managersâ\\x80\\x99 belief companyâ\\x80\\x99s intrinsic worth incorrect countries typically located asia-pacific region eastern europe central south america africa selecting investments janus henderson international small cap proprietary analytical model used provide theoretical values stock universe ranks stock according discount premium addition swing one countries regions invested significant amount assets greater effect would geographically diversified possible repatriate capital dividends particular country governmental entity',\n",
              " \"adviser 's fundamental research efforts focused forecasting short- long-term normalized cash generation capability real estate companies isolating supply demand property types local markets determining replacement properties assessing future development opportunities normalizing capital structures real estate companies leverage extent uses leveraging techniques net nav volatile leverage tends exaggerate effect changes rates increase decrease 's investments derivatives derivatives illiquid difficult leveraged small changes produce disproportionate losses subject counterparty greater degree traditional investments derivatives derivatives illiquid difficult leveraged small changes produce disproportionate losses subject counterparty greater degree traditional investments use options strategies involving purchase and/or writing various combinations call and/or put options including individual securities stock indices futures contracts including futures contracts individual securities stock indices shares exchange-traded funds etfs\",\n",
              " 'investments selected sampling process normal circumstances least assets invested bonds included index low invests primarily short-term bonds whose prices less sensitive changes prices longer-term bonds generally high short-term funds investors expect monthly fluctuate invests sampling index meaning holds range securities aggregate approximates full index terms key factors characteristics principal strategies employs indexing approach designed track bloomberg barclays us treasury index',\n",
              " \"summary fund/class fidelityâ® diversified international fund/fidelityâ® diversified international objective seeks capital growth buy sell shares various ways internet www.fidelity.com phone fidelity automated service telephone fastâ® reach fidelity representative mail additional purchases fidelity investments p.o using fundamental analysis factors issuer 's condition industry position well economic conditions select investments allocating investments across different countries regions box cincinnati oh tdd- service deaf hearing impaired buy one net per nav\",\n",
              " 'however ratings opinions rating agencies issuing guarantees credit quality evaluation degree imperfection correlation depends circumstances variations speculative demand futures including technical influences futures trading differences instruments hedged instruments standard contracts available trading unable close position futures contract would remain subject adverse movements able close futures position even periods low volatility equity markets however subadviser continue use hedging techniques although presumably lesser degree seek preserve gains favorable conditions reduce losses adverse conditions addition subadviser monitor liquidity levels relevant futures contracts transparency provided exchanges counterparties hedging transactions',\n",
              " 'brazilian economy depends heavily international trade economy highly sensitive fluctuations international commodity prices commodity markets therefore required sell securities subsequently recognize gains sales might recognized distribute securities in-kind brazilian economy experienced past continue experience periods high inflation rates political unrest cash transactions unlike certain etfs expects generally effect creations redemptions entirely cash rather in-kind securities addition midsize companies particularly affected increases find difficult borrow money continue expand operations difficulty repaying loans',\n",
              " \"causes liquidity include low trading volumes large positions times combination direct securities investments derivatives used gain exposure 's aggregate exposure substantially exceed net assets i.e. effectively leveraged derivatives derivatives illiquid difficult leveraged small changes produce disproportionate losses subject counterparty greater degree traditional investments derivatives often provide efficient economical exposure segments direct investments utilize derivatives etfs gain exposure equity fixed-income classes leverage uses leveraging techniques nav volatile leverage tends exaggerate effect changes rates increase decrease 's investments\",\n",
              " 'risks increased respect investments lower quality higher yielding securities rated ba1 bb+ nationally recognized statistical rating organizations designated adviser unrated determined adviser equivalent quality securities sometimes referred â\\x80\\x9cjunk bonds.â\\x80\\x9d american funds target date retirement series prospectus liquidity certain holdings become difficult impossible sell particularly times turmoil mortgage-backed securities subject borrowers unable meet obligations property secures mortgages decline insufficient upon foreclosure repay associated loans future delivery contracts enter contracts to-be-announced contracts mortgage dollar rolls involve selling mortgage-related securities simultaneously contracting repurchase similar securities delivery future date predetermined however ratings opinions rating agencies issuing guarantees credit quality evaluation illiquidity result lack active holding legal contractual restrictions resale reduced number capacity participants make holding',\n",
              " 'use leverage cause liquidate positions advantageous satisfy obligations meet segregation requirements commonwealth puerto rico related issuers continue experience difficulties rating agency downgrades numerous issuers entered title iii puerto rico oversight management economic stability act similar bankruptcy protection commonwealth puerto rico restructure result federal reserveâ\\x80\\x99s recent decision raise target fed funds last two years ii slowly unwind quantitative easing program possibility continue either policies going forward among factors markets could experience increased volatility could negatively impact enter residual transactions expose leverage greater fixed-rate active trading exist certain investments impair ability sell realize current valuation investments event need liquidate assets',\n",
              " \"fmrc make active allocations within classes including commodities high yield floating real estate inflation-protected emerging markets individually aggregate within classes buying selling futures contracts long short positions effort manage cash flows efficiently remain fully invested facilitate allocation allocations glide path pie chart referred neutral reflect decisions made fmrc overweight underweight march 's neutral allocation fidelityâ® funds futures approximately domestic equity funds* international equity funds* funds* short-term funds* fmrc change percentages time prior june operated different pricing structure\",\n",
              " 'decreased liquidity fixed-income markets make difficult portfolioâ\\x80\\x99s fixed-income holdings rates united states near historic lows currently faces heightened level limit high-yield/high-risk bonds known â\\x80\\x9cjunk bondsâ\\x80\\x9d less net assets enforcing rights collateral events default difficult insufficient rising rates lack participants lead decreased liquidity increased volatility fixed-income markets making difficult sell fixed-income holdings time subadvisor might wish sell',\n",
              " 'conditions include constitutional statutory limits issuerâ\\x80\\x99s ability raise revenues increase taxes anticipated actual budget deficits difficulties changes credit quality issuers state states u.s. territories possessions grade quality instruments commonly referred â\\x80\\x9chigh yield securitiesâ\\x80\\x9d â\\x80\\x9cjunk bondsâ\\x80\\x9d involve substantially greater default already default values decline significantly derivatives include futures forward contracts options structured securities inverse floating instruments swaps prepayment/extension instruments subject prepayment and/or extension reduce potential gain instrumentâ\\x80\\x99s holders prepaid increase potential loss maturity extended mfs use derivatives purpose extent mfs uses derivatives mfs expects use derivatives primarily increase decrease exposure particular segment increase decrease exposure alternatives direct investments',\n",
              " 'gics real estate sector composed equity real estate trusts known reits includes specialized reits real estate management development companies msci us investable real estate index made stocks large mid-size small u.s. companies within real estate sector classified global industry classification standard gics concentration chance target index therefore tends heavily weighted ten largest holdings hurt disproportionately poor relatively stocks chance reit stock prices overall decline cost borrowing reits increase rising rates nondiversification chance invest greater percentage assets particular issuer group issuers larger positions issuerâ\\x80\\x99s voting stock diversified',\n",
              " 'â\\x80\\x9cvalueâ\\x80\\x9d factor incorporates measurements forward earnings yield ebitda enterprise book dividend yield â\\x80\\x9cqualityâ\\x80\\x9d factor incorporates measurements equity gross profit assets gross margin sustainability addition smaller companies particularly affected increases find difficult borrow money continue expand operations difficulty repaying loans exposure factors detract environments perhaps extended periods subject principal risks noted adversely affect net nav trading yield total ability meet goal',\n",
              " 'managers generally sell stock believe become less attractive relative opportunities characteristics outweigh opportunity specific events alter prospects tobacco exclusion prohibition tobacco-related investments cause forego profitable opportunities quantitative stocks selected managers using quantitative models perform differently expected due managersâ\\x80\\x99 judgments regarding factors used models weight placed factor changes factorsâ\\x80\\x99 historical trends technical issues construction implementation models including example data problems and/or software implementation issues permitted invest securities issued companies assigned global industry classification standard gics bloomberg industry classification standard bics tobacco industry issuer purchased subsequently found classified tobacco industry due acquisition merger otherwise sell soon reasonably possible',\n",
              " 'instance larger established companies less able respond quickly new competitive challenges changes consumer tastes innovation smaller competitors addition holders depositary receipts limited voting rights rights afforded stockholders typical domestic company event corporate action acquisition merger rights offering experience difficulty receiving company stockholder communications japanese economy heavily dependent upon international trade including among things export finished goods import oil commodities raw materials certain special situation investments prevent ownership interests therein withdrawn special situation portion thereof realized deemed realized negatively impact securities companies involved initial public offering major corporate event business consolidation restructuring exposed heightened high degree uncertainty associated events',\n",
              " 'loss increases redemption requests unusually large frequent occur times overall turmoil declining prices subsidiary unlike invest without limitation commodity-linked structured notes commodity-linked derivative instruments including derivative instruments linked particular commodity commodity futures contract subset commodities commodity futures contracts certain markets securities instruments traded â\\x80\\x9cdelivery versus payment receive timely payment securities instruments delivered receive delivery securities paid subject increased counterparty fail make payments delivery november table contents jpmorgan access balanced continued due default completely jpmpi frequently monitors make tactical changes strategic allocations including shifts among various classes allocations sub-advisers managers certain derivatives synthetic instruments attempt replicate certain reference assets',\n",
              " 'â\\x80\\x9creal estateâ\\x80\\x9d securities include securities issuers receive least gross revenue construction ownership leasing management financing residential commercial industrial real estate securities reit adversely affected changes reitâ\\x80\\x99s property property secured mortgages reit holds loss reit federal status changes laws and/or rules related status reitâ\\x80\\x99s failure maintain exemption registration company act amended addition certain events natural disasters terrorist attacks war geopolitical events led future lead increased short-term volatility adverse long-term effects world economies markets generally part process securian considers macro-economic technical factors impacting real estate securities key attributes considered include issuerâ\\x80\\x99s liquidity transparency diversification history cash flow growth potential well prospectus specialty funds table contents quality exposure capital structure business strategy volatility corporate governance',\n",
              " 'decrease individual company multiple companies securities decreases managersâ\\x80\\x99 belief companyâ\\x80\\x99s intrinsic worth incorrect addition swing one countries regions invested significant amount assets greater effect would geographically diversified possible repatriate capital dividends particular country governmental entity real estate-related companiesâ\\x80\\x99 securities sensitive changes real estate values rental property taxes rates regulatory requirements supply demand management skill creditworthiness company janus henderson enterprise managersâ\\x80\\x99 perception companyâ\\x80\\x99s growth potential realized securities purchased perform expected reducing returns',\n",
              " \"liquidity result lack active reduced number capacity traditional participants make fixed securities magnified rising environment circumstances investor redemptions fixed mutual funds higher normal causing increased supply due selling activity rates fall 's decline assurance given u.s. government would provide support agencies instrumentalities fixed securities decline increase rates longer average duration sensitive changes rates shorter average duration call issuer exercise right redeem fixed earlier expected call certain legal challenges use lease revenue bonds various states revenue revenue bonds generally backed payable revenues derived specific facility specific revenue source sources california bonds generally issued behalf state california political subdivisions financing authorities agencies payments made later expected prevented proceeds would otherwise received given time higher prevailing table contents prospectus prepayment prepayment fixed-income securities common rates declining shorten securities effective maturity reduce 's cause reinvest lower yielding securities when-issued securities risks related securities issued when-issued basis payment delivery take place future date beyond normal settlement date\",\n",
              " 'derivatives derivatives illiquid difficult leveraged small changes produce disproportionate losses subject counterparty greater degree traditional investments selecting fixed-income investments adviser draw capabilities separate teams specialize different areas generally defined maturity securities and/or ratings include subspecialties inflation-indexed securities u.s. strategic equities managers adviser specialize various disciplines identify high-conviction large-cap equity securities based fundamental research potential grade investments fixed-income securities lower ratings junk bonds tend higher probability issuer default fail meet payment obligations example use credit default total swaps establish exposure fixed-income markets particular fixed-income securities noted use currency derivatives hedge foreign currency exposure',\n",
              " 'decrease individual company multiple companies securities decreases managersâ\\x80\\x99 belief companyâ\\x80\\x99s intrinsic worth incorrect addition increases size impact ipos generally decrease take long short positions derivatives instruments derived directly linked equity securities fixed-income securities commodities currencies rates indices addition swing one countries regions invested significant amount assets greater effect would geographically diversified use derivatives hedge earn enhance returns substitute securities invests increase decrease exposure particular adjust currency exposure relative benchmark index gain access foreign markets direct restricted unavailable manage profile',\n",
              " 'analytical indicators helping identify signs business improvement could include accelerating earnings revenue growth rates increasing cash flows indications relative strength companyâ\\x80\\x99s business implementing strategy managers make decisions based primarily analysis individual companies rather broad economic forecasts management based belief long term stock movements follow growth earnings revenues and/or cash flow new new assurance grow maintain economically viable size style time favoring growth style gains big losses bigger equity funds using different styles',\n",
              " 'loss increases redemption requests unusually large frequent occur times overall turmoil declining prices consequently dispose securities disadvantageous circumstances generate cash satisfy requirement regulated company distribute net including non-cash attributable zero-coupon securities periods rising rates subject extension expected maturity obligation lengthen duration due decrease prepayments mortgages obligations prepaid securities called reinvest securities lower yield fail recover additional amounts i.e. premiums paid securities higher rates resulting unexpected capital loss and/or decrease amount dividends yield fail recover additional amounts i.e. premiums paid securities higher rates resulting unexpected capital loss',\n",
              " 'securities sold adviser believes longer represent relatively attractive opportunities adviser believes important way accomplish fundamental analysis include meeting company executives employees suppliers customers competitors basic philosophy adviser seek invest attractively valued companies opinion represent good long-term opportunities investors long-term perspective able tolerate potentially sharp declines issuer risks prices generated securities held decline response various factors directly related issuers securities including reduced demand issuerâ\\x80\\x99s goods services poor management strategic initiatives mergers acquisitions dispositions response initiatives',\n",
              " 'analyzing credit quality issuer security-specific features current potential future valuation trading opportunities select investments unlike individual securities typically pay principal maturity fluctuate potentially total assets securities finance similar types projects please see â\\x80\\x9csales charge waiver policies applied certain intermediariesâ\\x80\\x9d â\\x80\\x9cappendixâ\\x80\\x9d section prospectus addition considered non-diversified invest greater portion assets securities smaller number individual issuers diversified',\n",
              " 'expectations met investors punish stocks inordinately even earnings increase investors often expect growth companies increase earnings certain future rules regulations securities exchange commission sec require alter perhaps materially use derivatives certain derivatives potential unlimited loss regardless size initial enters derivatives transactions required segregate liquid assets enter offsetting positions accordance applicable regulations',\n",
              " 'certain derivatives potential unlimited loss regardless size initial exposure certain factors use screens detract environments perhaps extended periods new new assurance grow maintain economically viable size therefore required sell securities subsequently recognize gains sales might recognized distribute securities in-kind cash transactions effect creations redemptions cash rather in-kind securities',\n",
              " 'derivative instruments include options futures contracts options futures contracts swap agreements including limited credit default swap agreements investment-grade one rated nationally recognized statistical rating organization top four credit quality categories determined advisor comparable credit quality assets prepaid benefit less declining rates funds similar maturity invest less heavily mortgage- asset-backed securities high-yield junk one rated four highest categories used nationally recognized statistical rating organization determined advisor similar quality invest collateralized obligations including collateralized loan obligations collateralized mortgage obligations mortgage- asset- backed securities similarly structured investments',\n",
              " 'conditions include constitutional statutory limits issuerâ\\x80\\x99s ability raise revenues increase taxes anticipated actual budget deficits difficulties changes credit quality issuers state states u.s. territories possessions grade quality instruments commonly referred â\\x80\\x9chigh yield securitiesâ\\x80\\x9d â\\x80\\x9cjunk bondsâ\\x80\\x9d involve substantially greater default already default values decline significantly derivatives include futures forward contracts options structured securities inverse floating instruments swaps prepayment/extension instruments subject prepayment and/or extension reduce potential gain instrumentâ\\x80\\x99s holders prepaid increase potential loss maturity extended mfs use derivatives purpose extent mfs uses derivatives mfs expects use derivatives primarily increase decrease exposure particular segment increase decrease exposure alternatives direct investments',\n",
              " 'profitability companies oil gas consumable fuels industry affected adversely changes worldwide energy prices exploration production spending sanctions even threat sanctions adversely affect russiaâ\\x80\\x99s economy investments addition midsize companies particularly affected increases find difficult borrow money continue expand operations difficulty repaying loans number countries imposed economic sanctions certain russian individuals russian corporate entities subject principal risks noted adversely affect net nav trading yield total ability meet goal',\n",
              " 'conditions include constitutional statutory limits issuerâ\\x80\\x99s ability raise revenues increase taxes anticipated actual budget deficits difficulties changes credit quality issuers state states u.s. territories possessions grade quality instruments commonly referred â\\x80\\x9chigh yield securitiesâ\\x80\\x9d â\\x80\\x9cjunk bondsâ\\x80\\x9d involve substantially greater default already default values decline significantly derivatives include futures forward contracts options structured securities inverse floating instruments swaps prepayment/extension instruments subject prepayment and/or extension reduce potential gain instrumentâ\\x80\\x99s holders prepaid increase potential loss maturity extended mfs use derivatives purpose extent mfs uses derivatives mfs expects use derivatives primarily increase decrease exposure particular segment increase decrease exposure alternatives direct investments',\n",
              " 'normally least assets securities companies principally engaged offering using developing products processes services provide benefit significantly technological advances improvements technology industries significantly affected obsolescence existing technology short product cycles falling prices profits competition new entrants general economic conditions please see â\\x80\\x9csales charge waiver policies applied certain intermediariesâ\\x80\\x9d â\\x80\\x9cappendixâ\\x80\\x9d section prospectus initial purchase minimum fidelity advisorâ® traditional ira roth ira rollover ira simplified employee pension-ira fidelity management trust company affiliate serves custodian regular plan established time position opened waive lower purchase minimums circumstances addition considered non-diversified invest greater portion assets securities smaller number individual issuers diversified',\n",
              " \"buying selling futures contracts long short positions effort manage cash flows efficiently remain fully invested facilitate allocation result 's could lower actively managed funds shift assets take advantage opportunities lessen impact decline decline one issuers allocations glide path pie chart referred neutral reflect decisions made adviser overweight underweight prior june operated certain different policies different pricing structure july 's neutral allocation fidelityâ® funds futures approximately domestic equity funds* international equity funds* funds* short-term funds* adviser change percentages time\",\n",
              " 'however investments sovereign especially less developed countries involve high degree including governmental entity controls repayment sovereign willing able repay principal and/or pay sovereign timely manner although particular tba securities must meet industry-accepted â\\x80\\x9cgood deliveryâ\\x80\\x9d standards assurance purchased forward commitment basis ultimately issued delivered counterparty decrease individual company multiple companies securities decreases managersâ\\x80\\x99 belief companyâ\\x80\\x99s intrinsic worth incorrect addition swing one countries regions invested significant amount assets greater effect would geographically diversified possible repatriate capital dividends particular country governmental entity',\n",
              " 'portfolioâ\\x80\\x99s holdings decrease individual company multiple companies securities decreases managersâ\\x80\\x99 belief companyâ\\x80\\x99s intrinsic worth incorrect portfolioâ\\x80\\x99s holdings become concentrated less able spread potentially reduce loss volatility addition swing one countries regions invested significant amount assets greater effect portfolioâ\\x80\\x99s would geographically diversified possible repatriate capital dividends particular country governmental entity managersâ\\x80\\x99 perception companyâ\\x80\\x99s growth potential realized securities purchased perform expected reducing portfolioâ\\x80\\x99s returns',\n",
              " 'decrease individual company multiple companies securities decreases managersâ\\x80\\x99 belief companyâ\\x80\\x99s intrinsic worth incorrect take long short positions derivatives instruments derived directly linked equity securities fixed-income securities commodities currencies rates indices addition swing one countries regions invested significant amount assets greater effect would geographically diversified use derivatives hedge earn enhance returns substitute securities invests increase decrease exposure particular adjust currency exposure relative benchmark index gain access foreign markets direct restricted unavailable manage profile possible repatriate capital dividends particular country governmental entity',\n",
              " 'analytical indicators helping identify signs business improvement could include accelerating earnings revenue growth rates increasing cash flows indications relative strength companyâ\\x80\\x99s business write covered calls portion holdings common stock managers believe call premiums attractive relative implementing strategy managers make decisions based primarily analysis individual companies rather broad economic forecasts normal conditions primarily consist securities companies attractive returns invested capital demonstrating business improvement tobacco exclusion prohibition tobacco-related investments cause forego profitable opportunities',\n",
              " 'impact growth regulation ability willingness institutions engage trading â\\x80\\x9cmaking marketâ\\x80\\x9d instruments remains unsettled reverse repurchase agreements carry sold decline must repurchase generally portfolioâ\\x80\\x99s overall dollar-weighted average effective duration less 3-year u.s. treasury note liquidity futures markets depends participants entering offsetting transactions rather making taking delivery leverage presents opportunity increased net capital gains exaggerate volatility loss',\n",
              " \"factors include projected growth trends u.s. non-u.s. economies forecasts rates relationship short- long-term rates yield curve current projected trends inflation relative valuation levels equity fixed commodity real estate markets various segments within markets outlook projected growth various industrial sectors information relating business cycles borrowing needs cost capital political trends data relating trade balances labor information relevant legislative public policy changes addition new funds limited operating histories investors evaluate new smaller funds attract sufficient assets achieve trading efficiencies fixed securities decline increase rates longer average duration sensitive changes rates shorter average duration call issuer exercise right redeem fixed earlier expected call liquidity result lack active reduced number capacity traditional participants make fixed securities magnified rising environment circumstances investor redemptions fixed mutual funds higher normal causing increased supply due selling activity derivatives derivative instruments futures swaps structured securities including leverage liquidity credit management risks mispricing valuation complexity achieved emphasizing allocations inflation related assets treasury-inflation protected securities tips commodities real estate complement exposures traditional assets u.s. international equities u.s. bonds short-term instruments issuers call outstanding securities prior maturity number reasons e.g. declining prospectus pimco funds table contents prospectus rates changes credit spreads improvements issuer 's credit quality\",\n",
              " 'factors adviser consider regard include companyâ\\x80\\x99s record projections profitability accuracy availability information respect company success experience management competitive advantage low stock volatility liquidity companyâ\\x80\\x99s securities adviser typically look companies strong experienced management teams potential support greater expected earnings growth rates combine fundamental quantitative analyses stock selection process take long short positions currencies related derivatives independent positions including taking position currency hold securities traded currency derivatives derivatives illiquid difficult leveraged small changes produce disproportionate losses subject counterparty greater degree traditional investments derivatives derivatives illiquid difficult leveraged small changes produce disproportionate losses subject counterparty greater degree traditional investments',\n",
              " 'extension chance periods rising rates certain securities paid substantially slowly originally anticipated securities fall credit chance issuer fail pay principal timely manner negative perceptions issuerâ\\x80\\x99s ability make payments cause decline credit low invests primarily bonds considered high-quality lesser extent bonds considered medium-quality investment-grade fixed securities rated equivalent baa3 moodyâ\\x80\\x99s another independent rating agency unrated determined comparable quality advisor call chance periods falling rates issuers callable bonds call redeem securities higher coupon rates rates maturity dates',\n",
              " 'addition certain events natural disasters terrorist attacks war geopolitical events led future lead increased short-term volatility adverse long-term effects world economies markets generally conducting top-down assessing environment analysis natural resources industry identifying trends sectors iico uses research-oriented bottom-up researching individual issuers approach selecting securities focusing company fundamentals growth prospects event holds material positions suspended securities ability liquidate positions provide liquidity investors compromised could incur significant losses believed iico undervalued never reach believed full securityâ\\x80\\x99s decrease appropriately priced iico focuses companies believes high quality potential sustainable long-term growth low-cost leaders possess historically strong-producing assets',\n",
              " 'companies affected factors including among others fluctuations energy prices supply demand energy fuels energy conservation success exploration projects local international politics events occurring nature instance larger established companies less able respond quickly new competitive challenges changes consumer tastes innovation smaller competitors instance natural events earthquakes hurricanes fires prime natural resources areas political events government instability military confrontations affect companies involved business activities energy sector potential changes regulation derivatives markets make derivatives costly limit derivatives otherwise adversely affect derivatives derivatives include privately placed otherwise exempt sec registration including certain rule 144a eligible securities',\n",
              " \"buying selling futures contracts long short positions effort manage cash flows efficiently remain fully invested facilitate allocation result 's could lower actively managed funds shift assets take advantage opportunities lessen impact decline decline one issuers allocations glide path pie chart referred neutral reflect decisions made adviser overweight underweight prior june operated certain different policies different pricing structure july 's neutral allocation fidelityâ® funds futures approximately domestic equity funds* international equity funds* funds* short-term funds* adviser change percentages time\",\n",
              " 'certain funds use derivative instruments options futures options futures including relating securities foreign currencies indices rates contracts difference forward contracts swap agreements including credit default swap agreements options swap agreements derivative instruments substitute directly increase returns manage credit manage effective maturity duration manage foreign currency part hedging strategy purposes related management lack active trading certain floating loans impair ability realize full event need sell floating loan make difficult loans securities types payment reset terms including fixed adjustable floating zero coupon contingent deferred payment kind auction features future rules regulations securities exchange commission sec require alter perhaps materially use derivatives unlike grade bonds however prices high yield junk bonds fluctuate unpredictably necessarily inversely changes rates',\n",
              " 'determining whether country qualified adviser considers factors countryâ\\x80\\x99s per capita gross domestic product percentage countryâ\\x80\\x99s economy industrialized capital percentage gross domestic product overall regulatory environment presence government regulation limiting banning foreign ownership restrictions repatriation initial capital dividends and/or capital gains invest equity securities company regardless based adviser determines significant portion companyâ\\x80\\x99s assets revenues generally attributable developing countries liquidity result lack active holding legal contractual restrictions resale reduced number capacity participants make holding however ratings opinions rating agencies issuing guarantees credit quality evaluation invest securities issuers including issuers lower rated bonds rated ba1 bb+ nationally recognized statistical rating organizations designated adviser unrated determined equivalent quality adviser exposure countries',\n",
              " 'sovereign debtorâ\\x80\\x99s willingness ability repay principal pay timely manner affected variety factors including cash flow situation extent reserves availability sufficient foreign exchange date payment due relative size service burden economy whole sovereign debtorâ\\x80\\x99s policy toward international lenders political constraints sovereign debtor subject certain floating loans fully collateralized decline collateral securing loan decline insufficient meet borrowerâ\\x80\\x99s obligations difficult costly liquidate liquidity futures markets depends participants entering offsetting transactions rather making taking delivery low margin deposits normally required futures trading possible employ high degree leverage',\n",
              " 'taxable tax-exempt obligation issued behalf state political subdivisions agencies instrumentalities district columbia u.s. territory possession post announcements regarding imposition liquidity redemption gate termination thereof website www.americancentury.com file notice securities exchange commission accordingly yield likely lower yield funds invest longer-term lower-quality securities sponsor legal obligation provide support expect sponsor provide support time impose liquidity redemptions temporarily suspend redemptions business days rolling 90-day weekly liquid assets fall total assets',\n",
              " 'iico considers number factors selecting individual securities including securityâ\\x80\\x99s current coupon maturity relative yield creditworthiness particular issuer private company involved sector identified structure including whether call feature state issued revenue bonds include certain private activity bonds pabs finance privately operated facilities general low-rated securities commonly referred â\\x80\\x9chigh yieldâ\\x80\\x9d â\\x80\\x9cjunkâ\\x80\\x9d bonds offer higher yields due increased issuer unable meet obligations principal payments time called addition low-rated securities obligations fluctuate widely yield higher-rated securities obligations fall times economy weak expected become weak addition certain events natural disasters terrorist attacks war geopolitical events led future lead increased short-term volatility adverse long-term effects world economies markets generally',\n",
              " 'first managers rank stocks generally publicly traded companies world-wide capitalization greater billion attractive least attractive based objective set measures including valuation quality growth sentiment process designed maintain approximately equal dollar amounts invested long short positions times managers generally sell stock believe become less attractive relative opportunities characteristics outweigh opportunity specific events alter prospects addition although managers intend construct neutral managers construct limits exposure general movements short position arises sells borrowed anticipation decline',\n",
              " 'advisor independently selects maintains common stocks concentration chance tends invest high percentage assets ten largest holdings hurt disproportionately poor relatively stocks principal strategies normal circumstances invests least assets common stocks companies principally engaged activities energy industry exploration production transmission energy energy fuels making servicing component products activities energy research energy conservation pollution control binbin guo ph.d. principal vanguard head alpha equity team within vanguardâ\\x80\\x99s quantitative equity group normally invests least assets common stocks companies principally engaged activities energy industry largely dependsâ\\x80\\x94for better worseâ\\x80\\x94on overall condition energy industry',\n",
              " 'required allocate investments among particular countries set percentages shareholder concentration allocation decisions particularly large redemptions made adviser whose discretionary clients make large percentage shareholders adversely impact remaining shareholders limitation agreement terminated term approval board trustees â\\x80\\x9cboardâ\\x80\\x9d invest companies organized majority assets generate majority operating country including emerging markets countries intends invest primarily equity securities companies countries developed economies result adviserâ\\x80\\x99s disciplined process times hold large percentages cash',\n",
              " 'reduced liquidity adverse impact ability sell securities investments necessary meet liquidity needs arise increase response specific economic event manager wishes purchase particular investments believes higher level liquidity would advantageous occurs yield generally tend move toward yield cash cash equivalents lower yields securities previously held prevailing yields bonds yield liquidation amount prior termination date securities held mature transition cash cash equivalents short-term fixed securities changes influenced number factors including government policy monetary policy inflation expectations perceptions supply demand bonds time duration weighted average maturity decline maturity date approaches',\n",
              " 'rankings used determine prospective candidates fundamental research subsequently possible addition derivatives derivatives illiquid difficult leveraged small changes produce disproportionate losses subject counterparty greater degree traditional investments page adviser seeks manage overall volatility relative universe companies comprise lowest total u.s. capitalization favoring promising securities offer best balance targeted use options strategies involving purchase and/or writing various combinations call and/or put options including individual securities stock indices futures contracts including futures contracts individual securities stock indices shares exchange-traded funds etfs analysts remain responsible monitoring new developments would affect securities cover',\n",
              " \"fmrc make active allocations within classes including commodities high yield floating real estate inflation-protected emerging markets individually aggregate within classes buying selling futures contracts long short positions effort manage cash flows efficiently remain fully invested facilitate allocation allocations glide path pie chart referred neutral reflect decisions made fmrc overweight underweight march 's neutral allocation fidelityâ® funds futures approximately domestic equity funds* international equity funds* funds* short-term funds* fmrc change percentages time prior june operated different pricing structure\",\n",
              " 'addition effectiveness quantitative analysis securities significantly impact success strategy companyâ\\x80\\x99s stock general decline short even extended periods regardless success failure companyâ\\x80\\x99s operations targeted tolerance corresponding allocation target however mere allocation volatility sole determination quantitative tools used adviser analyze stocks potential investments based various characteristics â\\x80\\x9cfactorsâ\\x80\\x9d momentum quality volatility reits decrease decline real estate values broadly',\n",
              " 'designed investors seeking high level current able tolerate greater credit fluctuations exist funds higher quality securities liquidity result lack active holding legal contractual restrictions resale reduced number capacity participants make holding however ratings opinions rating agencies issuing guarantees credit quality evaluation liquidity certain holdings deemed less liquid illiquid readily sold without significantly impacting holdings securities sold adviser believes longer represent relatively attractive opportunities',\n",
              " 'holdings include lowest-rated bonds including default overall limits investments rated investment-grade bb lower equivalent rating known â\\x80\\x9cjunkâ\\x80\\x9d bonds although expects maintain intermediate- long-term weighted average maturity maturity restrictions overall individual securities times participants markets develop concerns ability certain issuers instruments make timely principal payments develop concerns ability institutions make markets certain instruments facilitate orderly sells holdings variety reasons adjust average maturity credit quality shift assets higher-yielding securities alter geographic currency exposure generally securities longer maturities durations funds longer weighted average maturities durations carry greater',\n",
              " 'first step managers rank stocks primarily large capitalization publicly traded u.s. companies capitalization greater billion attractive least attractive based objective set measures including stockâ\\x80\\x99s valuation quality growth sentiment managers generally sell stock long believe become less attractive relative opportunities characteristics outweigh opportunity specific events alter prospects tobacco exclusion prohibition tobacco-related investments cause forego profitable opportunities managers buy take long positions equity securities identified attractive take short positions equity securities identified least attractive using multi-factor quantitative model two-step process short position arises sells borrowed anticipation decline',\n",
              " \"result could lower actively managed funds shift assets take advantage opportunities lessen impact decline decline one issuers engaging transactions leveraging effect including investments derivatives swaps total credit default options futures contracts forward-settling securities adjust 's exposure using statistical sampling techniques based duration maturity sensitivity structure credit quality attempt replicate returns bloomberg barclays u.s. box cincinnati oh overnight express fidelity investments crosby parkway covington ky tdd- service deaf hearing impaired buy one net per nav unlike individual securities typically pay principal maturity fluctuate\",\n",
              " 'companyâ\\x80\\x99s stock general decline short even extended periods regardless success failure companyâ\\x80\\x99s operations move coupled reduction ability willingness dealers institutional investors buy hold fixed-income securities result decreased liquidity increased volatility fixed-income markets instance variable-rate demand notes vrdns generally long-term bonds combined demand feature represents right sell back remarketer liquidity provider usually bank repurchase short notice normally one day seven days accepts credit recognized means enhance investorâ\\x80\\x99s fixed-income securities varying highest quality speculative degree credit',\n",
              " 'gics real estate sector composed equity real estate trusts known reits includes specialized reits real estate management development companies msci us investable real estate index made stocks large mid-size small u.s. companies within real estate sector classified global industry classification standard gics concentration chance target index therefore tends heavily weighted ten largest holdings hurt disproportionately poor relatively stocks chance reit stock prices overall decline cost borrowing reits increase rising rates nondiversification chance invest greater percentage assets particular issuer group issuers larger positions issuerâ\\x80\\x99s voting stock diversified',\n",
              " \"buying selling futures contracts long short positions effort manage cash flows efficiently remain fully invested facilitate allocation allocating assets according neutral allocation strategy shown glide path adjusts time reaches allocation similar fidelity simplicity rmd fundâ\\x84 approximately years result 's could lower actively managed funds shift assets take advantage opportunities lessen impact decline decline one issuers allocations glide path pie chart referred neutral reflect decisions made adviser overweight underweight prior june operated certain different policies different pricing structure\",\n",
              " 'decrease subadviserâ\\x80\\x99s judgment quality relative yield trends affecting particular industry sector region rates incorrect imperfections errors limitations tools data used subadviser additional regulation derivatives make derivatives costly limit availability utility otherwise adversely affect disrupt markets impact changes markets practical implications participants fully known time past decade markets throughout world experienced increased volatility depressed valuations decreased liquidity heightened uncertainty derivative fluctuate assets rates indices indicators relates',\n",
              " 'derivative used hedging change derivative correlate specifically currency hedged manager seek sell moved beyond managerâ\\x80\\x99s fair target meaningful positive change companyâ\\x80\\x99s fundamental outlook ii negative fundamental change issuerâ\\x80\\x99s credit outlook changes managerâ\\x80\\x99s view appropriate valuation iii managerâ\\x80\\x99s views macroeconomic sector trends valuations changed making particular issuer issuerâ\\x80\\x99s industry less attractive certain derivatives potential unlimited loss regardless size initial use derivative transactions allow obtain net long short exposures select currencies rates countries durations credit risks corporate issuers include corporate business entities sovereign governmental agency entity indirectly directly including majority greater ownership',\n",
              " 'instance larger established companies less able respond quickly new competitive challenges changes consumer tastes innovation smaller competitors potential changes regulation derivatives markets make derivatives costly limit derivatives otherwise adversely affect derivatives derivatives include privately placed otherwise exempt sec registration including certain rule 144a eligible securities prior maturity options contract enter offsetting contract incur loss extent adverse movement options prices companies affected factors including obtaining protecting patents failure significant competitive pressures including aggressive pricing products services new entrants prospectus table contents columbia select large cap equity summary continued competition short product cycles due accelerated technological developments',\n",
              " 'financials industries subject extensive government regulation subject relatively rapid change due increasingly blurred distinctions service segments significantly affected availability cost capital funds changes rates corporate consumer defaults competition normally least assets securities companies principally engaged providing services consumers industry please see â\\x80\\x9csales charge waiver policies applied certain intermediariesâ\\x80\\x9d â\\x80\\x9cappendixâ\\x80\\x9d section prospectus initial purchase minimum fidelity advisorâ® traditional ira roth ira rollover ira simplified employee pension-ira fidelity management trust company affiliate serves custodian regular plan established time position opened waive lower purchase minimums circumstances box cincinnati oh overnight express fidelity investments crosby parkway covington ky eligibility requirements listed additional information purchase shares section prospectus',\n",
              " 'economies particular countries areas world differ favorably unfavorably economy united states futures positions taken usually liquidated manner instead make take delivery securities whenever appears economically advantageous mortgage-backed asset-backed securities issued participants housing commercial real estate finance well asset-backed markets generally experienced extraordinary weakness volatility various times recent years decline quickly event substantial economic downturn sub-adviser considers credit research integral component high yield process emphasizes issue selection sector selection opportunistic trading sub-adviser principally selects securities broad universe domestic high yield corporate bonds using bottom-up fundamental research-driven process',\n",
              " 'â\\x80\\x9cqualityâ\\x80\\x9d factor incorporates measurements equity earnings variability cash assets leverage â\\x80\\x9cvalueâ\\x80\\x9d factor incorporates measurements earnings forward earnings book dividend yield therefore required sell securities subsequently recognize gains sales might recognized distribute securities in-kind cash transactions unlike certain etfs expects generally effect creations redemptions partially cash rather in-kind securities exposure factors detract environments perhaps extended periods',\n",
              " 'instance larger established companies less able respond quickly new competitive challenges changes consumer tastes innovation smaller competitors companies affected factors including obtaining protecting patents failure significant competitive pressures including aggressive pricing products services new entrants competition short product cycles due accelerated technological developments poor caused poor management decisions competitive pressures breakthroughs technology reliance suppliers labor problems shortages corporate restructurings fraudulent disclosures natural disasters events conditions factors liquidity associated event circumstance characteristic negatively impacts ability sell realize proceeds desirable time invest small-to-medium size capitalization companies managers believe provide opportunities benefit rapidly changing technologies expansion communications information related industries',\n",
              " 'â\\x80\\x9cqualityâ\\x80\\x9d factor incorporates measurements equity earnings variability cash assets leverage â\\x80\\x9cvalueâ\\x80\\x9d factor incorporates measurements earnings forward earnings book dividend yield exposure factors detract environments perhaps extended periods addition midsize companies particularly affected increases find difficult borrow money continue expand operations difficulty repaying loans subject principal risks noted adversely affect net nav trading yield total ability meet goal',\n",
              " \"liquidity result lack active reduced number capacity traditional participants make fixed securities magnified rising environment circumstances investor redemptions fixed mutual funds higher normal causing increased supply due selling activity rates fall 's decline assurance given u.s. government would provide support agencies instrumentalities fixed securities decline increase rates longer average duration sensitive changes rates shorter average duration call issuer exercise right redeem fixed earlier expected call certain legal challenges use lease revenue bonds various states revenue revenue bonds generally backed payable revenues derived specific facility specific revenue source sources payments made later expected prevented proceeds would otherwise received given time higher prevailing prepayment prepayment fixed-income securities common rates declining shorten securities effective maturity reduce 's cause reinvest lower yielding securities table contents prospectus when-issued securities risks related securities issued when-issued basis payment delivery take place future date beyond normal settlement date general securities longer durations tend sensitive changes make volatile securities shorter durations general obligation general obligation bonds generally secured obligor 's pledge full faith credit taxing power payment principal\",\n",
              " 'selections guided analysis industry allocations deviate primary benchmark typically represent broad range industry groups managers use quantitative factors screen selection universe analyzing factors momentum i.e. changes relative changes overall prices earnings estimate revisions i.e. changes analystsâ\\x80\\x99 earnings-per-share estimates review consider fundamental changes details regarding calculation class-by-class including discussion adjustments provided â\\x80\\x9cadditional informationâ\\x80\\x9d prospectus sai reit real estate-related adverse changes real estate markets affect reit investments real estate-linked derivatives currently considers companyâ\\x80\\x99s capitalization large equals exceeds billion',\n",
              " 'managers generally sell stock believe become less attractive relative opportunities characteristics outweigh opportunity specific events alter prospects tobacco exclusion prohibition tobacco-related investments cause forego profitable opportunities first managers rank stocks primarily smaller u.s. companies attractive least attractive based objective set measures including stockâ\\x80\\x99s valuation quality growth sentiment process stocks selected managers using quantitative models perform differently expected due managersâ\\x80\\x99 judgments regarding factors used models weight placed factor changes factorsâ\\x80\\x99 historical trends technical issues construction implementation models including example data problems and/or software implementation issues permitted invest securities issued companies assigned global industry classification standard gics bloomberg industry classification standard bics tobacco industry',\n",
              " 'instance larger established companies less able respond quickly new competitive challenges changes consumer tastes innovation smaller competitors liquidity futures markets depends participants entering offsetting transactions rather making taking delivery low margin deposits normally required futures trading possible employ high degree leverage addition holders depositary receipts limited voting rights rights afforded stockholders typical domestic company event corporate action acquisition merger rights offering experience difficulty receiving company stockholder communications derivatives include privately placed otherwise exempt sec registration including certain rule 144a eligible securities',\n",
              " 'companyâ\\x80\\x99s stock general decline short even extended periods regardless success failure companyâ\\x80\\x99s operations consider take account tolerance daily fluctuations markets whether afford leave money long periods time ride periods emerging-market countries less economically diverse mature developed countries tend politically less stable reimbursement arrangement changed terminated time without approval board trustees changed terminated adviser time november addition degree invests foreign securities possibility investments foreign securities decrease unique risks usaa capital growth table contents currency exchange-rate fluctuations foreign illiquidity emerging increased volatility uncertain political conditions exchange control regulations foreign ownership limits different accounting reporting disclosure requirements difficulties obtaining legal judgments foreign withholding taxes',\n",
              " 'derivatives include options futures contracts options futures contracts swap agreements including limited credit default swap agreements however assets invested securities rated fifth-highest category independent rating agency determined comparable quality advisor investment-grade one rated independent rating agency top four credit quality categories determined advisor comparable credit quality assets prepaid benefit less declining rates funds similar maturity invest less heavily mortgage- asset-backed securities invest collateralized obligations including collateralized loan obligations collateralized mortgage obligations mortgage- asset- backed securities similarly structured investments',\n",
              " 'instance larger established companies less able respond quickly new competitive challenges changes consumer tastes innovation smaller competitors addition holders depositary receipts limited voting rights rights afforded stockholders typical domestic company event corporate action acquisition merger rights offering experience difficulty receiving company stockholder communications companies affected factors including obtaining protecting patents failure significant competitive pressures including aggressive pricing products services new entrants competition short product cycles due accelerated technological developments companies affected factors including government regulation obtaining protecting patents failure product liability similar litigation well product obsolescence time time emphasize one sectors selecting investments including consumer discretionary sector health care sector information technology technology-related sectors',\n",
              " 'reits subject failing qualify favorable treatment internal revenue code amended addition holders depositary receipts limited voting rights rights afforded stockholders typical domestic company event corporate action acquisition merger rights offering experience difficulty receiving company stockholder communications meet managementâ\\x80\\x99s perceived assessment decline even though management believes securities already undervalued take longer expected investments rise managementâ\\x80\\x99s perceived companies affected competitive pressures exposure investments agreements certain circumstances lead losses e.g. subprime loans',\n",
              " 'securities sold adviser believes longer represent relatively attractive opportunities income-oriented stocks provided reduced changes dividend policies capital resources available dividend payments companies invests adviser believes important way accomplish fundamental analysis include meeting company executives employees suppliers customers competitors basic philosophy adviser seek invest attractively valued companies opinion represent good long-term opportunities investors long-term perspective able tolerate potentially sharp declines',\n",
              " 'among things canadian economy heavily dependent relationships certain key trading partners including united states china addition midsize companies particularly affected increases find difficult borrow money continue expand operations difficulty repaying loans subject principal risks noted adversely affect net nav trading yield total ability meet goal increased possibility untimely responses certain corporate actions issuer unsponsored depositary receipt program accordingly less information available regarding issuers securities unsponsored programs correlation information depositary receipts',\n",
              " 'specifically taiwanâ\\x80\\x99s geographic proximity history political contention china resulted ongoing tensions materially affect taiwanese economy securities competitive pressures intense competition aggressive pricing technological developments changing demand research development costs availability components product obsolescence significantly affect companies industry therefore required sell securities subsequently recognize gains sales might recognized distribute securities in-kind cash transactions unlike certain etfs expects generally effect creations redemptions entirely cash rather in-kind securities addition midsize companies particularly affected increases find difficult borrow money continue expand operations difficulty repaying loans',\n",
              " 'reits subject failing qualify favorable treatment internal revenue code amended meet managementâ\\x80\\x99s perceived assessment decline even though management believes securities already undervalued take longer expected investments rise managementâ\\x80\\x99s perceived companies affected competitive pressures exposure investments agreements certain circumstances lead losses e.g. subprime loans poor caused poor management decisions competitive pressures breakthroughs technology reliance suppliers labor problems shortages corporate restructurings fraudulent disclosures natural disasters events conditions factors',\n",
              " \"tax-exempt securities failure issuer comply applicable requirements make paid thereon taxable resulting decline securityâ\\x80\\x99s however extent exposure time time securities particular state events state affect investments buys securities rated time purchase one top four ratings categories one u.s. nationally recognized rating services unrated short-term rated securities comparable credit quality prepayment prepayment occurs repaid whole part prior 's maturity must reinvest proceeds receives periods declining rates securities pay lower therefore required sell securities subsequently recognize gains sales might recognized distribute securities in-kind\",\n",
              " 'leveraging instruments transactions constitute leverage magnify gains losses increase volatility details regarding calculation class-by-class including discussion adjustments provided â\\x80\\x9cadditional informationâ\\x80\\x9d prospectus sai reit real estate-related adverse changes real estate markets affect reit investments real estate-linked derivatives liquidity lack active investments cause delay disposition force fair managers ordinarily look companies following characteristics higher average growth strong potential capital appreciation substantial capacity growth revenue expanding strong balance sheet superior management strong commitment research product development differentiated superior products services sustainable competitive advantage',\n",
              " 'adviser typically look companies strong experienced management teams potential support greater expected earnings growth rates combine fundamental quantitative analyses stock selection process take long short positions currencies related derivatives independent positions including taking position currency hold securities traded currency derivatives derivatives illiquid difficult leveraged small changes produce disproportionate losses subject counterparty greater degree traditional investments examples emerging countries include argentina brazil chile croatia egypt hong kong india indonesia kazakhstan malaysia mexico peopleâ\\x80\\x99s republic china peru philippines poland russia south africa taiwan thailand turkey venezuela adviser hedge foreign currency exposure resulting positions use currency-related derivatives required',\n",
              " 'addition target index times become focused stocks particular sector would subject proportionately higher exposure risks sector stock markets tend move cycles periods rising prices periods falling prices index designed measure small-capitalization stocks united states vanguard russell index objective seeks track benchmark index measures small-capitalization stocks united states style chance returns small-capitalization stocks trail returns overall stock',\n",
              " 'conditions include constitutional statutory limits issuerâ\\x80\\x99s ability raise revenues increase taxes anticipated actual budget deficits difficulties changes credit quality issuers state states u.s. territories possessions grade quality instruments commonly referred â\\x80\\x9chigh yield securitiesâ\\x80\\x9d â\\x80\\x9cjunk bondsâ\\x80\\x9d involve substantially greater default already default values decline significantly derivatives include futures forward contracts options structured securities inverse floating instruments swaps prepayment/extension instruments subject prepayment and/or extension reduce potential gain instrumentâ\\x80\\x99s holders prepaid increase potential loss maturity extended mfs use derivatives purpose extent mfs uses derivatives mfs expects use derivatives primarily increase decrease exposure particular segment increase decrease exposure alternatives direct investments',\n",
              " 'conversely fixed securities shorter maturities less volatile generally eaton vance funds prospectus dated december provide lower returns fixed securities longer maturities use leverage cause liquidate positions advantageous satisfy obligations meet segregation requirements commonwealth puerto rico related issuers continue experience difficulties rating agency downgrades numerous issuers entered title iii puerto rico oversight management economic stability act similar bankruptcy protection commonwealth puerto rico restructure result federal reserveâ\\x80\\x99s recent decision raise target fed funds last two years ii slowly unwind quantitative easing program possibility continue either policies going forward among factors markets could experience increased volatility could negatively impact enter residual transactions expose leverage greater fixed-rate',\n",
              " 'securities fully partially backed enhanced taxing authority local government current anticipated revenues specific project specific assets credit liquidity enhancement provided private issuer credit default inability unwillingness issuer guarantor fixed-income counterparty repurchase transaction meet payment obligations adversely affect investments yield â\\x80\\x9cretail money fundâ\\x80\\x9d rule 2a-7 permitted continue use amortized cost method valuation seek maintain stable nav board trustees â\\x80\\x9cboardâ\\x80\\x9d permitted impose â\\x80\\x9cliquidity feeâ\\x80\\x9d redemptions temporarily restrict redemptions business days 90-day described detail â\\x80\\x9cpurchase shares.â\\x80\\x9d securities exchange commission â\\x80\\x9csecâ\\x80\\x9d imposes strict requirements quality maturity diversification liquidity investments addition large redemptions could lead increase ratio due smaller base liquidity able pay redemption proceeds timely manner unusual conditions unusually high volume redemption requests legal restrictions impairing ability sell particular securities advantageous reasons']"
            ]
          },
          "metadata": {},
          "execution_count": 127
        }
      ],
      "source": [
        "X = top_sentences_bf.values\n",
        "X = [' '.join(tokenizer(txt)) for txt in X]\n",
        "X"
      ]
    },
    {
      "cell_type": "code",
      "execution_count": null,
      "metadata": {
        "id": "SZAM-W2jtNQn"
      },
      "outputs": [],
      "source": [
        "# The Tokenizer provided by the Keras library allows to perform such transformation.\n",
        "keras_tokenizer = Tokenizer(num_words=num_words)\n",
        "keras_tokenizer.fit_on_texts(top_sentences_bf)\n",
        "# word_index is the dictionary that contains the index of each words in our 2500 long vocabulary.\n",
        "word_index = keras_tokenizer.word_index\n",
        "sequences_train = keras_tokenizer.texts_to_sequences(top_sentences_bf)\n",
        "sequences_test = keras_tokenizer.texts_to_sequences(top_sentences_bf_test)"
      ]
    },
    {
      "cell_type": "code",
      "execution_count": null,
      "metadata": {
        "id": "V52UIm5NtNQn"
      },
      "outputs": [],
      "source": [
        "feature_train = pad_sequences(sequences_train, maxlen=maxlen, dtype=float, padding='post', truncating='post')\n",
        "feature_test = pad_sequences(sequences_test, maxlen=maxlen, dtype=float, padding='post', truncating='post')"
      ]
    },
    {
      "cell_type": "code",
      "execution_count": null,
      "metadata": {
        "id": "bTz0lrWOtNQn"
      },
      "outputs": [],
      "source": [
        "embedding_matrix = np.zeros((len(word_index) + 1, word_dimension))\n",
        "for word, i in word_index.items():\n",
        "    embedding_vector = word2vec_g.get(word)\n",
        "    #embedding_vector = word2vec.get(word)   # uncomment to use our own word2vec\n",
        "    if embedding_vector is not None:\n",
        "        embedding_matrix[i] = embedding_vector"
      ]
    },
    {
      "cell_type": "markdown",
      "source": [
        "CNN"
      ],
      "metadata": {
        "id": "ggXjWkRIUCFQ"
      }
    },
    {
      "cell_type": "code",
      "execution_count": null,
      "metadata": {
        "id": "J0cGNGaItNQn"
      },
      "outputs": [],
      "source": [
        "from keras.regularizers import l2\n",
        "def create_CNN_model():\n",
        "    CNN = Sequential()\n",
        "    # The Embedding layer takes the embedding matrix as an argument and transform the inputed the sequences of index to sequences of vectors.\n",
        "    CNN.add(Embedding(len(word_index) + 1, word_dimension, weights=[embedding_matrix], input_length = maxlen, trainable=False))\n",
        " \n",
        "    # CNN.add(Convolution1D(64, 5, activation = 'relu'))\n",
        "    # CNN.add(MaxPooling1D(pool_size = 5))\n",
        " \n",
        "    CNN.add(Convolution1D(3, 1, activation = 'relu'))\n",
        "    CNN.add(MaxPooling1D(pool_size = 5))\n",
        "    CNN.add(Flatten())\n",
        "    CNN.add(Dense(units = 64, activation = 'relu'))#ORIGIN 128\n",
        "    CNN.add(Dense(32, kernel_regularizer=l2(0.01), bias_regularizer=l2(0.01)))#ORIGIN 32\n",
        "    CNN.add(Dropout(0.8))\n",
        "    CNN.add(Dense(units = 1, activation = 'sigmoid'))\n",
        " \n",
        "    CNN.compile(optimizer = 'adam', loss='hinge', metrics = ['accuracy']) #loss='binary_crossentropy'\n",
        "    \n",
        "    return CNN\n"
      ]
    },
    {
      "cell_type": "code",
      "execution_count": null,
      "metadata": {
        "id": "OEv1qi2itNQn"
      },
      "outputs": [],
      "source": [
        "CNN_model = create_CNN_model()"
      ]
    },
    {
      "cell_type": "code",
      "execution_count": null,
      "metadata": {
        "id": "yvK9inkatNQn"
      },
      "outputs": [],
      "source": [
        "y_train_bf = []\n",
        "for i in y_train:\n",
        "    if i==0:\n",
        "        y_train_bf.append(1)\n",
        "    else:\n",
        "        y_train_bf.append(0)\n",
        "    \n",
        "# y_train_bf = [1 for y in y_train if y==0 else 0]"
      ]
    },
    {
      "cell_type": "code",
      "source": [
        "feature_train = np.asarray(feature_train).astype('float32')\n",
        "feature_test = np.asarray(feature_test).astype('float32')\n",
        "y_train_bf = np.asarray(y_train_bf).astype('float32')\n",
        "y_test = np.asarray(y_test).astype('float32')\n",
        "CNN_history = CNN_model.fit(feature_train, y_train_bf, epochs=5, batch_size=100)"
      ],
      "metadata": {
        "id": "KLvSkg4JTIRK",
        "colab": {
          "base_uri": "https://localhost:8080/"
        },
        "outputId": "7ff946aa-0b67-4c74-e847-ec46a6545149"
      },
      "execution_count": null,
      "outputs": [
        {
          "output_type": "stream",
          "name": "stdout",
          "text": [
            "Epoch 1/5\n",
            "4/4 [==============================] - 3s 418ms/step - loss: 1.6926 - accuracy: 0.7487\n",
            "Epoch 2/5\n",
            "4/4 [==============================] - 2s 413ms/step - loss: 1.5077 - accuracy: 0.8466\n",
            "Epoch 3/5\n",
            "4/4 [==============================] - 2s 446ms/step - loss: 1.4483 - accuracy: 0.8545\n",
            "Epoch 4/5\n",
            "4/4 [==============================] - 2s 449ms/step - loss: 1.4059 - accuracy: 0.8598\n",
            "Epoch 5/5\n",
            "4/4 [==============================] - 2s 418ms/step - loss: 1.3818 - accuracy: 0.8624\n"
          ]
        }
      ]
    },
    {
      "cell_type": "code",
      "source": [
        "# Plot training & validation accuracy\n",
        "plt.plot(CNN_history.history['accuracy'])\n",
        "plt.title('BF Model accuracy')\n",
        "plt.ylabel('Accuracy')\n",
        "plt.xlabel('Epoch')\n",
        "plt.legend(['Train'], loc='upper left')\n",
        "plt.show()"
      ],
      "metadata": {
        "colab": {
          "base_uri": "https://localhost:8080/",
          "height": 295
        },
        "id": "Qxsfvim3Zqop",
        "outputId": "bfdc1bd3-3d1b-4cbe-8688-91988bebd481"
      },
      "execution_count": null,
      "outputs": [
        {
          "output_type": "display_data",
          "data": {
            "text/plain": [
              "<Figure size 432x288 with 1 Axes>"
            ],
            "image/png": "[encoded data removed]"
          },
          "metadata": {
            "needs_background": "light"
          }
        }
      ]
    },
    {
      "cell_type": "code",
      "source": [
        "y_train_fi = [(1 if y==1 else 0) for y in y_train]\n",
        "y_train_eq = [(1 if y==2 else 0) for y in y_train]\n",
        "print(y_train_fi, '\\n',y_train_eq)\n",
        "\n"
      ],
      "metadata": {
        "colab": {
          "base_uri": "https://localhost:8080/"
        },
        "id": "Wqf8vr9hZbGC",
        "outputId": "2e8ac6b0-7f7f-4b40-f2cd-87b4c5aa2996"
      },
      "execution_count": null,
      "outputs": [
        {
          "output_type": "stream",
          "name": "stdout",
          "text": [
            "[0, 0, 0, 0, 1, 0, 1, 0, 0, 0, 1, 0, 0, 0, 0, 0, 1, 0, 0, 0, 1, 0, 0, 0, 0, 0, 0, 0, 1, 0, 0, 1, 0, 0, 0, 0, 0, 0, 1, 0, 0, 0, 1, 1, 0, 0, 1, 1, 0, 0, 0, 1, 1, 0, 0, 0, 0, 1, 1, 0, 0, 1, 0, 0, 0, 0, 0, 0, 0, 0, 1, 1, 0, 0, 0, 0, 1, 0, 1, 0, 0, 0, 0, 0, 0, 0, 0, 0, 1, 0, 1, 0, 1, 0, 0, 0, 1, 0, 0, 1, 0, 0, 1, 0, 0, 1, 1, 0, 1, 0, 1, 0, 1, 0, 0, 0, 0, 0, 1, 1, 0, 1, 1, 1, 0, 0, 0, 1, 0, 1, 1, 0, 0, 1, 0, 0, 1, 0, 0, 0, 0, 0, 0, 0, 0, 0, 0, 0, 0, 0, 0, 0, 0, 0, 0, 1, 0, 1, 0, 1, 0, 0, 0, 0, 1, 0, 0, 0, 0, 0, 0, 0, 0, 0, 0, 0, 0, 0, 1, 0, 0, 1, 0, 0, 1, 0, 1, 1, 0, 0, 0, 1, 0, 0, 0, 0, 0, 0, 0, 0, 0, 0, 0, 0, 1, 1, 1, 0, 0, 1, 0, 0, 1, 0, 0, 0, 0, 1, 0, 0, 0, 1, 0, 0, 0, 0, 0, 1, 0, 0, 0, 0, 0, 0, 0, 0, 0, 0, 0, 0, 0, 1, 0, 1, 0, 0, 0, 0, 0, 1, 0, 0, 0, 1, 0, 0, 0, 1, 0, 1, 1, 0, 0, 0, 0, 0, 1, 0, 0, 0, 0, 1, 1, 0, 0, 0, 1, 0, 0, 0, 0, 0, 0, 0, 1, 1, 0, 0, 0, 1, 0, 0, 0, 0, 0, 1, 0, 0, 1, 0, 0, 0, 0, 0, 0, 0, 1, 0, 0, 0, 1, 0, 1, 0, 0, 0, 1, 0, 1, 0, 0, 0, 0, 0, 0, 1, 0, 0, 1, 0, 0, 0, 1, 0, 1, 0, 1, 0, 0, 0, 1, 0, 0, 0, 1, 0, 0, 1, 0, 0, 0, 1, 1, 0, 0, 0, 0, 0, 0, 1, 0, 0, 0, 0, 0, 0, 0, 0, 0, 0, 0, 1, 0, 0, 1, 1, 1, 1] \n",
            " [1, 0, 1, 0, 0, 0, 0, 1, 1, 1, 0, 1, 0, 1, 1, 1, 0, 1, 1, 1, 0, 1, 1, 1, 0, 0, 0, 0, 0, 1, 1, 0, 1, 1, 0, 0, 0, 1, 0, 1, 0, 1, 0, 0, 0, 1, 0, 0, 1, 1, 1, 0, 0, 1, 1, 1, 0, 0, 0, 1, 0, 0, 1, 1, 1, 0, 0, 1, 1, 1, 0, 0, 1, 1, 0, 1, 0, 1, 0, 0, 1, 1, 1, 1, 1, 1, 0, 0, 0, 0, 0, 0, 0, 0, 1, 1, 0, 0, 1, 0, 0, 0, 0, 1, 1, 0, 0, 1, 0, 0, 0, 1, 0, 0, 1, 1, 0, 1, 0, 0, 1, 0, 0, 0, 1, 1, 1, 0, 1, 0, 0, 1, 1, 0, 1, 1, 0, 1, 1, 1, 1, 1, 1, 0, 1, 1, 1, 1, 0, 1, 1, 0, 1, 0, 1, 0, 0, 0, 1, 0, 1, 1, 1, 0, 0, 0, 0, 0, 1, 1, 1, 0, 1, 0, 1, 0, 0, 0, 0, 0, 1, 0, 1, 0, 0, 0, 0, 0, 0, 0, 1, 0, 0, 1, 0, 1, 0, 0, 1, 0, 0, 0, 1, 1, 0, 0, 0, 0, 0, 0, 1, 1, 0, 1, 0, 0, 1, 0, 1, 1, 0, 0, 1, 1, 0, 1, 1, 0, 0, 1, 1, 0, 1, 1, 0, 1, 0, 1, 0, 1, 1, 0, 1, 0, 0, 1, 0, 1, 1, 0, 1, 1, 1, 0, 0, 1, 1, 0, 1, 0, 0, 0, 1, 1, 0, 1, 0, 1, 1, 1, 1, 0, 0, 0, 1, 1, 0, 0, 0, 1, 1, 1, 1, 0, 0, 0, 1, 1, 0, 0, 1, 1, 1, 0, 0, 0, 0, 0, 0, 1, 1, 0, 1, 0, 1, 1, 0, 0, 1, 1, 0, 1, 0, 1, 1, 0, 0, 1, 0, 1, 0, 0, 1, 1, 1, 0, 0, 0, 0, 1, 1, 0, 0, 0, 0, 0, 0, 0, 1, 0, 0, 0, 0, 0, 0, 0, 0, 0, 0, 1, 0, 0, 0, 1, 1, 0, 1, 1, 1, 0, 1, 0, 1, 1, 0, 1, 1, 1, 1, 1, 1, 0, 1, 0, 0, 0, 0, 0]\n"
          ]
        }
      ]
    },
    {
      "cell_type": "markdown",
      "source": [
        "Predict category for test data."
      ],
      "metadata": {
        "id": "mmZDRYs6UhSW"
      }
    },
    {
      "cell_type": "code",
      "source": [
        "preds = CNN_model.predict(feature_test)\n",
        "for col in pd.DataFrame(preds).columns:\n",
        "  print(pd.DataFrame(preds)[col].describe())"
      ],
      "metadata": {
        "colab": {
          "base_uri": "https://localhost:8080/"
        },
        "id": "kkSZEkl036lB",
        "outputId": "e5684c25-1863-4a1e-a7e6-abaab8457fa0"
      },
      "execution_count": null,
      "outputs": [
        {
          "output_type": "stream",
          "name": "stdout",
          "text": [
            "count    1.630000e+02\n",
            "mean     1.192947e-07\n",
            "std      1.596655e-07\n",
            "min      2.848347e-09\n",
            "25%      2.886866e-08\n",
            "50%      6.372351e-08\n",
            "75%      1.393266e-07\n",
            "max      1.101132e-06\n",
            "Name: 0, dtype: float64\n"
          ]
        }
      ]
    },
    {
      "cell_type": "code",
      "source": [
        ""
      ],
      "metadata": {
        "id": "3f8e913BlMOC"
      },
      "execution_count": null,
      "outputs": []
    },
    {
      "cell_type": "code",
      "source": [
        ""
      ],
      "metadata": {
        "id": "Ln57hg5alf8v"
      },
      "execution_count": null,
      "outputs": []
    },
    {
      "cell_type": "code",
      "source": [
        "keras_tokenizer.fit_on_texts(top_sentences_fi)\n",
        "# word_index is the dictionary that contains the index of each words in our 2500 long vocabulary.\n",
        "sequences_train_fi = keras_tokenizer.texts_to_sequences(top_sentences_fi)\n",
        "sequences_test_fi = keras_tokenizer.texts_to_sequences(top_sentences_fi_test)\n",
        "feature_train_fi = pad_sequences(sequences_train_fi, maxlen=maxlen, dtype=float, padding='post', truncating='post')\n",
        "feature_test_fi = pad_sequences(sequences_test_fi, maxlen=maxlen, dtype=float, padding='post', truncating='post')\n"
      ],
      "metadata": {
        "id": "2-A2tdITayCA"
      },
      "execution_count": null,
      "outputs": []
    },
    {
      "cell_type": "code",
      "source": [
        "feature_train_fi = np.asarray(feature_train_fi).astype('float32')\n",
        "feature_test_fi = np.asarray(feature_test_fi).astype('float32')\n",
        "y_train_fi = np.asarray(y_train_fi).astype('float32')\n",
        "#y_test = np.asarray(y_test).astype('float32')\n",
        "\n"
      ],
      "metadata": {
        "id": "ykhSpvEWar9M"
      },
      "execution_count": null,
      "outputs": []
    },
    {
      "cell_type": "code",
      "source": [
        "feature_train_fi"
      ],
      "metadata": {
        "colab": {
          "base_uri": "https://localhost:8080/"
        },
        "id": "45bG6HWk9EDh",
        "outputId": "b1089603-4d4f-4955-bd75-69bfe2fd25c0"
      },
      "execution_count": null,
      "outputs": [
        {
          "output_type": "execute_result",
          "data": {
            "text/plain": [
              "array([[  1.,  18.,  72., ...,   0.,   0.,   0.],\n",
              "       [109.,  68., 128., ...,   0.,   0.,   0.],\n",
              "       [616.,   1.,  26., ...,   0.,   0.,   0.],\n",
              "       ...,\n",
              "       [425., 286.,   8., ...,   0.,   0.,   0.],\n",
              "       [  1., 898.,   2., ...,   0.,   0.,   0.],\n",
              "       [131.,  10.,   8., ...,   0.,   0.,   0.]], dtype=float32)"
            ]
          },
          "metadata": {},
          "execution_count": 140
        }
      ]
    },
    {
      "cell_type": "code",
      "source": [
        "CNN_history_fi = CNN_model.fit(feature_train_fi, y_train_fi, epochs=5, batch_size=100)"
      ],
      "metadata": {
        "colab": {
          "base_uri": "https://localhost:8080/"
        },
        "id": "yTyesEsbaX2f",
        "outputId": "6b0ab7fa-3041-4f65-9dbb-2d5fac92870a"
      },
      "execution_count": null,
      "outputs": [
        {
          "output_type": "stream",
          "name": "stdout",
          "text": [
            "Epoch 1/5\n",
            "4/4 [==============================] - 2s 450ms/step - loss: 1.3670 - accuracy: 0.7354\n",
            "Epoch 2/5\n",
            "4/4 [==============================] - 2s 428ms/step - loss: 1.3474 - accuracy: 0.7434\n",
            "Epoch 3/5\n",
            "4/4 [==============================] - 2s 414ms/step - loss: 1.3311 - accuracy: 0.7434\n",
            "Epoch 4/5\n",
            "4/4 [==============================] - 2s 446ms/step - loss: 1.3218 - accuracy: 0.7407\n",
            "Epoch 5/5\n",
            "4/4 [==============================] - 2s 399ms/step - loss: 1.3026 - accuracy: 0.7434\n"
          ]
        }
      ]
    },
    {
      "cell_type": "code",
      "source": [
        "# Plot training & validation accuracy\n",
        "plt.plot(CNN_history_fi.history['accuracy'])\n",
        "plt.title('FI Model accuracy')\n",
        "plt.ylabel('Accuracy')\n",
        "plt.xlabel('Epoch')\n",
        "plt.legend(['Train'], loc='upper left')\n",
        "plt.show()"
      ],
      "metadata": {
        "id": "YeJ5IH4UfSOg",
        "colab": {
          "base_uri": "https://localhost:8080/",
          "height": 295
        },
        "outputId": "cbf294b9-706d-418b-88d4-db5beae9bcbb"
      },
      "execution_count": null,
      "outputs": [
        {
          "output_type": "display_data",
          "data": {
            "text/plain": [
              "<Figure size 432x288 with 1 Axes>"
            ],
            "image/png": "[encoded data removed]"
          },
          "metadata": {
            "needs_background": "light"
          }
        }
      ]
    },
    {
      "cell_type": "code",
      "source": [
        ""
      ],
      "metadata": {
        "id": "PCREngje2UKr"
      },
      "execution_count": null,
      "outputs": []
    },
    {
      "cell_type": "code",
      "source": [
        "preds_fi = CNN_model.predict(feature_test_fi)\n",
        "for col in pd.DataFrame(preds_fi).columns:\n",
        "  print(pd.DataFrame(preds_fi)[col].describe())"
      ],
      "metadata": {
        "colab": {
          "base_uri": "https://localhost:8080/"
        },
        "id": "AqA8WWzx2UmM",
        "outputId": "837d5e9e-dedf-4e87-e48d-2c869f3439cc"
      },
      "execution_count": null,
      "outputs": [
        {
          "output_type": "stream",
          "name": "stdout",
          "text": [
            "count    1.630000e+02\n",
            "mean     2.002142e-10\n",
            "std      6.049461e-10\n",
            "min      3.914399e-12\n",
            "25%      2.005606e-11\n",
            "50%      6.630131e-11\n",
            "75%      2.166889e-10\n",
            "max      7.147507e-09\n",
            "Name: 0, dtype: float64\n"
          ]
        }
      ]
    },
    {
      "cell_type": "code",
      "source": [
        "print(len(y_train_fi), '\\n',len(y_train_eq))"
      ],
      "metadata": {
        "id": "sFqDSB6fY_IA",
        "colab": {
          "base_uri": "https://localhost:8080/"
        },
        "outputId": "c905690a-bf29-4162-a1bc-8bd7370c1fab"
      },
      "execution_count": null,
      "outputs": [
        {
          "output_type": "stream",
          "name": "stdout",
          "text": [
            "378 \n",
            " 378\n"
          ]
        }
      ]
    },
    {
      "cell_type": "code",
      "source": [
        "keras_tokenizer.fit_on_texts(top_sentences_eq)\n",
        "# word_index is the dictionary that contains the index of each words in our 2500 long vocabulary.\n",
        "sequences_train_eq = keras_tokenizer.texts_to_sequences(top_sentences_eq)\n",
        "sequences_test_eq = keras_tokenizer.texts_to_sequences(top_sentences_eq_test)\n",
        "feature_train_eq = pad_sequences(sequences_train_eq, maxlen=maxlen, dtype=float, padding='post', truncating='post')\n",
        "feature_test_eq = pad_sequences(sequences_test_eq, maxlen=maxlen, dtype=float, padding='post', truncating='post')\n",
        "\n",
        "\n",
        "\n"
      ],
      "metadata": {
        "id": "HyzFUNMUeMV9"
      },
      "execution_count": null,
      "outputs": []
    },
    {
      "cell_type": "code",
      "source": [
        "feature_train_eq = np.asarray(feature_train_eq).astype('float32')\n",
        "feature_test_eq = np.asarray(feature_test_eq).astype('float32')\n",
        "y_train_eq = np.asarray(y_train_eq).astype('float32')\n",
        "#y_test = np.asarray(y_test).astype('float32')"
      ],
      "metadata": {
        "id": "YU5QtG8Da9jg"
      },
      "execution_count": null,
      "outputs": []
    },
    {
      "cell_type": "code",
      "source": [
        "CNN_history_eq = CNN_model.fit(feature_train_eq, y_train_eq, epochs=5, batch_size=100)"
      ],
      "metadata": {
        "colab": {
          "base_uri": "https://localhost:8080/"
        },
        "id": "fVUaA_gxZI2-",
        "outputId": "167b6ece-0501-48c1-f2ed-b46ef95d37f2"
      },
      "execution_count": null,
      "outputs": [
        {
          "output_type": "stream",
          "name": "stdout",
          "text": [
            "Epoch 1/5\n",
            "4/4 [==============================] - 2s 412ms/step - loss: 1.2875 - accuracy: 0.5370\n",
            "Epoch 2/5\n",
            "4/4 [==============================] - 2s 403ms/step - loss: 1.2768 - accuracy: 0.5370\n",
            "Epoch 3/5\n",
            "4/4 [==============================] - 2s 409ms/step - loss: 1.2662 - accuracy: 0.5344\n",
            "Epoch 4/5\n",
            "4/4 [==============================] - 2s 403ms/step - loss: 1.2551 - accuracy: 0.5344\n",
            "Epoch 5/5\n",
            "4/4 [==============================] - 2s 404ms/step - loss: 1.2412 - accuracy: 0.5344\n"
          ]
        }
      ]
    },
    {
      "cell_type": "code",
      "source": [
        "# Plot training & validation accuracy\n",
        "plt.plot(CNN_history_eq.history['accuracy'])\n",
        "plt.title('EQ Model accuracy')\n",
        "plt.ylabel('Accuracy')\n",
        "plt.xlabel('Epoch')\n",
        "plt.legend(['Train'], loc='upper left')\n",
        "plt.show()"
      ],
      "metadata": {
        "id": "9FFoZOryZsJO",
        "colab": {
          "base_uri": "https://localhost:8080/",
          "height": 295
        },
        "outputId": "0ee8be41-5e71-4f3d-fffe-bd05f410f303"
      },
      "execution_count": null,
      "outputs": [
        {
          "output_type": "display_data",
          "data": {
            "text/plain": [
              "<Figure size 432x288 with 1 Axes>"
            ],
            "image/png": "[encoded data removed]"
          },
          "metadata": {
            "needs_background": "light"
          }
        }
      ]
    },
    {
      "cell_type": "code",
      "source": [
        "preds_eq = CNN_model.predict(feature_test_eq)\n",
        "for col in pd.DataFrame(preds_eq).columns:\n",
        "  print(pd.DataFrame(preds_eq)[col].describe())"
      ],
      "metadata": {
        "id": "Hq9bFxSh2dyR",
        "colab": {
          "base_uri": "https://localhost:8080/"
        },
        "outputId": "85ecb759-fc2e-494c-c3f9-4ba86ed0a124"
      },
      "execution_count": null,
      "outputs": [
        {
          "output_type": "stream",
          "name": "stdout",
          "text": [
            "count    1.630000e+02\n",
            "mean     1.730504e-09\n",
            "std      3.319950e-09\n",
            "min      5.984135e-12\n",
            "25%      2.021287e-10\n",
            "50%      7.139697e-10\n",
            "75%      1.575871e-09\n",
            "max      2.127690e-08\n",
            "Name: 0, dtype: float64\n"
          ]
        }
      ]
    },
    {
      "cell_type": "markdown",
      "source": [
        "RNN"
      ],
      "metadata": {
        "id": "eZ03Ip0nT_2Z"
      }
    },
    {
      "cell_type": "code",
      "execution_count": null,
      "metadata": {
        "id": "yvWno3RptNQo"
      },
      "outputs": [],
      "source": [
        "def create_RNN_model():\n",
        "    RNN = Sequential()\n",
        "    RNN.add(Embedding(len(word_index) + 1, word_dimension, weights=[embedding_matrix], input_length = maxlen, trainable=False))\n",
        "\n",
        "    RNN.add(Bidirectional(LSTM(word_dimension)))\n",
        "    RNN.add(Dense(word_dimension, activation='relu'))\n",
        "    RNN.add(Dense(1, activation='sigmoid'))\n",
        "    RNN.compile(loss='binary_crossentropy', optimizer='Adam', metrics=['accuracy'])\n",
        "    \n",
        "    return RNN"
      ]
    },
    {
      "cell_type": "code",
      "source": [
        "RNN_model = create_RNN_model()"
      ],
      "metadata": {
        "id": "fX9WSz3S5FX9"
      },
      "execution_count": null,
      "outputs": []
    },
    {
      "cell_type": "code",
      "execution_count": null,
      "metadata": {
        "id": "PHioSshNtNQo",
        "colab": {
          "base_uri": "https://localhost:8080/"
        },
        "outputId": "22b213b5-24e3-47ae-fe0c-59946804abbd"
      },
      "outputs": [
        {
          "output_type": "stream",
          "name": "stdout",
          "text": [
            "Epoch 1/5\n",
            "24/24 [==============================] - 305s 13s/step - loss: 0.4942 - accuracy: 0.8307\n",
            "Epoch 2/5\n",
            "24/24 [==============================] - 290s 12s/step - loss: 0.3836 - accuracy: 0.8651\n",
            "Epoch 3/5\n",
            "24/24 [==============================] - 293s 12s/step - loss: 0.3640 - accuracy: 0.8651\n",
            "Epoch 4/5\n",
            "24/24 [==============================] - 291s 12s/step - loss: 0.3299 - accuracy: 0.8677\n",
            "Epoch 5/5\n",
            "24/24 [==============================] - 292s 12s/step - loss: 0.2749 - accuracy: 0.8915\n"
          ]
        }
      ],
      "source": [
        "RNN_history = RNN_model.fit(feature_train, y_train_bf, epochs=5, batch_size=16)"
      ]
    },
    {
      "cell_type": "code",
      "source": [
        "# Plot training & validation accuracy\n",
        "plt.plot(RNN_history.history['accuracy'])\n",
        "plt.title('BF RNN Model accuracy')\n",
        "plt.ylabel('Accuracy')\n",
        "plt.xlabel('Epoch')\n",
        "plt.legend(['Train'], loc='upper left')\n",
        "plt.show()"
      ],
      "metadata": {
        "id": "6nl5mhgxKpb0",
        "colab": {
          "base_uri": "https://localhost:8080/",
          "height": 295
        },
        "outputId": "72df258e-f9f9-4a37-b50e-d0e4df2bc7b7"
      },
      "execution_count": null,
      "outputs": [
        {
          "output_type": "display_data",
          "data": {
            "text/plain": [
              "<Figure size 432x288 with 1 Axes>"
            ],
            "image/png": "[encoded data removed]"
          },
          "metadata": {
            "needs_background": "light"
          }
        }
      ]
    },
    {
      "cell_type": "code",
      "source": [
        "RNN_preds = RNN_model.predict(feature_test)\n",
        "for col in pd.DataFrame(RNN_preds).columns:\n",
        "  print(pd.DataFrame(RNN_preds)[col].describe())"
      ],
      "metadata": {
        "id": "CfS4sQ-XnqOJ",
        "colab": {
          "base_uri": "https://localhost:8080/"
        },
        "outputId": "48c76d9d-dcb5-49b3-fe4e-6c6d236f584a"
      },
      "execution_count": null,
      "outputs": [
        {
          "output_type": "stream",
          "name": "stdout",
          "text": [
            "count    163.000000\n",
            "mean       0.130805\n",
            "std        0.161927\n",
            "min        0.022245\n",
            "25%        0.036814\n",
            "50%        0.055501\n",
            "75%        0.144603\n",
            "max        0.683024\n",
            "Name: 0, dtype: float64\n"
          ]
        }
      ]
    },
    {
      "cell_type": "code",
      "source": [
        ""
      ],
      "metadata": {
        "id": "8GDcJtlJoHTR"
      },
      "execution_count": null,
      "outputs": []
    },
    {
      "cell_type": "code",
      "source": [
        "\n",
        "\n"
      ],
      "metadata": {
        "id": "77cQd3H2ocAT"
      },
      "execution_count": null,
      "outputs": []
    },
    {
      "cell_type": "code",
      "source": [
        "RNN_history_fi = RNN_model.fit(feature_train_fi, y_train_fi, epochs=5, batch_size=16)"
      ],
      "metadata": {
        "id": "lDJF3Uq_RlM5",
        "colab": {
          "base_uri": "https://localhost:8080/"
        },
        "outputId": "864a0430-f07f-468e-aede-4ad7006946ba"
      },
      "execution_count": null,
      "outputs": [
        {
          "output_type": "stream",
          "name": "stdout",
          "text": [
            "Epoch 1/5\n",
            "24/24 [==============================] - 293s 12s/step - loss: 0.6124 - accuracy: 0.7196\n",
            "Epoch 2/5\n",
            " 8/24 [=========>....................] - ETA: 3:12 - loss: 0.5208 - accuracy: 0.7734"
          ]
        }
      ]
    },
    {
      "cell_type": "code",
      "source": [
        "plt.plot(RNN_history_fi.history['accuracy'])\n",
        "plt.title('RNN FI Model accuracy')\n",
        "plt.ylabel('Accuracy')\n",
        "plt.xlabel('Epoch')\n",
        "plt.legend(['Train'], loc='upper left')\n",
        "plt.show()"
      ],
      "metadata": {
        "id": "jUHXBKoKR7eR"
      },
      "execution_count": null,
      "outputs": []
    },
    {
      "cell_type": "code",
      "source": [
        "RNN_preds_fi = RNN_model.predict(feature_test_fi)\n",
        "for col in pd.DataFrame(RNN_preds_fi).columns:\n",
        "  print(pd.DataFrame(RNN_preds_fi)[col].describe())"
      ],
      "metadata": {
        "id": "1F00DE7q2iiN"
      },
      "execution_count": null,
      "outputs": []
    },
    {
      "cell_type": "code",
      "source": [
        "RNN_history_eq = RNN_model.fit(feature_train_eq, y_train_eq, epochs=5, batch_size=16)"
      ],
      "metadata": {
        "id": "_LGVoz5vR9fT"
      },
      "execution_count": null,
      "outputs": []
    },
    {
      "cell_type": "code",
      "source": [
        "plt.plot(RNN_history_eq.history['accuracy'])\n",
        "plt.title('RNN EQ Model accuracy')\n",
        "plt.ylabel('Accuracy')\n",
        "plt.xlabel('Epoch')\n",
        "plt.legend(['Train'], loc='upper left')\n",
        "plt.show()"
      ],
      "metadata": {
        "id": "poT-nD4aSGiV"
      },
      "execution_count": null,
      "outputs": []
    },
    {
      "cell_type": "code",
      "source": [
        "RNN_preds_eq = RNN_model.predict(feature_test_eq)\n",
        "for col in pd.DataFrame(RNN_preds_eq).columns:\n",
        "  print(pd.DataFrame(RNN_preds_eq)[col].describe())"
      ],
      "metadata": {
        "id": "cpGvS2uV2m6-"
      },
      "execution_count": null,
      "outputs": []
    },
    {
      "cell_type": "markdown",
      "metadata": {
        "id": "hFgJSq_9tNQo"
      },
      "source": [
        "Outlier detection: Calculate the distance to the three knowledge bases."
      ]
    },
    {
      "cell_type": "code",
      "source": [
        "# Takes a summary, the knowledge base and some hyper parameters and returns the \"num_sent\" sentences\n",
        "# of the summary that are closer to the the knowledge base in term of spacial distances.\n",
        "def extract_sentence_score(summary, knowledge, n_closer, n_reject, num_sent):\n",
        "    # Split the summary into sentences.\n",
        "    sentences = sent_tokenize(summary)\n",
        "    sentence_scores = []\n",
        "    # Loop over the sentences.\n",
        "    for j, sentence in enumerate(sentences):\n",
        "        # we tokenize and clean the sentence\n",
        "        tokens = tokenizer(sentence)\n",
        "\n",
        "        sentence_barycentre = np.zeros(embedding_size)\n",
        "        effective_len = 0\n",
        "        # Compute the barycentre of the sentence\n",
        "        for token in tokens :\n",
        "            try :\n",
        "                sentence_barycentre += np.array(word2vec[token])\n",
        "                effective_len += 1\n",
        "            except KeyError :\n",
        "                pass\n",
        "            except :\n",
        "                raise\n",
        "            # print(sentence_barycentre)\n",
        "        \n",
        "        # Reject sentences with less than n_reject words in our word2vec map\n",
        "        if effective_len <= n_reject :\n",
        "            sentence_scores.append(1)    \n",
        "\n",
        "        else :\n",
        "            sentence_barycentre = sentence_barycentre/effective_len\n",
        "            # Compute the distance sentece_barycentre -> words in our knowledge base\n",
        "            barycentre_distance = [sum((sentence_barycentre-word2vec[key_word])**2) for key_word in knowledge]\n",
        "            barycentre_distance.sort()\n",
        "            # Create the score of the sentence by averaging the \"n_closer\" smallest distances\n",
        "            score = np.mean(barycentre_distance[:n_closer])\n",
        "            sentence_scores.append(score)\n",
        "    # Select the \"num_sent\" sentences that have the smallest score (smallest distance score with the knowledge base)\n",
        "    # sentence_scores, sentences = zip(*sorted(zip(sentence_scores, sentences)))\n",
        "    # top_sentences = sentences[:num_sent]\n",
        "    return sentence_scores"
      ],
      "metadata": {
        "id": "SnenMxDzznNr"
      },
      "execution_count": null,
      "outputs": []
    },
    {
      "cell_type": "code",
      "source": [
        "scores = outlier_summary_df.apply(lambda x : extract_sentence_score(x['summary'], knowledge_base_bf, n_closer=10, n_reject=5, num_sent=5), axis=1)"
      ],
      "metadata": {
        "id": "8wFy-PU7znTR"
      },
      "execution_count": null,
      "outputs": []
    },
    {
      "cell_type": "code",
      "source": [
        "scores"
      ],
      "metadata": {
        "id": "pQkkUJthznVZ"
      },
      "execution_count": null,
      "outputs": []
    },
    {
      "cell_type": "code",
      "source": [
        "normal_score = df_merge.apply(lambda x : extract_sentence_score(x['summary'], knowledge_base_bf, n_closer=10, n_reject=5, num_sent=5), axis=1)"
      ],
      "metadata": {
        "id": "DQjwJpKmznXx"
      },
      "execution_count": null,
      "outputs": []
    },
    {
      "cell_type": "code",
      "source": [
        "normal_score"
      ],
      "metadata": {
        "id": "2HFDAr9hz5Qd"
      },
      "execution_count": null,
      "outputs": []
    },
    {
      "cell_type": "markdown",
      "source": [
        "The end."
      ],
      "metadata": {
        "id": "P5y4pIRiUxUn"
      }
    }
  ],
  "metadata": {
    "interpreter": {
      "hash": "bb0174faa06e2458b1a3c3f4d4d7c998d0bf7ae2c0908779820b51a631737a24"
    },
    "kernelspec": {
      "display_name": "Python 3.8.5 ('base')",
      "language": "python",
      "name": "python3"
    },
    "language_info": {
      "codemirror_mode": {
        "name": "ipython",
        "version": 3
      },
      "file_extension": ".py",
      "mimetype": "text/x-python",
      "name": "python",
      "nbconvert_exporter": "python",
      "pygments_lexer": "ipython3",
      "version": "3.8.5"
    },
    "orig_nbformat": 4,
    "colab": {
      "name": "Testing4final_project_0505.ipynb",
      "provenance": [],
      "collapsed_sections": []
    }
  },
  "nbformat": 4,
  "nbformat_minor": 0
}